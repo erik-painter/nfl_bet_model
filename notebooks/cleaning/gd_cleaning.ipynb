{
 "cells": [
  {
   "cell_type": "markdown",
   "id": "d4a26533",
   "metadata": {},
   "source": [
    "# Cleaning Game-by-Game NFL Data"
   ]
  },
  {
   "cell_type": "markdown",
   "id": "df39e3c7",
   "metadata": {},
   "source": [
    "I will be uploading csv files that contain NFL game by game data. I will then be cleaing it so I can process it further and eventually merge it with other data."
   ]
  },
  {
   "cell_type": "code",
   "execution_count": 1,
   "id": "0e35d428",
   "metadata": {},
   "outputs": [],
   "source": [
    "import os\n",
    "import numpy as np\n",
    "import pandas as pd\n",
    "import re"
   ]
  },
  {
   "cell_type": "code",
   "execution_count": 2,
   "id": "6e0f3bb8",
   "metadata": {},
   "outputs": [],
   "source": [
    "df_20 = pd.read_csv('/Users/epainter/Desktop/bet_model_v2/data/raw/gd_2020.csv')\n",
    "df_21 = pd.read_csv('/Users/epainter/Desktop/bet_model_v2/data/raw/gd_2021.csv')\n",
    "df_22 = pd.read_csv('/Users/epainter/Desktop/bet_model_v2/data/raw/gd_2022.csv')\n",
    "df_23 = pd.read_csv('/Users/epainter/Desktop/bet_model_v2/data/raw/gd_2023.csv')"
   ]
  },
  {
   "cell_type": "markdown",
   "id": "349f7cba",
   "metadata": {},
   "source": [
    "First step is to get rid of weeks that include playoff games, similar to how we cleaned the historical NFL betting data.\n",
    "\n",
    "Again, this is due to the fact that we want to the model to work with regular season, not playoff games."
   ]
  },
  {
   "cell_type": "code",
   "execution_count": 3,
   "id": "fcf91868",
   "metadata": {},
   "outputs": [],
   "source": [
    "# For matching purposes we need to add a year to each data frame\n",
    "\n",
    "df_20['Season'] = 2020\n",
    "df_21['Season'] = 2021\n",
    "df_22['Season'] = 2022\n",
    "df_23['Season'] = 2023\n",
    "\n",
    "df_list = [df_20, df_21, df_22, df_23]\n",
    "\n",
    "for i in range(len(df_list)):\n",
    "    df = df_list[i]\n",
    "    \n",
    "    values_to_drop = ['WildCard', 'Division', 'ConfChamp', 'SuperBowl']  # List of values to drop\n",
    "    df = df[~df['Week'].isin(values_to_drop)]\n",
    "    \n",
    "    df = df[~df['Week'].isna()]\n",
    "    \n",
    "    cols_drop = ['Day', 'Date', 'Time', 'Unnamed: 5', 'Unnamed: 7']\n",
    "    df = df.drop(columns=cols_drop)\n",
    "    \n",
    "    # Rename columns\n",
    "    new_col_names = {\n",
    "        'Week': 'week', \n",
    "        'Winner/tie': 'winner', \n",
    "        'Loser/tie': 'loser', \n",
    "        'Pts': 'pts_w', \n",
    "        'Pts.1': 'pts_l', \n",
    "        'YdsW': 'yds_w', \n",
    "        'TOW': 'to_w', \n",
    "        'YdsL': 'yds_l',\n",
    "        'TOL': 'to_l',\n",
    "        'Season': 'season'\n",
    "    }\n",
    "    df = df.rename(columns=new_col_names)\n",
    "    \n",
    "    df['week'] = df['week'].astype(int)\n",
    "    \n",
    "    # Assign the modified DataFrame back to the list\n",
    "    df_list[i] = df\n",
    "    "
   ]
  },
  {
   "cell_type": "markdown",
   "id": "1e213645",
   "metadata": {},
   "source": [
    "I created a list where each item is an entire NFL seasons regular season game by game data. Below I just assigned each item back to the original data frame."
   ]
  },
  {
   "cell_type": "code",
   "execution_count": 4,
   "id": "91e05272",
   "metadata": {
    "scrolled": true
   },
   "outputs": [],
   "source": [
    "df_20 = df_list[0]\n",
    "df_21 = df_list[1]\n",
    "df_22 = df_list[2]\n",
    "df_23 = df_list[3]"
   ]
  },
  {
   "cell_type": "markdown",
   "id": "3e7aa545",
   "metadata": {},
   "source": [
    "## Merging All Data"
   ]
  },
  {
   "cell_type": "markdown",
   "id": "07c9db84",
   "metadata": {},
   "source": [
    "Here we will merge each seasons game by game data frame together into 1 data frame."
   ]
  },
  {
   "cell_type": "code",
   "execution_count": 6,
   "id": "ecf2e2af",
   "metadata": {},
   "outputs": [],
   "source": [
    "df_combined = pd.concat(df_list, ignore_index=True)"
   ]
  },
  {
   "cell_type": "code",
   "execution_count": 7,
   "id": "ba149422",
   "metadata": {},
   "outputs": [
    {
     "data": {
      "text/html": [
       "<div>\n",
       "<style scoped>\n",
       "    .dataframe tbody tr th:only-of-type {\n",
       "        vertical-align: middle;\n",
       "    }\n",
       "\n",
       "    .dataframe tbody tr th {\n",
       "        vertical-align: top;\n",
       "    }\n",
       "\n",
       "    .dataframe thead th {\n",
       "        text-align: right;\n",
       "    }\n",
       "</style>\n",
       "<table border=\"1\" class=\"dataframe\">\n",
       "  <thead>\n",
       "    <tr style=\"text-align: right;\">\n",
       "      <th></th>\n",
       "      <th>week</th>\n",
       "      <th>winner</th>\n",
       "      <th>loser</th>\n",
       "      <th>pts_w</th>\n",
       "      <th>pts_l</th>\n",
       "      <th>yds_w</th>\n",
       "      <th>to_w</th>\n",
       "      <th>yds_l</th>\n",
       "      <th>to_l</th>\n",
       "      <th>season</th>\n",
       "    </tr>\n",
       "  </thead>\n",
       "  <tbody>\n",
       "    <tr>\n",
       "      <th>0</th>\n",
       "      <td>1</td>\n",
       "      <td>Kansas City Chiefs</td>\n",
       "      <td>Houston Texans</td>\n",
       "      <td>34.0</td>\n",
       "      <td>20.0</td>\n",
       "      <td>369.0</td>\n",
       "      <td>0.0</td>\n",
       "      <td>360.0</td>\n",
       "      <td>1.0</td>\n",
       "      <td>2020</td>\n",
       "    </tr>\n",
       "    <tr>\n",
       "      <th>1</th>\n",
       "      <td>1</td>\n",
       "      <td>Seattle Seahawks</td>\n",
       "      <td>Atlanta Falcons</td>\n",
       "      <td>38.0</td>\n",
       "      <td>25.0</td>\n",
       "      <td>383.0</td>\n",
       "      <td>0.0</td>\n",
       "      <td>506.0</td>\n",
       "      <td>2.0</td>\n",
       "      <td>2020</td>\n",
       "    </tr>\n",
       "    <tr>\n",
       "      <th>2</th>\n",
       "      <td>1</td>\n",
       "      <td>Buffalo Bills</td>\n",
       "      <td>New York Jets</td>\n",
       "      <td>27.0</td>\n",
       "      <td>17.0</td>\n",
       "      <td>404.0</td>\n",
       "      <td>2.0</td>\n",
       "      <td>254.0</td>\n",
       "      <td>2.0</td>\n",
       "      <td>2020</td>\n",
       "    </tr>\n",
       "    <tr>\n",
       "      <th>3</th>\n",
       "      <td>1</td>\n",
       "      <td>Las Vegas Raiders</td>\n",
       "      <td>Carolina Panthers</td>\n",
       "      <td>34.0</td>\n",
       "      <td>30.0</td>\n",
       "      <td>372.0</td>\n",
       "      <td>0.0</td>\n",
       "      <td>388.0</td>\n",
       "      <td>0.0</td>\n",
       "      <td>2020</td>\n",
       "    </tr>\n",
       "    <tr>\n",
       "      <th>4</th>\n",
       "      <td>1</td>\n",
       "      <td>Chicago Bears</td>\n",
       "      <td>Detroit Lions</td>\n",
       "      <td>27.0</td>\n",
       "      <td>23.0</td>\n",
       "      <td>363.0</td>\n",
       "      <td>0.0</td>\n",
       "      <td>426.0</td>\n",
       "      <td>1.0</td>\n",
       "      <td>2020</td>\n",
       "    </tr>\n",
       "    <tr>\n",
       "      <th>...</th>\n",
       "      <td>...</td>\n",
       "      <td>...</td>\n",
       "      <td>...</td>\n",
       "      <td>...</td>\n",
       "      <td>...</td>\n",
       "      <td>...</td>\n",
       "      <td>...</td>\n",
       "      <td>...</td>\n",
       "      <td>...</td>\n",
       "      <td>...</td>\n",
       "    </tr>\n",
       "    <tr>\n",
       "      <th>1066</th>\n",
       "      <td>18</td>\n",
       "      <td>Las Vegas Raiders</td>\n",
       "      <td>Denver Broncos</td>\n",
       "      <td>27.0</td>\n",
       "      <td>14.0</td>\n",
       "      <td>359.0</td>\n",
       "      <td>0.0</td>\n",
       "      <td>286.0</td>\n",
       "      <td>1.0</td>\n",
       "      <td>2023</td>\n",
       "    </tr>\n",
       "    <tr>\n",
       "      <th>1067</th>\n",
       "      <td>18</td>\n",
       "      <td>Kansas City Chiefs</td>\n",
       "      <td>Los Angeles Chargers</td>\n",
       "      <td>13.0</td>\n",
       "      <td>12.0</td>\n",
       "      <td>268.0</td>\n",
       "      <td>1.0</td>\n",
       "      <td>353.0</td>\n",
       "      <td>1.0</td>\n",
       "      <td>2023</td>\n",
       "    </tr>\n",
       "    <tr>\n",
       "      <th>1068</th>\n",
       "      <td>18</td>\n",
       "      <td>New York Giants</td>\n",
       "      <td>Philadelphia Eagles</td>\n",
       "      <td>27.0</td>\n",
       "      <td>10.0</td>\n",
       "      <td>415.0</td>\n",
       "      <td>1.0</td>\n",
       "      <td>299.0</td>\n",
       "      <td>4.0</td>\n",
       "      <td>2023</td>\n",
       "    </tr>\n",
       "    <tr>\n",
       "      <th>1069</th>\n",
       "      <td>18</td>\n",
       "      <td>Los Angeles Rams</td>\n",
       "      <td>San Francisco 49ers</td>\n",
       "      <td>21.0</td>\n",
       "      <td>20.0</td>\n",
       "      <td>258.0</td>\n",
       "      <td>1.0</td>\n",
       "      <td>300.0</td>\n",
       "      <td>1.0</td>\n",
       "      <td>2023</td>\n",
       "    </tr>\n",
       "    <tr>\n",
       "      <th>1070</th>\n",
       "      <td>18</td>\n",
       "      <td>Buffalo Bills</td>\n",
       "      <td>Miami Dolphins</td>\n",
       "      <td>21.0</td>\n",
       "      <td>14.0</td>\n",
       "      <td>473.0</td>\n",
       "      <td>3.0</td>\n",
       "      <td>275.0</td>\n",
       "      <td>2.0</td>\n",
       "      <td>2023</td>\n",
       "    </tr>\n",
       "  </tbody>\n",
       "</table>\n",
       "<p>1071 rows × 10 columns</p>\n",
       "</div>"
      ],
      "text/plain": [
       "      week              winner                 loser  pts_w  pts_l  yds_w  \\\n",
       "0        1  Kansas City Chiefs        Houston Texans   34.0   20.0  369.0   \n",
       "1        1    Seattle Seahawks       Atlanta Falcons   38.0   25.0  383.0   \n",
       "2        1       Buffalo Bills         New York Jets   27.0   17.0  404.0   \n",
       "3        1   Las Vegas Raiders     Carolina Panthers   34.0   30.0  372.0   \n",
       "4        1       Chicago Bears         Detroit Lions   27.0   23.0  363.0   \n",
       "...    ...                 ...                   ...    ...    ...    ...   \n",
       "1066    18   Las Vegas Raiders        Denver Broncos   27.0   14.0  359.0   \n",
       "1067    18  Kansas City Chiefs  Los Angeles Chargers   13.0   12.0  268.0   \n",
       "1068    18     New York Giants   Philadelphia Eagles   27.0   10.0  415.0   \n",
       "1069    18    Los Angeles Rams   San Francisco 49ers   21.0   20.0  258.0   \n",
       "1070    18       Buffalo Bills        Miami Dolphins   21.0   14.0  473.0   \n",
       "\n",
       "      to_w  yds_l  to_l  season  \n",
       "0      0.0  360.0   1.0    2020  \n",
       "1      0.0  506.0   2.0    2020  \n",
       "2      2.0  254.0   2.0    2020  \n",
       "3      0.0  388.0   0.0    2020  \n",
       "4      0.0  426.0   1.0    2020  \n",
       "...    ...    ...   ...     ...  \n",
       "1066   0.0  286.0   1.0    2023  \n",
       "1067   1.0  353.0   1.0    2023  \n",
       "1068   1.0  299.0   4.0    2023  \n",
       "1069   1.0  300.0   1.0    2023  \n",
       "1070   3.0  275.0   2.0    2023  \n",
       "\n",
       "[1071 rows x 10 columns]"
      ]
     },
     "execution_count": 7,
     "metadata": {},
     "output_type": "execute_result"
    }
   ],
   "source": [
    "df_combined"
   ]
  },
  {
   "cell_type": "markdown",
   "id": "15149532",
   "metadata": {},
   "source": [
    "# Write to CSV"
   ]
  },
  {
   "cell_type": "code",
   "execution_count": 8,
   "id": "9a4f7368",
   "metadata": {},
   "outputs": [
    {
     "name": "stdout",
     "output_type": "stream",
     "text": [
      "Data saved to /Users/epainter/Desktop/bet_model_v2/data/clean/gd_clean.csv\n"
     ]
    }
   ],
   "source": [
    "fp = '/Users/epainter/Desktop/bet_model_v2/data/clean/gd_clean.csv'\n",
    "\n",
    "df_combined.to_csv(fp, index=False)\n",
    "\n",
    "print(f\"Data saved to {fp}\")"
   ]
  },
  {
   "cell_type": "code",
   "execution_count": null,
   "id": "531bc4d9",
   "metadata": {},
   "outputs": [],
   "source": []
  }
 ],
 "metadata": {
  "kernelspec": {
   "display_name": "Python 3 (ipykernel)",
   "language": "python",
   "name": "python3"
  },
  "language_info": {
   "codemirror_mode": {
    "name": "ipython",
    "version": 3
   },
   "file_extension": ".py",
   "mimetype": "text/x-python",
   "name": "python",
   "nbconvert_exporter": "python",
   "pygments_lexer": "ipython3",
   "version": "3.9.12"
  }
 },
 "nbformat": 4,
 "nbformat_minor": 5
}
