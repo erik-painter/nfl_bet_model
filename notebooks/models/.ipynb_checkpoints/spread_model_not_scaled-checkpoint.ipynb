{
 "cells": [
  {
   "cell_type": "code",
   "execution_count": 1,
   "id": "2e642672",
   "metadata": {},
   "outputs": [
    {
     "name": "stderr",
     "output_type": "stream",
     "text": [
      "/Users/epainter/opt/anaconda3/lib/python3.9/site-packages/pandas/core/computation/expressions.py:21: UserWarning: Pandas requires version '2.8.4' or newer of 'numexpr' (version '2.8.1' currently installed).\n",
      "  from pandas.core.computation.check import NUMEXPR_INSTALLED\n",
      "/Users/epainter/opt/anaconda3/lib/python3.9/site-packages/pandas/core/arrays/masked.py:60: UserWarning: Pandas requires version '1.3.6' or newer of 'bottleneck' (version '1.3.4' currently installed).\n",
      "  from pandas.core import (\n"
     ]
    }
   ],
   "source": [
    "import numpy as np\n",
    "import pandas as pd\n",
    "\n",
    "from sklearn.model_selection import train_test_split\n",
    "\n",
    "from sklearn.feature_selection import VarianceThreshold"
   ]
  },
  {
   "cell_type": "code",
   "execution_count": 2,
   "id": "3e4a44eb",
   "metadata": {},
   "outputs": [
    {
     "data": {
      "text/html": [
       "<div>\n",
       "<style scoped>\n",
       "    .dataframe tbody tr th:only-of-type {\n",
       "        vertical-align: middle;\n",
       "    }\n",
       "\n",
       "    .dataframe tbody tr th {\n",
       "        vertical-align: top;\n",
       "    }\n",
       "\n",
       "    .dataframe thead th {\n",
       "        text-align: right;\n",
       "    }\n",
       "</style>\n",
       "<table border=\"1\" class=\"dataframe\">\n",
       "  <thead>\n",
       "    <tr style=\"text-align: right;\">\n",
       "      <th></th>\n",
       "      <th>spread</th>\n",
       "      <th>ou_value</th>\n",
       "      <th>fav_ml_result</th>\n",
       "      <th>fav_sp_result</th>\n",
       "      <th>ou_result</th>\n",
       "      <th>fav_ppg</th>\n",
       "      <th>und_ppg</th>\n",
       "      <th>fav_papg</th>\n",
       "      <th>und_papg</th>\n",
       "      <th>fav_ypg</th>\n",
       "      <th>...</th>\n",
       "      <th>ypg_diff</th>\n",
       "      <th>topg_diff</th>\n",
       "      <th>avg_mov_diff</th>\n",
       "      <th>win_pct_diff</th>\n",
       "      <th>last_5_win_pct_diff</th>\n",
       "      <th>team_ovr_diff</th>\n",
       "      <th>ypg_sum</th>\n",
       "      <th>ppg_ratio</th>\n",
       "      <th>ypg_ratio</th>\n",
       "      <th>avg_mov_ratio</th>\n",
       "    </tr>\n",
       "  </thead>\n",
       "  <tbody>\n",
       "    <tr>\n",
       "      <th>0</th>\n",
       "      <td>-9.5</td>\n",
       "      <td>53.5</td>\n",
       "      <td>1</td>\n",
       "      <td>1.0</td>\n",
       "      <td>1</td>\n",
       "      <td>34.0</td>\n",
       "      <td>20.0</td>\n",
       "      <td>20.0</td>\n",
       "      <td>34.0</td>\n",
       "      <td>369.0</td>\n",
       "      <td>...</td>\n",
       "      <td>9.0</td>\n",
       "      <td>-1.0</td>\n",
       "      <td>28.0</td>\n",
       "      <td>1.0</td>\n",
       "      <td>1.0</td>\n",
       "      <td>5.35</td>\n",
       "      <td>729.0</td>\n",
       "      <td>1.70</td>\n",
       "      <td>1.02</td>\n",
       "      <td>-1.0</td>\n",
       "    </tr>\n",
       "    <tr>\n",
       "      <th>1</th>\n",
       "      <td>-1.0</td>\n",
       "      <td>49.5</td>\n",
       "      <td>0</td>\n",
       "      <td>0.0</td>\n",
       "      <td>1</td>\n",
       "      <td>25.0</td>\n",
       "      <td>38.0</td>\n",
       "      <td>38.0</td>\n",
       "      <td>25.0</td>\n",
       "      <td>506.0</td>\n",
       "      <td>...</td>\n",
       "      <td>123.0</td>\n",
       "      <td>2.0</td>\n",
       "      <td>-26.0</td>\n",
       "      <td>-1.0</td>\n",
       "      <td>-1.0</td>\n",
       "      <td>-1.00</td>\n",
       "      <td>889.0</td>\n",
       "      <td>0.66</td>\n",
       "      <td>1.32</td>\n",
       "      <td>-1.0</td>\n",
       "    </tr>\n",
       "    <tr>\n",
       "      <th>2</th>\n",
       "      <td>-7.0</td>\n",
       "      <td>47.0</td>\n",
       "      <td>1</td>\n",
       "      <td>1.0</td>\n",
       "      <td>0</td>\n",
       "      <td>38.0</td>\n",
       "      <td>6.0</td>\n",
       "      <td>6.0</td>\n",
       "      <td>38.0</td>\n",
       "      <td>381.0</td>\n",
       "      <td>...</td>\n",
       "      <td>75.0</td>\n",
       "      <td>-2.0</td>\n",
       "      <td>64.0</td>\n",
       "      <td>1.0</td>\n",
       "      <td>1.0</td>\n",
       "      <td>4.31</td>\n",
       "      <td>687.0</td>\n",
       "      <td>6.33</td>\n",
       "      <td>1.25</td>\n",
       "      <td>-1.0</td>\n",
       "    </tr>\n",
       "    <tr>\n",
       "      <th>3</th>\n",
       "      <td>-6.5</td>\n",
       "      <td>39.5</td>\n",
       "      <td>1</td>\n",
       "      <td>1.0</td>\n",
       "      <td>1</td>\n",
       "      <td>27.0</td>\n",
       "      <td>17.0</td>\n",
       "      <td>17.0</td>\n",
       "      <td>27.0</td>\n",
       "      <td>404.0</td>\n",
       "      <td>...</td>\n",
       "      <td>150.0</td>\n",
       "      <td>0.0</td>\n",
       "      <td>20.0</td>\n",
       "      <td>1.0</td>\n",
       "      <td>1.0</td>\n",
       "      <td>-10.92</td>\n",
       "      <td>658.0</td>\n",
       "      <td>1.59</td>\n",
       "      <td>1.59</td>\n",
       "      <td>-1.0</td>\n",
       "    </tr>\n",
       "    <tr>\n",
       "      <th>4</th>\n",
       "      <td>-3.0</td>\n",
       "      <td>48.0</td>\n",
       "      <td>1</td>\n",
       "      <td>1.0</td>\n",
       "      <td>1</td>\n",
       "      <td>34.0</td>\n",
       "      <td>30.0</td>\n",
       "      <td>30.0</td>\n",
       "      <td>34.0</td>\n",
       "      <td>372.0</td>\n",
       "      <td>...</td>\n",
       "      <td>-16.0</td>\n",
       "      <td>0.0</td>\n",
       "      <td>8.0</td>\n",
       "      <td>1.0</td>\n",
       "      <td>1.0</td>\n",
       "      <td>-0.89</td>\n",
       "      <td>760.0</td>\n",
       "      <td>1.13</td>\n",
       "      <td>0.96</td>\n",
       "      <td>-1.0</td>\n",
       "    </tr>\n",
       "  </tbody>\n",
       "</table>\n",
       "<p>5 rows × 38 columns</p>\n",
       "</div>"
      ],
      "text/plain": [
       "   spread  ou_value  fav_ml_result  fav_sp_result  ou_result  fav_ppg  \\\n",
       "0    -9.5      53.5              1            1.0          1     34.0   \n",
       "1    -1.0      49.5              0            0.0          1     25.0   \n",
       "2    -7.0      47.0              1            1.0          0     38.0   \n",
       "3    -6.5      39.5              1            1.0          1     27.0   \n",
       "4    -3.0      48.0              1            1.0          1     34.0   \n",
       "\n",
       "   und_ppg  fav_papg  und_papg  fav_ypg  ...  ypg_diff  topg_diff  \\\n",
       "0     20.0      20.0      34.0    369.0  ...       9.0       -1.0   \n",
       "1     38.0      38.0      25.0    506.0  ...     123.0        2.0   \n",
       "2      6.0       6.0      38.0    381.0  ...      75.0       -2.0   \n",
       "3     17.0      17.0      27.0    404.0  ...     150.0        0.0   \n",
       "4     30.0      30.0      34.0    372.0  ...     -16.0        0.0   \n",
       "\n",
       "   avg_mov_diff  win_pct_diff  last_5_win_pct_diff  team_ovr_diff  ypg_sum  \\\n",
       "0          28.0           1.0                  1.0           5.35    729.0   \n",
       "1         -26.0          -1.0                 -1.0          -1.00    889.0   \n",
       "2          64.0           1.0                  1.0           4.31    687.0   \n",
       "3          20.0           1.0                  1.0         -10.92    658.0   \n",
       "4           8.0           1.0                  1.0          -0.89    760.0   \n",
       "\n",
       "   ppg_ratio  ypg_ratio  avg_mov_ratio  \n",
       "0       1.70       1.02           -1.0  \n",
       "1       0.66       1.32           -1.0  \n",
       "2       6.33       1.25           -1.0  \n",
       "3       1.59       1.59           -1.0  \n",
       "4       1.13       0.96           -1.0  \n",
       "\n",
       "[5 rows x 38 columns]"
      ]
     },
     "execution_count": 2,
     "metadata": {},
     "output_type": "execute_result"
    }
   ],
   "source": [
    "df = pd.read_csv('/Users/epainter/Desktop/bet_model_v2/data/processing/fc_3.csv')\n",
    "\n",
    "df.head()"
   ]
  },
  {
   "cell_type": "code",
   "execution_count": 3,
   "id": "b47aa873",
   "metadata": {},
   "outputs": [
    {
     "data": {
      "text/plain": [
       "Index(['spread', 'ou_value', 'fav_ml_result', 'fav_sp_result', 'ou_result',\n",
       "       'fav_ppg', 'und_ppg', 'fav_papg', 'und_papg', 'fav_ypg', 'und_ypg',\n",
       "       'fav_yapg', 'und_yapg', 'fav_topg', 'und_topg', 'fav_tofpg',\n",
       "       'und_tofpg', 'fav_avg_mov', 'und_avg_mov', 'fav_win_pct', 'und_win_pct',\n",
       "       'fav_last_5_win_pct', 'und_last_5_win_pct', 'fav_home_win_pct',\n",
       "       'und_home_win_pct', 'fav_away_win_pct', 'und_away_win_pct', 'ppg_diff',\n",
       "       'ypg_diff', 'topg_diff', 'avg_mov_diff', 'win_pct_diff',\n",
       "       'last_5_win_pct_diff', 'team_ovr_diff', 'ypg_sum', 'ppg_ratio',\n",
       "       'ypg_ratio', 'avg_mov_ratio'],\n",
       "      dtype='object')"
      ]
     },
     "execution_count": 3,
     "metadata": {},
     "output_type": "execute_result"
    }
   ],
   "source": [
    "df.columns"
   ]
  },
  {
   "cell_type": "code",
   "execution_count": 4,
   "id": "c062c6c2",
   "metadata": {},
   "outputs": [],
   "source": [
    "cols = ['fav_sp_result','fav_ppg', 'und_ppg', 'fav_papg', 'und_papg', 'fav_ypg', 'und_ypg',\n",
    "       'fav_yapg', 'und_yapg', 'fav_topg', 'und_topg', 'fav_tofpg',\n",
    "       'und_tofpg', 'fav_avg_mov', 'und_avg_mov', 'fav_win_pct', 'und_win_pct',\n",
    "       'fav_last_5_win_pct', 'und_last_5_win_pct', 'fav_home_win_pct',\n",
    "       'und_home_win_pct', 'fav_away_win_pct', 'und_away_win_pct', 'ppg_diff',\n",
    "       'ypg_diff', 'topg_diff', 'avg_mov_diff', 'win_pct_diff',\n",
    "       'last_5_win_pct_diff', 'team_ovr_diff', 'ypg_sum', 'ppg_ratio',\n",
    "       'ypg_ratio']\n",
    "\n",
    "filt_df = df[cols]"
   ]
  },
  {
   "cell_type": "markdown",
   "id": "2a4e1891",
   "metadata": {},
   "source": [
    "# Feature Selection"
   ]
  },
  {
   "cell_type": "markdown",
   "id": "b3b95c33",
   "metadata": {},
   "source": [
    "## 1.) Dropping constant/quasi-constant features"
   ]
  },
  {
   "cell_type": "code",
   "execution_count": 5,
   "id": "a9f3f602",
   "metadata": {},
   "outputs": [
    {
     "data": {
      "text/plain": [
       "((856, 32), (215, 32))"
      ]
     },
     "execution_count": 5,
     "metadata": {},
     "output_type": "execute_result"
    }
   ],
   "source": [
    "X = filt_df.drop(columns=['fav_sp_result'])\n",
    "y = filt_df['fav_sp_result']\n",
    "\n",
    "X_train, X_test, y_train, y_test = train_test_split(X, y, test_size = 0.2, random_state = 0)\n",
    "\n",
    "X_train.shape, X_test.shape"
   ]
  },
  {
   "cell_type": "code",
   "execution_count": 6,
   "id": "287cb4e3",
   "metadata": {},
   "outputs": [
    {
     "data": {
      "text/plain": [
       "32"
      ]
     },
     "execution_count": 6,
     "metadata": {},
     "output_type": "execute_result"
    }
   ],
   "source": [
    "sel = VarianceThreshold(threshold=0.01)\n",
    "\n",
    "sel.fit(X_train) # finds features with very low variance\n",
    "\n",
    "sum(sel.get_support()) # Number of features that have higher variance than our selected threshold"
   ]
  },
  {
   "cell_type": "markdown",
   "id": "c993436b",
   "metadata": {},
   "source": [
    "We can see that there are no constant or near constant features in our data frame"
   ]
  },
  {
   "cell_type": "markdown",
   "id": "f229b126",
   "metadata": {},
   "source": [
    "## 2.) Correlation Techniques"
   ]
  },
  {
   "cell_type": "markdown",
   "id": "fbbf31e1",
   "metadata": {},
   "source": [
    "Selects subset of features that contain features highly correlated with the target but they uncorrelated with eachother.\n",
    "\n",
    "Feature selection is usually done after data pre-processing (transforming/scaling) my data, so I will do that first."
   ]
  },
  {
   "cell_type": "markdown",
   "id": "bcbe0d40",
   "metadata": {},
   "source": [
    "Scaling the data depends on how the features are structured. For example if there are outliers, using a standard scaler (removing the mean from each value and scaling to a unit variance) may not be useful as the outliers disproportionately affect the mean and standard deviation which leads to less effective scaling.\n",
    "\n",
    "This also affects the distribution of each feature which can affect how scaling and normalization methods peform.\n",
    "\n",
    "By using a robust scaler we can use the median and IQR to scale our data which often give us much better results. This method is widely used for data that has outliers."
   ]
  },
  {
   "cell_type": "code",
   "execution_count": 7,
   "id": "d538e485",
   "metadata": {},
   "outputs": [
    {
     "data": {
      "text/plain": [
       "Index(['fav_ppg', 'und_ppg', 'fav_papg', 'und_papg', 'fav_ypg', 'und_ypg',\n",
       "       'fav_yapg', 'und_yapg', 'fav_topg', 'und_topg', 'fav_tofpg',\n",
       "       'und_tofpg', 'fav_avg_mov', 'und_avg_mov', 'fav_win_pct', 'und_win_pct',\n",
       "       'fav_last_5_win_pct', 'und_last_5_win_pct', 'fav_home_win_pct',\n",
       "       'und_home_win_pct', 'fav_away_win_pct', 'und_away_win_pct', 'ppg_diff',\n",
       "       'ypg_diff', 'topg_diff', 'avg_mov_diff', 'win_pct_diff',\n",
       "       'last_5_win_pct_diff', 'team_ovr_diff', 'ypg_sum', 'ppg_ratio',\n",
       "       'ypg_ratio'],\n",
       "      dtype='object')"
      ]
     },
     "execution_count": 7,
     "metadata": {},
     "output_type": "execute_result"
    }
   ],
   "source": [
    "X_train.columns"
   ]
  },
  {
   "cell_type": "markdown",
   "id": "65ff9ef6",
   "metadata": {},
   "source": [
    "Will first check how each of our features is distributed and see if outliers are present."
   ]
  },
  {
   "cell_type": "code",
   "execution_count": 8,
   "id": "4ad8417c",
   "metadata": {
    "scrolled": true
   },
   "outputs": [
    {
     "data": {
      "image/png": "[encoded data removed]",
      "text/plain": [
       "<Figure size 432x288 with 1 Axes>"
      ]
     },
     "metadata": {
      "needs_background": "light"
     },
     "output_type": "display_data"
    }
   ],
   "source": [
    "import seaborn as sns\n",
    "import matplotlib.pyplot as plt\n",
    "\n",
    "sns.boxplot(y=X_train['ypg_ratio'], palette='muted')\n",
    "plt.show()"
   ]
  },
  {
   "cell_type": "markdown",
   "id": "cde57c66",
   "metadata": {},
   "source": [
    "By looking at these features, most of them contain outliers. Thus, we will use a robust scaling technique to scale our features. \n",
    "\n",
    "I may do some data imputation on these features later (TBD)"
   ]
  },
  {
   "cell_type": "markdown",
   "id": "dceca644",
   "metadata": {},
   "source": [
    "### Correlations"
   ]
  },
  {
   "cell_type": "markdown",
   "id": "b9c72fb8",
   "metadata": {},
   "source": [
    "Will first check if features are correlated to one another"
   ]
  },
  {
   "cell_type": "code",
   "execution_count": 9,
   "id": "aba62a8e",
   "metadata": {},
   "outputs": [],
   "source": [
    "# with the following function we can select highly correlated features\n",
    "# it will remove the first feature that is correlated with anything else\n",
    "# without any further insight.\n",
    "\n",
    "def correlation(dataset, threshold):\n",
    "    \n",
    "    # create a set where I will store the names of correlated columns\n",
    "    col_corr = set()\n",
    "    \n",
    "    # create the correlation matrix\n",
    "    corr_matrix = dataset.corr()\n",
    "    \n",
    "    # for each feature in the dataset (columns of the correlation matrix)\n",
    "    for i in range(len(corr_matrix.columns)):\n",
    "        \n",
    "        # check with other features\n",
    "        for j in range(i):\n",
    "            \n",
    "            # if the correlation is higher than a certain threshold\n",
    "            if abs(corr_matrix.iloc[i, j]) > threshold: # we are interested in absolute coeff value\n",
    "                \n",
    "                # print correlation, and variables examined\n",
    "                # keep in mind that the columns and rows of the dataframe are identical\n",
    "                # so we can identify the features being examned by looking for i,j\n",
    "                # in the column names\n",
    "                print(abs(corr_matrix.iloc[i, j]), corr_matrix.columns[i], corr_matrix.columns[j])\n",
    "                \n",
    "                # get the name of the correlated feature\n",
    "                colname = corr_matrix.columns[j]\n",
    "                \n",
    "                # and add it to our correlated set\n",
    "                col_corr.add(colname)\n",
    "                \n",
    "    return col_corr"
   ]
  },
  {
   "cell_type": "code",
   "execution_count": 10,
   "id": "2fb4a05f",
   "metadata": {},
   "outputs": [
    {
     "name": "stdout",
     "output_type": "stream",
     "text": [
      "0.8881661569741736 fav_last_5_win_pct fav_win_pct\n",
      "0.8846854713253391 und_last_5_win_pct und_win_pct\n",
      "0.8734474907890245 last_5_win_pct_diff win_pct_diff\n",
      "0.8572594451452165 ppg_ratio ppg_diff\n",
      "0.9808927719895507 ypg_ratio ypg_diff\n"
     ]
    },
    {
     "data": {
      "text/plain": [
       "5"
      ]
     },
     "execution_count": 10,
     "metadata": {},
     "output_type": "execute_result"
    }
   ],
   "source": [
    "corr_features = correlation(X_train, 0.8)\n",
    "len(set(corr_features))"
   ]
  },
  {
   "cell_type": "markdown",
   "id": "80a9af76",
   "metadata": {},
   "source": [
    "So we can see that using the training data, we found 5 sets of variables that are highly correlated. Thus I will get rid of of one from each set of of variables. \n",
    "\n",
    "It is very likely that by removing these correlated features, the performance of the machine learning models will not drop by very much, if at all."
   ]
  },
  {
   "cell_type": "code",
   "execution_count": 11,
   "id": "8f35dbde",
   "metadata": {},
   "outputs": [
    {
     "data": {
      "text/plain": [
       "{'fav_win_pct', 'ppg_diff', 'und_win_pct', 'win_pct_diff', 'ypg_diff'}"
      ]
     },
     "execution_count": 11,
     "metadata": {},
     "output_type": "execute_result"
    }
   ],
   "source": [
    "corr_features"
   ]
  },
  {
   "cell_type": "code",
   "execution_count": 13,
   "id": "3eec8077",
   "metadata": {},
   "outputs": [],
   "source": [
    "#X_train_scaled_df.drop(labels=corr_features, axis=1, inplace=True)\n",
    "#X_test_scaled_df.drop(labels=corr_features, axis=1, inplace=True)\n",
    "\n",
    "#X_train_scaled_df.shape"
   ]
  },
  {
   "cell_type": "code",
   "execution_count": 14,
   "id": "c37315fb",
   "metadata": {},
   "outputs": [],
   "source": [
    "# So now our data frame has features that are not highly correlated with one another"
   ]
  },
  {
   "cell_type": "markdown",
   "id": "3369cbfb",
   "metadata": {},
   "source": [
    "Now that I have begun to reduce the number of features using correlation, I now want to explore some other statistical tests."
   ]
  },
  {
   "cell_type": "markdown",
   "id": "322c2c0f",
   "metadata": {},
   "source": [
    "### Mutual Information"
   ]
  },
  {
   "cell_type": "markdown",
   "id": "c11436e9",
   "metadata": {},
   "source": [
    "First lets look at how mutual information works on our data"
   ]
  },
  {
   "cell_type": "code",
   "execution_count": 15,
   "id": "c8640479",
   "metadata": {
    "scrolled": true
   },
   "outputs": [
    {
     "data": {
      "text/plain": [
       "Text(0, 0.5, 'Mutual Information')"
      ]
     },
     "execution_count": 15,
     "metadata": {},
     "output_type": "execute_result"
    },
    {
     "data": {
      "image/png": "[encoded data removed]",
      "text/plain": [
       "<Figure size 1440x432 with 1 Axes>"
      ]
     },
     "metadata": {
      "needs_background": "light"
     },
     "output_type": "display_data"
    }
   ],
   "source": [
    "from sklearn.feature_selection import SelectKBest, mutual_info_classif, f_classif\n",
    "\n",
    "mi = mutual_info_classif(X_train, y_train)\n",
    "mi\n",
    "\n",
    "mi = pd.Series(mi)\n",
    "mi.index = X_train.columns\n",
    "mi.sort_values(ascending=False).plot.bar(figsize=(20, 6))\n",
    "plt.ylabel('Mutual Information')"
   ]
  },
  {
   "cell_type": "code",
   "execution_count": 16,
   "id": "fe9cbd84",
   "metadata": {
    "scrolled": true
   },
   "outputs": [
    {
     "data": {
      "text/plain": [
       "Text(0, 0.5, 'F-Value 0')"
      ]
     },
     "execution_count": 16,
     "metadata": {},
     "output_type": "execute_result"
    },
    {
     "data": {
      "image/png": "[encoded data removed]",
      "text/plain": [
       "<Figure size 1440x432 with 1 Axes>"
      ]
     },
     "metadata": {
      "needs_background": "light"
     },
     "output_type": "display_data"
    }
   ],
   "source": [
    "# Can now do this for ANOVA\n",
    "\n",
    "anova = f_classif(X_train, y_train)\n",
    "\n",
    "anova_0 = anova[0]\n",
    "anova_1 = anova[1]\n",
    "\n",
    "# Create both plots\n",
    "anova_0 = pd.Series(anova_0)\n",
    "anova_0.index = X_train.columns\n",
    "anova_0.sort_values(ascending=False).plot.bar(figsize=(20, 6))\n",
    "plt.ylabel('F-Value 0')"
   ]
  },
  {
   "cell_type": "code",
   "execution_count": 17,
   "id": "24a40518",
   "metadata": {
    "scrolled": true
   },
   "outputs": [
    {
     "data": {
      "text/plain": [
       "Text(0, 0.5, 'F-Value 1')"
      ]
     },
     "execution_count": 17,
     "metadata": {},
     "output_type": "execute_result"
    },
    {
     "data": {
      "image/png": "[encoded data removed]",
      "text/plain": [
       "<Figure size 1440x432 with 1 Axes>"
      ]
     },
     "metadata": {
      "needs_background": "light"
     },
     "output_type": "display_data"
    }
   ],
   "source": [
    "# Create both plots\n",
    "anova_1 = pd.Series(anova_1)\n",
    "anova_1.index = X_train.columns\n",
    "anova_1.sort_values(ascending=False).plot.bar(figsize=(20, 6))\n",
    "plt.ylabel('F-Value 1')"
   ]
  },
  {
   "cell_type": "markdown",
   "id": "5efbca4b",
   "metadata": {},
   "source": [
    "We can now select the best features based on our mutual information scores or our ANOVA values"
   ]
  },
  {
   "cell_type": "markdown",
   "id": "0a6eda51",
   "metadata": {},
   "source": [
    "## Selecting Best Features"
   ]
  },
  {
   "cell_type": "code",
   "execution_count": 18,
   "id": "c6a85268",
   "metadata": {},
   "outputs": [
    {
     "data": {
      "text/html": [
       "<div>\n",
       "<style scoped>\n",
       "    .dataframe tbody tr th:only-of-type {\n",
       "        vertical-align: middle;\n",
       "    }\n",
       "\n",
       "    .dataframe tbody tr th {\n",
       "        vertical-align: top;\n",
       "    }\n",
       "\n",
       "    .dataframe thead th {\n",
       "        text-align: right;\n",
       "    }\n",
       "</style>\n",
       "<table border=\"1\" class=\"dataframe\">\n",
       "  <thead>\n",
       "    <tr style=\"text-align: right;\">\n",
       "      <th></th>\n",
       "      <th>und_ppg</th>\n",
       "      <th>fav_avg_mov</th>\n",
       "      <th>und_avg_mov</th>\n",
       "      <th>ppg_ratio</th>\n",
       "    </tr>\n",
       "  </thead>\n",
       "  <tbody>\n",
       "    <tr>\n",
       "      <th>34</th>\n",
       "      <td>28.50</td>\n",
       "      <td>6.50</td>\n",
       "      <td>10.50</td>\n",
       "      <td>1.02</td>\n",
       "    </tr>\n",
       "    <tr>\n",
       "      <th>557</th>\n",
       "      <td>19.00</td>\n",
       "      <td>-16.00</td>\n",
       "      <td>9.00</td>\n",
       "      <td>0.37</td>\n",
       "    </tr>\n",
       "    <tr>\n",
       "      <th>30</th>\n",
       "      <td>21.00</td>\n",
       "      <td>13.00</td>\n",
       "      <td>10.00</td>\n",
       "      <td>1.81</td>\n",
       "    </tr>\n",
       "    <tr>\n",
       "      <th>1044</th>\n",
       "      <td>18.27</td>\n",
       "      <td>-11.67</td>\n",
       "      <td>-1.67</td>\n",
       "      <td>1.20</td>\n",
       "    </tr>\n",
       "    <tr>\n",
       "      <th>902</th>\n",
       "      <td>25.40</td>\n",
       "      <td>7.00</td>\n",
       "      <td>2.67</td>\n",
       "      <td>0.96</td>\n",
       "    </tr>\n",
       "    <tr>\n",
       "      <th>...</th>\n",
       "      <td>...</td>\n",
       "      <td>...</td>\n",
       "      <td>...</td>\n",
       "      <td>...</td>\n",
       "    </tr>\n",
       "    <tr>\n",
       "      <th>1033</th>\n",
       "      <td>18.50</td>\n",
       "      <td>4.67</td>\n",
       "      <td>-8.33</td>\n",
       "      <td>1.11</td>\n",
       "    </tr>\n",
       "    <tr>\n",
       "      <th>763</th>\n",
       "      <td>29.36</td>\n",
       "      <td>11.00</td>\n",
       "      <td>18.67</td>\n",
       "      <td>0.96</td>\n",
       "    </tr>\n",
       "    <tr>\n",
       "      <th>835</th>\n",
       "      <td>18.00</td>\n",
       "      <td>8.50</td>\n",
       "      <td>2.00</td>\n",
       "      <td>1.72</td>\n",
       "    </tr>\n",
       "    <tr>\n",
       "      <th>559</th>\n",
       "      <td>23.00</td>\n",
       "      <td>3.00</td>\n",
       "      <td>16.00</td>\n",
       "      <td>1.65</td>\n",
       "    </tr>\n",
       "    <tr>\n",
       "      <th>684</th>\n",
       "      <td>21.78</td>\n",
       "      <td>3.00</td>\n",
       "      <td>1.67</td>\n",
       "      <td>1.04</td>\n",
       "    </tr>\n",
       "  </tbody>\n",
       "</table>\n",
       "<p>856 rows × 4 columns</p>\n",
       "</div>"
      ],
      "text/plain": [
       "      und_ppg  fav_avg_mov  und_avg_mov  ppg_ratio\n",
       "34      28.50         6.50        10.50       1.02\n",
       "557     19.00       -16.00         9.00       0.37\n",
       "30      21.00        13.00        10.00       1.81\n",
       "1044    18.27       -11.67        -1.67       1.20\n",
       "902     25.40         7.00         2.67       0.96\n",
       "...       ...          ...          ...        ...\n",
       "1033    18.50         4.67        -8.33       1.11\n",
       "763     29.36        11.00        18.67       0.96\n",
       "835     18.00         8.50         2.00       1.72\n",
       "559     23.00         3.00        16.00       1.65\n",
       "684     21.78         3.00         1.67       1.04\n",
       "\n",
       "[856 rows x 4 columns]"
      ]
     },
     "execution_count": 18,
     "metadata": {},
     "output_type": "execute_result"
    }
   ],
   "source": [
    "mi_sel = SelectKBest(mutual_info_classif, k=4)\n",
    "mi_sel.fit(X_train, y_train)\n",
    "\n",
    "# Get the indices of the selected features\n",
    "selected_feature_indices = mi_sel.get_support(indices=True)\n",
    "\n",
    "# Get the names of the selected features\n",
    "selected_feature_names = X_train.columns[selected_feature_indices]\n",
    "\n",
    "# Create a new DataFrame with only the selected features\n",
    "X_train_mi = pd.DataFrame(mi_sel.transform(X_train), \n",
    "                                columns=selected_feature_names, \n",
    "                                index=X_train.index)\n",
    "\n",
    "X_test_mi = pd.DataFrame(mi_sel.transform(X_test),\n",
    "                        columns=selected_feature_names,\n",
    "                        index=X_test.index)\n",
    "\n",
    "X_train_mi"
   ]
  },
  {
   "cell_type": "code",
   "execution_count": 19,
   "id": "80d79b83",
   "metadata": {},
   "outputs": [
    {
     "data": {
      "text/html": [
       "<div>\n",
       "<style scoped>\n",
       "    .dataframe tbody tr th:only-of-type {\n",
       "        vertical-align: middle;\n",
       "    }\n",
       "\n",
       "    .dataframe tbody tr th {\n",
       "        vertical-align: top;\n",
       "    }\n",
       "\n",
       "    .dataframe thead th {\n",
       "        text-align: right;\n",
       "    }\n",
       "</style>\n",
       "<table border=\"1\" class=\"dataframe\">\n",
       "  <thead>\n",
       "    <tr style=\"text-align: right;\">\n",
       "      <th></th>\n",
       "      <th>fav_ppg</th>\n",
       "      <th>und_ppg</th>\n",
       "      <th>fav_ypg</th>\n",
       "      <th>fav_last_5_win_pct</th>\n",
       "    </tr>\n",
       "  </thead>\n",
       "  <tbody>\n",
       "    <tr>\n",
       "      <th>34</th>\n",
       "      <td>29.00</td>\n",
       "      <td>28.50</td>\n",
       "      <td>463.50</td>\n",
       "      <td>1.0</td>\n",
       "    </tr>\n",
       "    <tr>\n",
       "      <th>557</th>\n",
       "      <td>7.00</td>\n",
       "      <td>19.00</td>\n",
       "      <td>338.00</td>\n",
       "      <td>0.0</td>\n",
       "    </tr>\n",
       "    <tr>\n",
       "      <th>30</th>\n",
       "      <td>38.00</td>\n",
       "      <td>21.00</td>\n",
       "      <td>383.00</td>\n",
       "      <td>1.0</td>\n",
       "    </tr>\n",
       "    <tr>\n",
       "      <th>1044</th>\n",
       "      <td>21.87</td>\n",
       "      <td>18.27</td>\n",
       "      <td>346.80</td>\n",
       "      <td>0.4</td>\n",
       "    </tr>\n",
       "    <tr>\n",
       "      <th>902</th>\n",
       "      <td>24.50</td>\n",
       "      <td>25.40</td>\n",
       "      <td>382.33</td>\n",
       "      <td>1.0</td>\n",
       "    </tr>\n",
       "    <tr>\n",
       "      <th>...</th>\n",
       "      <td>...</td>\n",
       "      <td>...</td>\n",
       "      <td>...</td>\n",
       "      <td>...</td>\n",
       "    </tr>\n",
       "    <tr>\n",
       "      <th>1033</th>\n",
       "      <td>20.50</td>\n",
       "      <td>18.50</td>\n",
       "      <td>317.93</td>\n",
       "      <td>0.6</td>\n",
       "    </tr>\n",
       "    <tr>\n",
       "      <th>763</th>\n",
       "      <td>28.14</td>\n",
       "      <td>29.36</td>\n",
       "      <td>362.29</td>\n",
       "      <td>0.8</td>\n",
       "    </tr>\n",
       "    <tr>\n",
       "      <th>835</th>\n",
       "      <td>31.00</td>\n",
       "      <td>18.00</td>\n",
       "      <td>276.50</td>\n",
       "      <td>0.5</td>\n",
       "    </tr>\n",
       "    <tr>\n",
       "      <th>559</th>\n",
       "      <td>38.00</td>\n",
       "      <td>23.00</td>\n",
       "      <td>455.00</td>\n",
       "      <td>1.0</td>\n",
       "    </tr>\n",
       "    <tr>\n",
       "      <th>684</th>\n",
       "      <td>22.56</td>\n",
       "      <td>21.78</td>\n",
       "      <td>319.89</td>\n",
       "      <td>0.8</td>\n",
       "    </tr>\n",
       "  </tbody>\n",
       "</table>\n",
       "<p>856 rows × 4 columns</p>\n",
       "</div>"
      ],
      "text/plain": [
       "      fav_ppg  und_ppg  fav_ypg  fav_last_5_win_pct\n",
       "34      29.00    28.50   463.50                 1.0\n",
       "557      7.00    19.00   338.00                 0.0\n",
       "30      38.00    21.00   383.00                 1.0\n",
       "1044    21.87    18.27   346.80                 0.4\n",
       "902     24.50    25.40   382.33                 1.0\n",
       "...       ...      ...      ...                 ...\n",
       "1033    20.50    18.50   317.93                 0.6\n",
       "763     28.14    29.36   362.29                 0.8\n",
       "835     31.00    18.00   276.50                 0.5\n",
       "559     38.00    23.00   455.00                 1.0\n",
       "684     22.56    21.78   319.89                 0.8\n",
       "\n",
       "[856 rows x 4 columns]"
      ]
     },
     "execution_count": 19,
     "metadata": {},
     "output_type": "execute_result"
    }
   ],
   "source": [
    "f_sel = SelectKBest(f_classif, k=4)\n",
    "f_sel.fit(X_train, y_train)\n",
    "\n",
    "# Get the indices of the selected features\n",
    "selected_feature_indices = f_sel.get_support(indices=True)\n",
    "\n",
    "# Get the names of the selected features\n",
    "selected_feature_names = X_train.columns[selected_feature_indices]\n",
    "\n",
    "# Create a new DataFrame with only the selected features\n",
    "X_train_f = pd.DataFrame(f_sel.transform(X_train), \n",
    "                                columns=selected_feature_names, \n",
    "                                index=X_train.index)\n",
    "\n",
    "X_test_f = pd.DataFrame(f_sel.transform(X_test), \n",
    "                                columns=selected_feature_names, \n",
    "                                index=X_test.index)\n",
    "\n",
    "X_train_f"
   ]
  },
  {
   "cell_type": "code",
   "execution_count": 20,
   "id": "d0fcb451",
   "metadata": {},
   "outputs": [],
   "source": [
    "# So now we have our features that are "
   ]
  },
  {
   "cell_type": "code",
   "execution_count": 21,
   "id": "119153af",
   "metadata": {},
   "outputs": [],
   "source": [
    "# So now I will try to run the model on these scaled, and filetered training and test sets"
   ]
  },
  {
   "cell_type": "code",
   "execution_count": 22,
   "id": "fd3651a7",
   "metadata": {},
   "outputs": [
    {
     "name": "stderr",
     "output_type": "stream",
     "text": [
      "/Users/epainter/opt/anaconda3/lib/python3.9/site-packages/dask/dataframe/__init__.py:42: FutureWarning: \n",
      "Dask dataframe query planning is disabled because dask-expr is not installed.\n",
      "\n",
      "You can install it with `pip install dask[dataframe]` or `conda install dask`.\n",
      "This will raise in a future version.\n",
      "\n",
      "  warnings.warn(msg, FutureWarning)\n"
     ]
    }
   ],
   "source": [
    "from sklearn.tree import DecisionTreeClassifier\n",
    "from sklearn.ensemble import RandomForestClassifier, GradientBoostingClassifier\n",
    "from sklearn.naive_bayes import GaussianNB\n",
    "from sklearn.metrics import accuracy_score, confusion_matrix, classification_report\n",
    "import xgboost as xgb\n",
    "import lightgbm as lgb"
   ]
  },
  {
   "cell_type": "code",
   "execution_count": 23,
   "id": "20a68d2e",
   "metadata": {
    "scrolled": true
   },
   "outputs": [
    {
     "name": "stdout",
     "output_type": "stream",
     "text": [
      "\n",
      "DecisionTreeClassifier Results:\n",
      "Accuracy: 0.49767441860465117\n",
      "Confusion Matrix:\n",
      " [[61 46]\n",
      " [62 46]]\n",
      "Classification Report:\n",
      "               precision    recall  f1-score   support\n",
      "\n",
      "         0.0       0.50      0.57      0.53       107\n",
      "         1.0       0.50      0.43      0.46       108\n",
      "\n",
      "    accuracy                           0.50       215\n",
      "   macro avg       0.50      0.50      0.50       215\n",
      "weighted avg       0.50      0.50      0.50       215\n",
      "\n",
      "\n",
      "RandomForestClassifier Results:\n",
      "Accuracy: 0.5069767441860465\n",
      "Confusion Matrix:\n",
      " [[69 38]\n",
      " [68 40]]\n",
      "Classification Report:\n",
      "               precision    recall  f1-score   support\n",
      "\n",
      "         0.0       0.50      0.64      0.57       107\n",
      "         1.0       0.51      0.37      0.43       108\n",
      "\n",
      "    accuracy                           0.51       215\n",
      "   macro avg       0.51      0.51      0.50       215\n",
      "weighted avg       0.51      0.51      0.50       215\n",
      "\n",
      "\n",
      "GradientBoostingClassifier Results:\n",
      "Accuracy: 0.5023255813953489\n",
      "Confusion Matrix:\n",
      " [[65 42]\n",
      " [65 43]]\n",
      "Classification Report:\n",
      "               precision    recall  f1-score   support\n",
      "\n",
      "         0.0       0.50      0.61      0.55       107\n",
      "         1.0       0.51      0.40      0.45       108\n",
      "\n",
      "    accuracy                           0.50       215\n",
      "   macro avg       0.50      0.50      0.50       215\n",
      "weighted avg       0.50      0.50      0.50       215\n",
      "\n",
      "\n",
      "GaussianNB Results:\n",
      "Accuracy: 0.5302325581395348\n",
      "Confusion Matrix:\n",
      " [[60 47]\n",
      " [54 54]]\n",
      "Classification Report:\n",
      "               precision    recall  f1-score   support\n",
      "\n",
      "         0.0       0.53      0.56      0.54       107\n",
      "         1.0       0.53      0.50      0.52       108\n",
      "\n",
      "    accuracy                           0.53       215\n",
      "   macro avg       0.53      0.53      0.53       215\n",
      "weighted avg       0.53      0.53      0.53       215\n",
      "\n",
      "\n",
      "XGBClassifier Results:\n",
      "Accuracy: 0.49767441860465117\n",
      "Confusion Matrix:\n",
      " [[66 41]\n",
      " [67 41]]\n",
      "Classification Report:\n",
      "               precision    recall  f1-score   support\n",
      "\n",
      "         0.0       0.50      0.62      0.55       107\n",
      "         1.0       0.50      0.38      0.43       108\n",
      "\n",
      "    accuracy                           0.50       215\n",
      "   macro avg       0.50      0.50      0.49       215\n",
      "weighted avg       0.50      0.50      0.49       215\n",
      "\n",
      "[LightGBM] [Info] Number of positive: 397, number of negative: 459\n",
      "[LightGBM] [Info] Auto-choosing row-wise multi-threading, the overhead of testing was 0.000055 seconds.\n",
      "You can set `force_row_wise=true` to remove the overhead.\n",
      "And if memory is not enough, you can set `force_col_wise=true`.\n",
      "[LightGBM] [Info] Total Bins 598\n",
      "[LightGBM] [Info] Number of data points in the train set: 856, number of used features: 4\n",
      "[LightGBM] [Info] [binary:BoostFromScore]: pavg=0.463785 -> initscore=-0.145114\n",
      "[LightGBM] [Info] Start training from score -0.145114\n",
      "[LightGBM] [Warning] No further splits with positive gain, best gain: -inf\n",
      "\n",
      "LGBMClassifier Results:\n",
      "Accuracy: 0.5116279069767442\n",
      "Confusion Matrix:\n",
      " [[62 45]\n",
      " [60 48]]\n",
      "Classification Report:\n",
      "               precision    recall  f1-score   support\n",
      "\n",
      "         0.0       0.51      0.58      0.54       107\n",
      "         1.0       0.52      0.44      0.48       108\n",
      "\n",
      "    accuracy                           0.51       215\n",
      "   macro avg       0.51      0.51      0.51       215\n",
      "weighted avg       0.51      0.51      0.51       215\n",
      "\n"
     ]
    }
   ],
   "source": [
    "# Define models that don't require feature scaling\n",
    "models = [\n",
    "    DecisionTreeClassifier(random_state=42),\n",
    "    RandomForestClassifier(random_state=42),\n",
    "    GradientBoostingClassifier(random_state=42),\n",
    "    GaussianNB(),\n",
    "    xgb.XGBClassifier(random_state=42),\n",
    "    lgb.LGBMClassifier(random_state=42)\n",
    "]\n",
    "\n",
    "# Train and evaluate each model\n",
    "for model in models:\n",
    "    model.fit(X_train_mi, y_train)\n",
    "    y_pred = model.predict(X_test_mi)\n",
    "    \n",
    "    print(f\"\\n{model.__class__.__name__} Results:\")\n",
    "    print(\"Accuracy:\", accuracy_score(y_test, y_pred))\n",
    "    print(\"Confusion Matrix:\\n\", confusion_matrix(y_test, y_pred))\n",
    "    print(\"Classification Report:\\n\", classification_report(y_test, y_pred))"
   ]
  },
  {
   "cell_type": "code",
   "execution_count": 24,
   "id": "87167ac5",
   "metadata": {
    "scrolled": true
   },
   "outputs": [
    {
     "name": "stdout",
     "output_type": "stream",
     "text": [
      "\n",
      "DecisionTreeClassifier Results:\n",
      "Accuracy: 0.5674418604651162\n",
      "Confusion Matrix:\n",
      " [[64 43]\n",
      " [50 58]]\n",
      "Classification Report:\n",
      "               precision    recall  f1-score   support\n",
      "\n",
      "         0.0       0.56      0.60      0.58       107\n",
      "         1.0       0.57      0.54      0.56       108\n",
      "\n",
      "    accuracy                           0.57       215\n",
      "   macro avg       0.57      0.57      0.57       215\n",
      "weighted avg       0.57      0.57      0.57       215\n",
      "\n",
      "\n",
      "RandomForestClassifier Results:\n",
      "Accuracy: 0.5023255813953489\n",
      "Confusion Matrix:\n",
      " [[67 40]\n",
      " [67 41]]\n",
      "Classification Report:\n",
      "               precision    recall  f1-score   support\n",
      "\n",
      "         0.0       0.50      0.63      0.56       107\n",
      "         1.0       0.51      0.38      0.43       108\n",
      "\n",
      "    accuracy                           0.50       215\n",
      "   macro avg       0.50      0.50      0.49       215\n",
      "weighted avg       0.50      0.50      0.49       215\n",
      "\n",
      "\n",
      "GradientBoostingClassifier Results:\n",
      "Accuracy: 0.5162790697674419\n",
      "Confusion Matrix:\n",
      " [[70 37]\n",
      " [67 41]]\n",
      "Classification Report:\n",
      "               precision    recall  f1-score   support\n",
      "\n",
      "         0.0       0.51      0.65      0.57       107\n",
      "         1.0       0.53      0.38      0.44       108\n",
      "\n",
      "    accuracy                           0.52       215\n",
      "   macro avg       0.52      0.52      0.51       215\n",
      "weighted avg       0.52      0.52      0.51       215\n",
      "\n",
      "\n",
      "GaussianNB Results:\n",
      "Accuracy: 0.5348837209302325\n",
      "Confusion Matrix:\n",
      " [[60 47]\n",
      " [53 55]]\n",
      "Classification Report:\n",
      "               precision    recall  f1-score   support\n",
      "\n",
      "         0.0       0.53      0.56      0.55       107\n",
      "         1.0       0.54      0.51      0.52       108\n",
      "\n",
      "    accuracy                           0.53       215\n",
      "   macro avg       0.54      0.54      0.53       215\n",
      "weighted avg       0.54      0.53      0.53       215\n",
      "\n",
      "\n",
      "XGBClassifier Results:\n",
      "Accuracy: 0.4790697674418605\n",
      "Confusion Matrix:\n",
      " [[63 44]\n",
      " [68 40]]\n",
      "Classification Report:\n",
      "               precision    recall  f1-score   support\n",
      "\n",
      "         0.0       0.48      0.59      0.53       107\n",
      "         1.0       0.48      0.37      0.42       108\n",
      "\n",
      "    accuracy                           0.48       215\n",
      "   macro avg       0.48      0.48      0.47       215\n",
      "weighted avg       0.48      0.48      0.47       215\n",
      "\n",
      "[LightGBM] [Info] Number of positive: 397, number of negative: 459\n",
      "[LightGBM] [Info] Auto-choosing col-wise multi-threading, the overhead of testing was 0.000067 seconds.\n",
      "You can set `force_col_wise=true` to remove the overhead.\n",
      "[LightGBM] [Info] Total Bins 769\n",
      "[LightGBM] [Info] Number of data points in the train set: 856, number of used features: 4\n",
      "[LightGBM] [Info] [binary:BoostFromScore]: pavg=0.463785 -> initscore=-0.145114\n",
      "[LightGBM] [Info] Start training from score -0.145114\n",
      "[LightGBM] [Warning] No further splits with positive gain, best gain: -inf\n",
      "\n",
      "LGBMClassifier Results:\n",
      "Accuracy: 0.5023255813953489\n",
      "Confusion Matrix:\n",
      " [[60 47]\n",
      " [60 48]]\n",
      "Classification Report:\n",
      "               precision    recall  f1-score   support\n",
      "\n",
      "         0.0       0.50      0.56      0.53       107\n",
      "         1.0       0.51      0.44      0.47       108\n",
      "\n",
      "    accuracy                           0.50       215\n",
      "   macro avg       0.50      0.50      0.50       215\n",
      "weighted avg       0.50      0.50      0.50       215\n",
      "\n"
     ]
    }
   ],
   "source": [
    "# THIS IS FOR ANOVA\n",
    "\n",
    "# Train and evaluate each model\n",
    "for model in models:\n",
    "    model.fit(X_train_f, y_train)\n",
    "    y_pred = model.predict(X_test_f)\n",
    "    \n",
    "    print(f\"\\n{model.__class__.__name__} Results:\")\n",
    "    print(\"Accuracy:\", accuracy_score(y_test, y_pred))\n",
    "    print(\"Confusion Matrix:\\n\", confusion_matrix(y_test, y_pred))\n",
    "    print(\"Classification Report:\\n\", classification_report(y_test, y_pred))"
   ]
  },
  {
   "cell_type": "code",
   "execution_count": null,
   "id": "215411b3",
   "metadata": {},
   "outputs": [],
   "source": []
  },
  {
   "cell_type": "code",
   "execution_count": null,
   "id": "54c20040",
   "metadata": {},
   "outputs": [],
   "source": []
  },
  {
   "cell_type": "code",
   "execution_count": null,
   "id": "13e8f55f",
   "metadata": {},
   "outputs": [],
   "source": []
  }
 ],
 "metadata": {
  "kernelspec": {
   "display_name": "Python 3 (ipykernel)",
   "language": "python",
   "name": "python3"
  },
  "language_info": {
   "codemirror_mode": {
    "name": "ipython",
    "version": 3
   },
   "file_extension": ".py",
   "mimetype": "text/x-python",
   "name": "python",
   "nbconvert_exporter": "python",
   "pygments_lexer": "ipython3",
   "version": "3.9.12"
  }
 },
 "nbformat": 4,
 "nbformat_minor": 5
}
