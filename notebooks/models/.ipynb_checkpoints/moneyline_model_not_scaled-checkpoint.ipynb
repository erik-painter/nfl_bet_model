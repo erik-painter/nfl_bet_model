{
 "cells": [
  {
   "cell_type": "code",
   "execution_count": 1,
   "id": "2e642672",
   "metadata": {},
   "outputs": [
    {
     "name": "stderr",
     "output_type": "stream",
     "text": [
      "/Users/epainter/opt/anaconda3/lib/python3.9/site-packages/pandas/core/computation/expressions.py:21: UserWarning: Pandas requires version '2.8.4' or newer of 'numexpr' (version '2.8.1' currently installed).\n",
      "  from pandas.core.computation.check import NUMEXPR_INSTALLED\n",
      "/Users/epainter/opt/anaconda3/lib/python3.9/site-packages/pandas/core/arrays/masked.py:60: UserWarning: Pandas requires version '1.3.6' or newer of 'bottleneck' (version '1.3.4' currently installed).\n",
      "  from pandas.core import (\n"
     ]
    }
   ],
   "source": [
    "import numpy as np\n",
    "import pandas as pd\n",
    "\n",
    "from sklearn.model_selection import train_test_split\n",
    "\n",
    "from sklearn.feature_selection import VarianceThreshold"
   ]
  },
  {
   "cell_type": "code",
   "execution_count": 2,
   "id": "3e4a44eb",
   "metadata": {},
   "outputs": [
    {
     "data": {
      "text/html": [
       "<div>\n",
       "<style scoped>\n",
       "    .dataframe tbody tr th:only-of-type {\n",
       "        vertical-align: middle;\n",
       "    }\n",
       "\n",
       "    .dataframe tbody tr th {\n",
       "        vertical-align: top;\n",
       "    }\n",
       "\n",
       "    .dataframe thead th {\n",
       "        text-align: right;\n",
       "    }\n",
       "</style>\n",
       "<table border=\"1\" class=\"dataframe\">\n",
       "  <thead>\n",
       "    <tr style=\"text-align: right;\">\n",
       "      <th></th>\n",
       "      <th>spread</th>\n",
       "      <th>ou_value</th>\n",
       "      <th>fav_ml_result</th>\n",
       "      <th>fav_sp_result</th>\n",
       "      <th>ou_result</th>\n",
       "      <th>fav_ppg</th>\n",
       "      <th>und_ppg</th>\n",
       "      <th>fav_papg</th>\n",
       "      <th>und_papg</th>\n",
       "      <th>fav_ypg</th>\n",
       "      <th>...</th>\n",
       "      <th>ypg_diff</th>\n",
       "      <th>topg_diff</th>\n",
       "      <th>avg_mov_diff</th>\n",
       "      <th>win_pct_diff</th>\n",
       "      <th>last_5_win_pct_diff</th>\n",
       "      <th>team_ovr_diff</th>\n",
       "      <th>ypg_sum</th>\n",
       "      <th>ppg_ratio</th>\n",
       "      <th>ypg_ratio</th>\n",
       "      <th>avg_mov_ratio</th>\n",
       "    </tr>\n",
       "  </thead>\n",
       "  <tbody>\n",
       "    <tr>\n",
       "      <th>0</th>\n",
       "      <td>-9.5</td>\n",
       "      <td>53.5</td>\n",
       "      <td>1</td>\n",
       "      <td>1.0</td>\n",
       "      <td>1</td>\n",
       "      <td>34.0</td>\n",
       "      <td>20.0</td>\n",
       "      <td>20.0</td>\n",
       "      <td>34.0</td>\n",
       "      <td>369.0</td>\n",
       "      <td>...</td>\n",
       "      <td>9.0</td>\n",
       "      <td>-1.0</td>\n",
       "      <td>28.0</td>\n",
       "      <td>1.0</td>\n",
       "      <td>1.0</td>\n",
       "      <td>5.35</td>\n",
       "      <td>729.0</td>\n",
       "      <td>1.70</td>\n",
       "      <td>1.02</td>\n",
       "      <td>-1.0</td>\n",
       "    </tr>\n",
       "    <tr>\n",
       "      <th>1</th>\n",
       "      <td>-1.0</td>\n",
       "      <td>49.5</td>\n",
       "      <td>0</td>\n",
       "      <td>0.0</td>\n",
       "      <td>1</td>\n",
       "      <td>25.0</td>\n",
       "      <td>38.0</td>\n",
       "      <td>38.0</td>\n",
       "      <td>25.0</td>\n",
       "      <td>506.0</td>\n",
       "      <td>...</td>\n",
       "      <td>123.0</td>\n",
       "      <td>2.0</td>\n",
       "      <td>-26.0</td>\n",
       "      <td>-1.0</td>\n",
       "      <td>-1.0</td>\n",
       "      <td>-1.00</td>\n",
       "      <td>889.0</td>\n",
       "      <td>0.66</td>\n",
       "      <td>1.32</td>\n",
       "      <td>-1.0</td>\n",
       "    </tr>\n",
       "    <tr>\n",
       "      <th>2</th>\n",
       "      <td>-7.0</td>\n",
       "      <td>47.0</td>\n",
       "      <td>1</td>\n",
       "      <td>1.0</td>\n",
       "      <td>0</td>\n",
       "      <td>38.0</td>\n",
       "      <td>6.0</td>\n",
       "      <td>6.0</td>\n",
       "      <td>38.0</td>\n",
       "      <td>381.0</td>\n",
       "      <td>...</td>\n",
       "      <td>75.0</td>\n",
       "      <td>-2.0</td>\n",
       "      <td>64.0</td>\n",
       "      <td>1.0</td>\n",
       "      <td>1.0</td>\n",
       "      <td>4.31</td>\n",
       "      <td>687.0</td>\n",
       "      <td>6.33</td>\n",
       "      <td>1.25</td>\n",
       "      <td>-1.0</td>\n",
       "    </tr>\n",
       "    <tr>\n",
       "      <th>3</th>\n",
       "      <td>-6.5</td>\n",
       "      <td>39.5</td>\n",
       "      <td>1</td>\n",
       "      <td>1.0</td>\n",
       "      <td>1</td>\n",
       "      <td>27.0</td>\n",
       "      <td>17.0</td>\n",
       "      <td>17.0</td>\n",
       "      <td>27.0</td>\n",
       "      <td>404.0</td>\n",
       "      <td>...</td>\n",
       "      <td>150.0</td>\n",
       "      <td>0.0</td>\n",
       "      <td>20.0</td>\n",
       "      <td>1.0</td>\n",
       "      <td>1.0</td>\n",
       "      <td>-10.92</td>\n",
       "      <td>658.0</td>\n",
       "      <td>1.59</td>\n",
       "      <td>1.59</td>\n",
       "      <td>-1.0</td>\n",
       "    </tr>\n",
       "    <tr>\n",
       "      <th>4</th>\n",
       "      <td>-3.0</td>\n",
       "      <td>48.0</td>\n",
       "      <td>1</td>\n",
       "      <td>1.0</td>\n",
       "      <td>1</td>\n",
       "      <td>34.0</td>\n",
       "      <td>30.0</td>\n",
       "      <td>30.0</td>\n",
       "      <td>34.0</td>\n",
       "      <td>372.0</td>\n",
       "      <td>...</td>\n",
       "      <td>-16.0</td>\n",
       "      <td>0.0</td>\n",
       "      <td>8.0</td>\n",
       "      <td>1.0</td>\n",
       "      <td>1.0</td>\n",
       "      <td>-0.89</td>\n",
       "      <td>760.0</td>\n",
       "      <td>1.13</td>\n",
       "      <td>0.96</td>\n",
       "      <td>-1.0</td>\n",
       "    </tr>\n",
       "  </tbody>\n",
       "</table>\n",
       "<p>5 rows × 38 columns</p>\n",
       "</div>"
      ],
      "text/plain": [
       "   spread  ou_value  fav_ml_result  fav_sp_result  ou_result  fav_ppg  \\\n",
       "0    -9.5      53.5              1            1.0          1     34.0   \n",
       "1    -1.0      49.5              0            0.0          1     25.0   \n",
       "2    -7.0      47.0              1            1.0          0     38.0   \n",
       "3    -6.5      39.5              1            1.0          1     27.0   \n",
       "4    -3.0      48.0              1            1.0          1     34.0   \n",
       "\n",
       "   und_ppg  fav_papg  und_papg  fav_ypg  ...  ypg_diff  topg_diff  \\\n",
       "0     20.0      20.0      34.0    369.0  ...       9.0       -1.0   \n",
       "1     38.0      38.0      25.0    506.0  ...     123.0        2.0   \n",
       "2      6.0       6.0      38.0    381.0  ...      75.0       -2.0   \n",
       "3     17.0      17.0      27.0    404.0  ...     150.0        0.0   \n",
       "4     30.0      30.0      34.0    372.0  ...     -16.0        0.0   \n",
       "\n",
       "   avg_mov_diff  win_pct_diff  last_5_win_pct_diff  team_ovr_diff  ypg_sum  \\\n",
       "0          28.0           1.0                  1.0           5.35    729.0   \n",
       "1         -26.0          -1.0                 -1.0          -1.00    889.0   \n",
       "2          64.0           1.0                  1.0           4.31    687.0   \n",
       "3          20.0           1.0                  1.0         -10.92    658.0   \n",
       "4           8.0           1.0                  1.0          -0.89    760.0   \n",
       "\n",
       "   ppg_ratio  ypg_ratio  avg_mov_ratio  \n",
       "0       1.70       1.02           -1.0  \n",
       "1       0.66       1.32           -1.0  \n",
       "2       6.33       1.25           -1.0  \n",
       "3       1.59       1.59           -1.0  \n",
       "4       1.13       0.96           -1.0  \n",
       "\n",
       "[5 rows x 38 columns]"
      ]
     },
     "execution_count": 2,
     "metadata": {},
     "output_type": "execute_result"
    }
   ],
   "source": [
    "df = pd.read_csv('/Users/epainter/Desktop/bet_model_v2/data/processing/fc_3.csv')\n",
    "\n",
    "df.head()"
   ]
  },
  {
   "cell_type": "code",
   "execution_count": 3,
   "id": "b47aa873",
   "metadata": {},
   "outputs": [
    {
     "data": {
      "text/plain": [
       "Index(['spread', 'ou_value', 'fav_ml_result', 'fav_sp_result', 'ou_result',\n",
       "       'fav_ppg', 'und_ppg', 'fav_papg', 'und_papg', 'fav_ypg', 'und_ypg',\n",
       "       'fav_yapg', 'und_yapg', 'fav_topg', 'und_topg', 'fav_tofpg',\n",
       "       'und_tofpg', 'fav_avg_mov', 'und_avg_mov', 'fav_win_pct', 'und_win_pct',\n",
       "       'fav_last_5_win_pct', 'und_last_5_win_pct', 'fav_home_win_pct',\n",
       "       'und_home_win_pct', 'fav_away_win_pct', 'und_away_win_pct', 'ppg_diff',\n",
       "       'ypg_diff', 'topg_diff', 'avg_mov_diff', 'win_pct_diff',\n",
       "       'last_5_win_pct_diff', 'team_ovr_diff', 'ypg_sum', 'ppg_ratio',\n",
       "       'ypg_ratio', 'avg_mov_ratio'],\n",
       "      dtype='object')"
      ]
     },
     "execution_count": 3,
     "metadata": {},
     "output_type": "execute_result"
    }
   ],
   "source": [
    "df.columns"
   ]
  },
  {
   "cell_type": "code",
   "execution_count": 4,
   "id": "c062c6c2",
   "metadata": {},
   "outputs": [],
   "source": [
    "cols = ['fav_ml_result', 'fav_ppg', 'und_ppg', 'fav_papg', 'und_papg', 'fav_ypg', 'und_ypg',\n",
    "       'fav_yapg', 'und_yapg', 'fav_topg', 'und_topg', 'fav_tofpg',\n",
    "       'und_tofpg', 'fav_avg_mov', 'und_avg_mov', 'fav_win_pct', 'und_win_pct',\n",
    "       'fav_last_5_win_pct', 'und_last_5_win_pct', 'fav_home_win_pct',\n",
    "       'und_home_win_pct', 'fav_away_win_pct', 'und_away_win_pct', 'ppg_diff',\n",
    "       'ypg_diff', 'topg_diff', 'avg_mov_diff', 'win_pct_diff',\n",
    "       'last_5_win_pct_diff', 'team_ovr_diff', 'ypg_sum', 'ppg_ratio',\n",
    "       'ypg_ratio']\n",
    "\n",
    "filt_df = df[cols]"
   ]
  },
  {
   "cell_type": "markdown",
   "id": "2a4e1891",
   "metadata": {},
   "source": [
    "# Feature Selection"
   ]
  },
  {
   "cell_type": "markdown",
   "id": "b3b95c33",
   "metadata": {},
   "source": [
    "## 1.) Dropping constant/quasi-constant features"
   ]
  },
  {
   "cell_type": "code",
   "execution_count": 5,
   "id": "a9f3f602",
   "metadata": {},
   "outputs": [
    {
     "data": {
      "text/plain": [
       "((856, 32), (215, 32))"
      ]
     },
     "execution_count": 5,
     "metadata": {},
     "output_type": "execute_result"
    }
   ],
   "source": [
    "X = filt_df.drop(columns=['fav_ml_result'])\n",
    "y = filt_df['fav_ml_result']\n",
    "\n",
    "X_train, X_test, y_train, y_test = train_test_split(X, y, test_size = 0.2, random_state = 0)\n",
    "\n",
    "X_train.shape, X_test.shape"
   ]
  },
  {
   "cell_type": "code",
   "execution_count": 6,
   "id": "287cb4e3",
   "metadata": {},
   "outputs": [
    {
     "data": {
      "text/plain": [
       "32"
      ]
     },
     "execution_count": 6,
     "metadata": {},
     "output_type": "execute_result"
    }
   ],
   "source": [
    "sel = VarianceThreshold(threshold=0.01)\n",
    "\n",
    "sel.fit(X_train) # finds features with very low variance\n",
    "\n",
    "sum(sel.get_support()) # Number of features that have higher variance than our selected threshold"
   ]
  },
  {
   "cell_type": "markdown",
   "id": "c993436b",
   "metadata": {},
   "source": [
    "We can see that there are no constant or near constant features in our data frame"
   ]
  },
  {
   "cell_type": "markdown",
   "id": "f229b126",
   "metadata": {},
   "source": [
    "## 2.) Correlation Techniques"
   ]
  },
  {
   "cell_type": "markdown",
   "id": "fbbf31e1",
   "metadata": {},
   "source": [
    "Selects subset of features that contain features highly correlated with the target but they uncorrelated with eachother.\n",
    "\n",
    "Feature selection is usually done after data pre-processing (transforming/scaling) my data, so I will do that first."
   ]
  },
  {
   "cell_type": "markdown",
   "id": "bcbe0d40",
   "metadata": {},
   "source": [
    "Scaling the data depends on how the features are structured. For example if there are outliers, using a standard scaler (removing the mean from each value and scaling to a unit variance) may not be useful as the outliers disproportionately affect the mean and standard deviation which leads to less effective scaling.\n",
    "\n",
    "This also affects the distribution of each feature which can affect how scaling and normalization methods peform.\n",
    "\n",
    "By using a robust scaler we can use the median and IQR to scale our data which often give us much better results. This method is widely used for data that has outliers."
   ]
  },
  {
   "cell_type": "code",
   "execution_count": 7,
   "id": "d538e485",
   "metadata": {},
   "outputs": [
    {
     "data": {
      "text/plain": [
       "Index(['fav_ppg', 'und_ppg', 'fav_papg', 'und_papg', 'fav_ypg', 'und_ypg',\n",
       "       'fav_yapg', 'und_yapg', 'fav_topg', 'und_topg', 'fav_tofpg',\n",
       "       'und_tofpg', 'fav_avg_mov', 'und_avg_mov', 'fav_win_pct', 'und_win_pct',\n",
       "       'fav_last_5_win_pct', 'und_last_5_win_pct', 'fav_home_win_pct',\n",
       "       'und_home_win_pct', 'fav_away_win_pct', 'und_away_win_pct', 'ppg_diff',\n",
       "       'ypg_diff', 'topg_diff', 'avg_mov_diff', 'win_pct_diff',\n",
       "       'last_5_win_pct_diff', 'team_ovr_diff', 'ypg_sum', 'ppg_ratio',\n",
       "       'ypg_ratio'],\n",
       "      dtype='object')"
      ]
     },
     "execution_count": 7,
     "metadata": {},
     "output_type": "execute_result"
    }
   ],
   "source": [
    "X_train.columns"
   ]
  },
  {
   "cell_type": "markdown",
   "id": "65ff9ef6",
   "metadata": {},
   "source": [
    "Will first check how each of our features is distributed and see if outliers are present."
   ]
  },
  {
   "cell_type": "code",
   "execution_count": 8,
   "id": "4ad8417c",
   "metadata": {
    "scrolled": true
   },
   "outputs": [
    {
     "data": {
      "image/png": "[encoded data removed]",
      "text/plain": [
       "<Figure size 432x288 with 1 Axes>"
      ]
     },
     "metadata": {
      "needs_background": "light"
     },
     "output_type": "display_data"
    }
   ],
   "source": [
    "import seaborn as sns\n",
    "import matplotlib.pyplot as plt\n",
    "\n",
    "sns.boxplot(y=X_train['ypg_ratio'], palette='muted')\n",
    "plt.show()"
   ]
  },
  {
   "cell_type": "markdown",
   "id": "cde57c66",
   "metadata": {},
   "source": [
    "By looking at these features, most of them contain outliers. Thus, we will use a robust scaling technique to scale our features. \n",
    "\n",
    "I may do some data imputation on these features later (TBD)"
   ]
  },
  {
   "cell_type": "code",
   "execution_count": 9,
   "id": "c37315fb",
   "metadata": {},
   "outputs": [],
   "source": [
    "# So now our data frame has features that are not highly correlated with one another"
   ]
  },
  {
   "cell_type": "markdown",
   "id": "3369cbfb",
   "metadata": {},
   "source": [
    "Now that I have begun to reduce the number of features using correlation, I now want to explore some other statistical tests."
   ]
  },
  {
   "cell_type": "markdown",
   "id": "322c2c0f",
   "metadata": {},
   "source": [
    "### Mutual Information"
   ]
  },
  {
   "cell_type": "markdown",
   "id": "c11436e9",
   "metadata": {},
   "source": [
    "First lets look at how mutual information works on our data"
   ]
  },
  {
   "cell_type": "code",
   "execution_count": 10,
   "id": "c8640479",
   "metadata": {
    "scrolled": true
   },
   "outputs": [
    {
     "data": {
      "text/plain": [
       "Text(0, 0.5, 'Mutual Information')"
      ]
     },
     "execution_count": 10,
     "metadata": {},
     "output_type": "execute_result"
    },
    {
     "data": {
      "image/png": "[encoded data removed]",
      "text/plain": [
       "<Figure size 1440x432 with 1 Axes>"
      ]
     },
     "metadata": {
      "needs_background": "light"
     },
     "output_type": "display_data"
    }
   ],
   "source": [
    "from sklearn.feature_selection import SelectKBest, mutual_info_classif, f_classif\n",
    "\n",
    "mi = mutual_info_classif(X_train, y_train)\n",
    "mi\n",
    "\n",
    "mi = pd.Series(mi)\n",
    "mi.index = X_train.columns\n",
    "mi.sort_values(ascending=False).plot.bar(figsize=(20, 6))\n",
    "plt.ylabel('Mutual Information')"
   ]
  },
  {
   "cell_type": "code",
   "execution_count": 11,
   "id": "fe9cbd84",
   "metadata": {
    "scrolled": true
   },
   "outputs": [
    {
     "data": {
      "text/plain": [
       "Text(0, 0.5, 'F-Value 0')"
      ]
     },
     "execution_count": 11,
     "metadata": {},
     "output_type": "execute_result"
    },
    {
     "data": {
      "image/png": "[encoded data removed]",
      "text/plain": [
       "<Figure size 1440x432 with 1 Axes>"
      ]
     },
     "metadata": {
      "needs_background": "light"
     },
     "output_type": "display_data"
    }
   ],
   "source": [
    "# Can now do this for ANOVA\n",
    "\n",
    "anova = f_classif(X_train, y_train)\n",
    "\n",
    "anova_0 = anova[0]\n",
    "anova_1 = anova[1]\n",
    "\n",
    "# Create both plots\n",
    "anova_0 = pd.Series(anova_0)\n",
    "anova_0.index = X_train.columns\n",
    "anova_0.sort_values(ascending=False).plot.bar(figsize=(20, 6))\n",
    "plt.ylabel('F-Value 0')"
   ]
  },
  {
   "cell_type": "code",
   "execution_count": 12,
   "id": "24a40518",
   "metadata": {
    "scrolled": true
   },
   "outputs": [
    {
     "data": {
      "text/plain": [
       "Text(0, 0.5, 'F-Value 1')"
      ]
     },
     "execution_count": 12,
     "metadata": {},
     "output_type": "execute_result"
    },
    {
     "data": {
      "image/png": "[encoded data removed]",
      "text/plain": [
       "<Figure size 1440x432 with 1 Axes>"
      ]
     },
     "metadata": {
      "needs_background": "light"
     },
     "output_type": "display_data"
    }
   ],
   "source": [
    "# Create both plots\n",
    "anova_1 = pd.Series(anova_1)\n",
    "anova_1.index = X_train.columns\n",
    "anova_1.sort_values(ascending=False).plot.bar(figsize=(20, 6))\n",
    "plt.ylabel('F-Value 1')"
   ]
  },
  {
   "cell_type": "markdown",
   "id": "5efbca4b",
   "metadata": {},
   "source": [
    "We can now select the best features based on our mutual information scores or our ANOVA values"
   ]
  },
  {
   "cell_type": "markdown",
   "id": "0a6eda51",
   "metadata": {},
   "source": [
    "## Selecting Best Features"
   ]
  },
  {
   "cell_type": "code",
   "execution_count": 13,
   "id": "c6a85268",
   "metadata": {},
   "outputs": [
    {
     "data": {
      "text/html": [
       "<div>\n",
       "<style scoped>\n",
       "    .dataframe tbody tr th:only-of-type {\n",
       "        vertical-align: middle;\n",
       "    }\n",
       "\n",
       "    .dataframe tbody tr th {\n",
       "        vertical-align: top;\n",
       "    }\n",
       "\n",
       "    .dataframe thead th {\n",
       "        text-align: right;\n",
       "    }\n",
       "</style>\n",
       "<table border=\"1\" class=\"dataframe\">\n",
       "  <thead>\n",
       "    <tr style=\"text-align: right;\">\n",
       "      <th></th>\n",
       "      <th>und_ppg</th>\n",
       "      <th>fav_tofpg</th>\n",
       "      <th>und_last_5_win_pct</th>\n",
       "      <th>ppg_ratio</th>\n",
       "    </tr>\n",
       "  </thead>\n",
       "  <tbody>\n",
       "    <tr>\n",
       "      <th>34</th>\n",
       "      <td>28.50</td>\n",
       "      <td>1.00</td>\n",
       "      <td>1.0</td>\n",
       "      <td>1.02</td>\n",
       "    </tr>\n",
       "    <tr>\n",
       "      <th>557</th>\n",
       "      <td>19.00</td>\n",
       "      <td>0.00</td>\n",
       "      <td>1.0</td>\n",
       "      <td>0.37</td>\n",
       "    </tr>\n",
       "    <tr>\n",
       "      <th>30</th>\n",
       "      <td>21.00</td>\n",
       "      <td>2.00</td>\n",
       "      <td>1.0</td>\n",
       "      <td>1.81</td>\n",
       "    </tr>\n",
       "    <tr>\n",
       "      <th>1044</th>\n",
       "      <td>18.27</td>\n",
       "      <td>1.47</td>\n",
       "      <td>0.4</td>\n",
       "      <td>1.20</td>\n",
       "    </tr>\n",
       "    <tr>\n",
       "      <th>902</th>\n",
       "      <td>25.40</td>\n",
       "      <td>1.50</td>\n",
       "      <td>0.4</td>\n",
       "      <td>0.96</td>\n",
       "    </tr>\n",
       "    <tr>\n",
       "      <th>...</th>\n",
       "      <td>...</td>\n",
       "      <td>...</td>\n",
       "      <td>...</td>\n",
       "      <td>...</td>\n",
       "    </tr>\n",
       "    <tr>\n",
       "      <th>1033</th>\n",
       "      <td>18.50</td>\n",
       "      <td>1.64</td>\n",
       "      <td>0.4</td>\n",
       "      <td>1.11</td>\n",
       "    </tr>\n",
       "    <tr>\n",
       "      <th>763</th>\n",
       "      <td>29.36</td>\n",
       "      <td>1.86</td>\n",
       "      <td>1.0</td>\n",
       "      <td>0.96</td>\n",
       "    </tr>\n",
       "    <tr>\n",
       "      <th>835</th>\n",
       "      <td>18.00</td>\n",
       "      <td>1.50</td>\n",
       "      <td>1.0</td>\n",
       "      <td>1.72</td>\n",
       "    </tr>\n",
       "    <tr>\n",
       "      <th>559</th>\n",
       "      <td>23.00</td>\n",
       "      <td>1.00</td>\n",
       "      <td>1.0</td>\n",
       "      <td>1.65</td>\n",
       "    </tr>\n",
       "    <tr>\n",
       "      <th>684</th>\n",
       "      <td>21.78</td>\n",
       "      <td>1.89</td>\n",
       "      <td>0.8</td>\n",
       "      <td>1.04</td>\n",
       "    </tr>\n",
       "  </tbody>\n",
       "</table>\n",
       "<p>856 rows × 4 columns</p>\n",
       "</div>"
      ],
      "text/plain": [
       "      und_ppg  fav_tofpg  und_last_5_win_pct  ppg_ratio\n",
       "34      28.50       1.00                 1.0       1.02\n",
       "557     19.00       0.00                 1.0       0.37\n",
       "30      21.00       2.00                 1.0       1.81\n",
       "1044    18.27       1.47                 0.4       1.20\n",
       "902     25.40       1.50                 0.4       0.96\n",
       "...       ...        ...                 ...        ...\n",
       "1033    18.50       1.64                 0.4       1.11\n",
       "763     29.36       1.86                 1.0       0.96\n",
       "835     18.00       1.50                 1.0       1.72\n",
       "559     23.00       1.00                 1.0       1.65\n",
       "684     21.78       1.89                 0.8       1.04\n",
       "\n",
       "[856 rows x 4 columns]"
      ]
     },
     "execution_count": 13,
     "metadata": {},
     "output_type": "execute_result"
    }
   ],
   "source": [
    "mi_sel = SelectKBest(mutual_info_classif, k=4)\n",
    "mi_sel.fit(X_train, y_train)\n",
    "\n",
    "# Get the indices of the selected features\n",
    "selected_feature_indices = mi_sel.get_support(indices=True)\n",
    "\n",
    "# Get the names of the selected features\n",
    "selected_feature_names = X_train.columns[selected_feature_indices]\n",
    "\n",
    "# Create a new DataFrame with only the selected features\n",
    "X_train_mi = pd.DataFrame(mi_sel.transform(X_train), \n",
    "                                columns=selected_feature_names, \n",
    "                                index=X_train.index)\n",
    "\n",
    "X_test_mi = pd.DataFrame(mi_sel.transform(X_test),\n",
    "                        columns=selected_feature_names,\n",
    "                        index=X_test.index)\n",
    "\n",
    "X_train_mi"
   ]
  },
  {
   "cell_type": "code",
   "execution_count": 14,
   "id": "80d79b83",
   "metadata": {},
   "outputs": [
    {
     "data": {
      "text/html": [
       "<div>\n",
       "<style scoped>\n",
       "    .dataframe tbody tr th:only-of-type {\n",
       "        vertical-align: middle;\n",
       "    }\n",
       "\n",
       "    .dataframe tbody tr th {\n",
       "        vertical-align: top;\n",
       "    }\n",
       "\n",
       "    .dataframe thead th {\n",
       "        text-align: right;\n",
       "    }\n",
       "</style>\n",
       "<table border=\"1\" class=\"dataframe\">\n",
       "  <thead>\n",
       "    <tr style=\"text-align: right;\">\n",
       "      <th></th>\n",
       "      <th>fav_ppg</th>\n",
       "      <th>ppg_diff</th>\n",
       "      <th>ypg_diff</th>\n",
       "      <th>ypg_ratio</th>\n",
       "    </tr>\n",
       "  </thead>\n",
       "  <tbody>\n",
       "    <tr>\n",
       "      <th>34</th>\n",
       "      <td>29.00</td>\n",
       "      <td>0.50</td>\n",
       "      <td>28.00</td>\n",
       "      <td>1.06</td>\n",
       "    </tr>\n",
       "    <tr>\n",
       "      <th>557</th>\n",
       "      <td>7.00</td>\n",
       "      <td>-12.00</td>\n",
       "      <td>134.00</td>\n",
       "      <td>1.66</td>\n",
       "    </tr>\n",
       "    <tr>\n",
       "      <th>30</th>\n",
       "      <td>38.00</td>\n",
       "      <td>17.00</td>\n",
       "      <td>26.00</td>\n",
       "      <td>1.07</td>\n",
       "    </tr>\n",
       "    <tr>\n",
       "      <th>1044</th>\n",
       "      <td>21.87</td>\n",
       "      <td>3.60</td>\n",
       "      <td>53.53</td>\n",
       "      <td>1.18</td>\n",
       "    </tr>\n",
       "    <tr>\n",
       "      <th>902</th>\n",
       "      <td>24.50</td>\n",
       "      <td>-0.90</td>\n",
       "      <td>16.93</td>\n",
       "      <td>1.05</td>\n",
       "    </tr>\n",
       "    <tr>\n",
       "      <th>...</th>\n",
       "      <td>...</td>\n",
       "      <td>...</td>\n",
       "      <td>...</td>\n",
       "      <td>...</td>\n",
       "    </tr>\n",
       "    <tr>\n",
       "      <th>1033</th>\n",
       "      <td>20.50</td>\n",
       "      <td>2.00</td>\n",
       "      <td>11.64</td>\n",
       "      <td>1.04</td>\n",
       "    </tr>\n",
       "    <tr>\n",
       "      <th>763</th>\n",
       "      <td>28.14</td>\n",
       "      <td>-1.22</td>\n",
       "      <td>-31.78</td>\n",
       "      <td>0.92</td>\n",
       "    </tr>\n",
       "    <tr>\n",
       "      <th>835</th>\n",
       "      <td>31.00</td>\n",
       "      <td>13.00</td>\n",
       "      <td>-69.50</td>\n",
       "      <td>0.80</td>\n",
       "    </tr>\n",
       "    <tr>\n",
       "      <th>559</th>\n",
       "      <td>38.00</td>\n",
       "      <td>15.00</td>\n",
       "      <td>60.00</td>\n",
       "      <td>1.15</td>\n",
       "    </tr>\n",
       "    <tr>\n",
       "      <th>684</th>\n",
       "      <td>22.56</td>\n",
       "      <td>0.78</td>\n",
       "      <td>-15.11</td>\n",
       "      <td>0.95</td>\n",
       "    </tr>\n",
       "  </tbody>\n",
       "</table>\n",
       "<p>856 rows × 4 columns</p>\n",
       "</div>"
      ],
      "text/plain": [
       "      fav_ppg  ppg_diff  ypg_diff  ypg_ratio\n",
       "34      29.00      0.50     28.00       1.06\n",
       "557      7.00    -12.00    134.00       1.66\n",
       "30      38.00     17.00     26.00       1.07\n",
       "1044    21.87      3.60     53.53       1.18\n",
       "902     24.50     -0.90     16.93       1.05\n",
       "...       ...       ...       ...        ...\n",
       "1033    20.50      2.00     11.64       1.04\n",
       "763     28.14     -1.22    -31.78       0.92\n",
       "835     31.00     13.00    -69.50       0.80\n",
       "559     38.00     15.00     60.00       1.15\n",
       "684     22.56      0.78    -15.11       0.95\n",
       "\n",
       "[856 rows x 4 columns]"
      ]
     },
     "execution_count": 14,
     "metadata": {},
     "output_type": "execute_result"
    }
   ],
   "source": [
    "f_sel = SelectKBest(f_classif, k=4)\n",
    "f_sel.fit(X_train, y_train)\n",
    "\n",
    "# Get the indices of the selected features\n",
    "selected_feature_indices = f_sel.get_support(indices=True)\n",
    "\n",
    "# Get the names of the selected features\n",
    "selected_feature_names = X_train.columns[selected_feature_indices]\n",
    "\n",
    "# Create a new DataFrame with only the selected features\n",
    "X_train_f = pd.DataFrame(f_sel.transform(X_train), \n",
    "                                columns=selected_feature_names, \n",
    "                                index=X_train.index)\n",
    "\n",
    "X_test_f = pd.DataFrame(f_sel.transform(X_test), \n",
    "                                columns=selected_feature_names, \n",
    "                                index=X_test.index)\n",
    "\n",
    "X_train_f"
   ]
  },
  {
   "cell_type": "code",
   "execution_count": 15,
   "id": "d0fcb451",
   "metadata": {},
   "outputs": [],
   "source": [
    "# So now we have our features that are "
   ]
  },
  {
   "cell_type": "code",
   "execution_count": 16,
   "id": "119153af",
   "metadata": {},
   "outputs": [],
   "source": [
    "# So now I will try to run the model on these scaled, and filetered training and test sets"
   ]
  },
  {
   "cell_type": "code",
   "execution_count": 17,
   "id": "fd3651a7",
   "metadata": {},
   "outputs": [
    {
     "name": "stderr",
     "output_type": "stream",
     "text": [
      "/Users/epainter/opt/anaconda3/lib/python3.9/site-packages/dask/dataframe/__init__.py:42: FutureWarning: \n",
      "Dask dataframe query planning is disabled because dask-expr is not installed.\n",
      "\n",
      "You can install it with `pip install dask[dataframe]` or `conda install dask`.\n",
      "This will raise in a future version.\n",
      "\n",
      "  warnings.warn(msg, FutureWarning)\n"
     ]
    }
   ],
   "source": [
    "from sklearn.tree import DecisionTreeClassifier\n",
    "from sklearn.ensemble import RandomForestClassifier, GradientBoostingClassifier\n",
    "from sklearn.naive_bayes import GaussianNB\n",
    "from sklearn.metrics import accuracy_score, confusion_matrix, classification_report\n",
    "import xgboost as xgb\n",
    "import lightgbm as lgb"
   ]
  },
  {
   "cell_type": "code",
   "execution_count": 18,
   "id": "20a68d2e",
   "metadata": {
    "scrolled": true
   },
   "outputs": [
    {
     "name": "stdout",
     "output_type": "stream",
     "text": [
      "\n",
      "DecisionTreeClassifier Results:\n",
      "Accuracy: 0.6\n",
      "Confusion Matrix:\n",
      " [[35 37]\n",
      " [49 94]]\n",
      "Classification Report:\n",
      "               precision    recall  f1-score   support\n",
      "\n",
      "           0       0.42      0.49      0.45        72\n",
      "           1       0.72      0.66      0.69       143\n",
      "\n",
      "    accuracy                           0.60       215\n",
      "   macro avg       0.57      0.57      0.57       215\n",
      "weighted avg       0.62      0.60      0.61       215\n",
      "\n",
      "\n",
      "RandomForestClassifier Results:\n",
      "Accuracy: 0.5906976744186047\n",
      "Confusion Matrix:\n",
      " [[ 16  56]\n",
      " [ 32 111]]\n",
      "Classification Report:\n",
      "               precision    recall  f1-score   support\n",
      "\n",
      "           0       0.33      0.22      0.27        72\n",
      "           1       0.66      0.78      0.72       143\n",
      "\n",
      "    accuracy                           0.59       215\n",
      "   macro avg       0.50      0.50      0.49       215\n",
      "weighted avg       0.55      0.59      0.57       215\n",
      "\n",
      "\n",
      "GradientBoostingClassifier Results:\n",
      "Accuracy: 0.6465116279069767\n",
      "Confusion Matrix:\n",
      " [[ 14  58]\n",
      " [ 18 125]]\n",
      "Classification Report:\n",
      "               precision    recall  f1-score   support\n",
      "\n",
      "           0       0.44      0.19      0.27        72\n",
      "           1       0.68      0.87      0.77       143\n",
      "\n",
      "    accuracy                           0.65       215\n",
      "   macro avg       0.56      0.53      0.52       215\n",
      "weighted avg       0.60      0.65      0.60       215\n",
      "\n",
      "\n",
      "GaussianNB Results:\n",
      "Accuracy: 0.641860465116279\n",
      "Confusion Matrix:\n",
      " [[  2  70]\n",
      " [  7 136]]\n",
      "Classification Report:\n",
      "               precision    recall  f1-score   support\n",
      "\n",
      "           0       0.22      0.03      0.05        72\n",
      "           1       0.66      0.95      0.78       143\n",
      "\n",
      "    accuracy                           0.64       215\n",
      "   macro avg       0.44      0.49      0.41       215\n",
      "weighted avg       0.51      0.64      0.53       215\n",
      "\n",
      "\n",
      "XGBClassifier Results:\n",
      "Accuracy: 0.5953488372093023\n",
      "Confusion Matrix:\n",
      " [[ 22  50]\n",
      " [ 37 106]]\n",
      "Classification Report:\n",
      "               precision    recall  f1-score   support\n",
      "\n",
      "           0       0.37      0.31      0.34        72\n",
      "           1       0.68      0.74      0.71       143\n",
      "\n",
      "    accuracy                           0.60       215\n",
      "   macro avg       0.53      0.52      0.52       215\n",
      "weighted avg       0.58      0.60      0.58       215\n",
      "\n",
      "[LightGBM] [Info] Number of positive: 564, number of negative: 292\n",
      "[LightGBM] [Info] Auto-choosing col-wise multi-threading, the overhead of testing was 0.000092 seconds.\n",
      "You can set `force_col_wise=true` to remove the overhead.\n",
      "[LightGBM] [Info] Total Bins 472\n",
      "[LightGBM] [Info] Number of data points in the train set: 856, number of used features: 4\n",
      "[LightGBM] [Info] [binary:BoostFromScore]: pavg=0.658879 -> initscore=0.658300\n",
      "[LightGBM] [Info] Start training from score 0.658300\n",
      "[LightGBM] [Warning] No further splits with positive gain, best gain: -inf\n",
      "\n",
      "LGBMClassifier Results:\n",
      "Accuracy: 0.6232558139534884\n",
      "Confusion Matrix:\n",
      " [[ 23  49]\n",
      " [ 32 111]]\n",
      "Classification Report:\n",
      "               precision    recall  f1-score   support\n",
      "\n",
      "           0       0.42      0.32      0.36        72\n",
      "           1       0.69      0.78      0.73       143\n",
      "\n",
      "    accuracy                           0.62       215\n",
      "   macro avg       0.56      0.55      0.55       215\n",
      "weighted avg       0.60      0.62      0.61       215\n",
      "\n"
     ]
    }
   ],
   "source": [
    "# Define models that don't require feature scaling\n",
    "models = [\n",
    "    DecisionTreeClassifier(random_state=42),\n",
    "    RandomForestClassifier(random_state=42),\n",
    "    GradientBoostingClassifier(random_state=42),\n",
    "    GaussianNB(),\n",
    "    xgb.XGBClassifier(random_state=42),\n",
    "    lgb.LGBMClassifier(random_state=42)\n",
    "]\n",
    "\n",
    "# Train and evaluate each model\n",
    "for model in models:\n",
    "    model.fit(X_train_mi, y_train)\n",
    "    y_pred = model.predict(X_test_mi)\n",
    "    \n",
    "    print(f\"\\n{model.__class__.__name__} Results:\")\n",
    "    print(\"Accuracy:\", accuracy_score(y_test, y_pred))\n",
    "    print(\"Confusion Matrix:\\n\", confusion_matrix(y_test, y_pred))\n",
    "    print(\"Classification Report:\\n\", classification_report(y_test, y_pred))"
   ]
  },
  {
   "cell_type": "code",
   "execution_count": 19,
   "id": "87167ac5",
   "metadata": {
    "scrolled": true
   },
   "outputs": [
    {
     "name": "stdout",
     "output_type": "stream",
     "text": [
      "\n",
      "DecisionTreeClassifier Results:\n",
      "Accuracy: 0.5720930232558139\n",
      "Confusion Matrix:\n",
      " [[33 39]\n",
      " [53 90]]\n",
      "Classification Report:\n",
      "               precision    recall  f1-score   support\n",
      "\n",
      "           0       0.38      0.46      0.42        72\n",
      "           1       0.70      0.63      0.66       143\n",
      "\n",
      "    accuracy                           0.57       215\n",
      "   macro avg       0.54      0.54      0.54       215\n",
      "weighted avg       0.59      0.57      0.58       215\n",
      "\n",
      "\n",
      "RandomForestClassifier Results:\n",
      "Accuracy: 0.6325581395348837\n",
      "Confusion Matrix:\n",
      " [[ 16  56]\n",
      " [ 23 120]]\n",
      "Classification Report:\n",
      "               precision    recall  f1-score   support\n",
      "\n",
      "           0       0.41      0.22      0.29        72\n",
      "           1       0.68      0.84      0.75       143\n",
      "\n",
      "    accuracy                           0.63       215\n",
      "   macro avg       0.55      0.53      0.52       215\n",
      "weighted avg       0.59      0.63      0.60       215\n",
      "\n",
      "\n",
      "GradientBoostingClassifier Results:\n",
      "Accuracy: 0.6325581395348837\n",
      "Confusion Matrix:\n",
      " [[ 12  60]\n",
      " [ 19 124]]\n",
      "Classification Report:\n",
      "               precision    recall  f1-score   support\n",
      "\n",
      "           0       0.39      0.17      0.23        72\n",
      "           1       0.67      0.87      0.76       143\n",
      "\n",
      "    accuracy                           0.63       215\n",
      "   macro avg       0.53      0.52      0.50       215\n",
      "weighted avg       0.58      0.63      0.58       215\n",
      "\n",
      "\n",
      "GaussianNB Results:\n",
      "Accuracy: 0.641860465116279\n",
      "Confusion Matrix:\n",
      " [[ 15  57]\n",
      " [ 20 123]]\n",
      "Classification Report:\n",
      "               precision    recall  f1-score   support\n",
      "\n",
      "           0       0.43      0.21      0.28        72\n",
      "           1       0.68      0.86      0.76       143\n",
      "\n",
      "    accuracy                           0.64       215\n",
      "   macro avg       0.56      0.53      0.52       215\n",
      "weighted avg       0.60      0.64      0.60       215\n",
      "\n",
      "\n",
      "XGBClassifier Results:\n",
      "Accuracy: 0.6093023255813953\n",
      "Confusion Matrix:\n",
      " [[ 20  52]\n",
      " [ 32 111]]\n",
      "Classification Report:\n",
      "               precision    recall  f1-score   support\n",
      "\n",
      "           0       0.38      0.28      0.32        72\n",
      "           1       0.68      0.78      0.73       143\n",
      "\n",
      "    accuracy                           0.61       215\n",
      "   macro avg       0.53      0.53      0.52       215\n",
      "weighted avg       0.58      0.61      0.59       215\n",
      "\n",
      "[LightGBM] [Info] Number of positive: 564, number of negative: 292\n",
      "[LightGBM] [Info] Auto-choosing col-wise multi-threading, the overhead of testing was 0.000068 seconds.\n",
      "You can set `force_col_wise=true` to remove the overhead.\n",
      "[LightGBM] [Info] Total Bins 838\n",
      "[LightGBM] [Info] Number of data points in the train set: 856, number of used features: 4\n",
      "[LightGBM] [Info] [binary:BoostFromScore]: pavg=0.658879 -> initscore=0.658300\n",
      "[LightGBM] [Info] Start training from score 0.658300\n",
      "[LightGBM] [Warning] No further splits with positive gain, best gain: -inf\n",
      "\n",
      "LGBMClassifier Results:\n",
      "Accuracy: 0.5767441860465117\n",
      "Confusion Matrix:\n",
      " [[ 17  55]\n",
      " [ 36 107]]\n",
      "Classification Report:\n",
      "               precision    recall  f1-score   support\n",
      "\n",
      "           0       0.32      0.24      0.27        72\n",
      "           1       0.66      0.75      0.70       143\n",
      "\n",
      "    accuracy                           0.58       215\n",
      "   macro avg       0.49      0.49      0.49       215\n",
      "weighted avg       0.55      0.58      0.56       215\n",
      "\n"
     ]
    }
   ],
   "source": [
    "# THIS IS FOR ANOVA\n",
    "\n",
    "# Train and evaluate each model\n",
    "for model in models:\n",
    "    model.fit(X_train_f, y_train)\n",
    "    y_pred = model.predict(X_test_f)\n",
    "    \n",
    "    print(f\"\\n{model.__class__.__name__} Results:\")\n",
    "    print(\"Accuracy:\", accuracy_score(y_test, y_pred))\n",
    "    print(\"Confusion Matrix:\\n\", confusion_matrix(y_test, y_pred))\n",
    "    print(\"Classification Report:\\n\", classification_report(y_test, y_pred))"
   ]
  },
  {
   "cell_type": "code",
   "execution_count": null,
   "id": "215411b3",
   "metadata": {},
   "outputs": [],
   "source": []
  },
  {
   "cell_type": "code",
   "execution_count": null,
   "id": "abb5a693",
   "metadata": {},
   "outputs": [],
   "source": []
  }
 ],
 "metadata": {
  "kernelspec": {
   "display_name": "Python 3 (ipykernel)",
   "language": "python",
   "name": "python3"
  },
  "language_info": {
   "codemirror_mode": {
    "name": "ipython",
    "version": 3
   },
   "file_extension": ".py",
   "mimetype": "text/x-python",
   "name": "python",
   "nbconvert_exporter": "python",
   "pygments_lexer": "ipython3",
   "version": "3.9.12"
  }
 },
 "nbformat": 4,
 "nbformat_minor": 5
}
