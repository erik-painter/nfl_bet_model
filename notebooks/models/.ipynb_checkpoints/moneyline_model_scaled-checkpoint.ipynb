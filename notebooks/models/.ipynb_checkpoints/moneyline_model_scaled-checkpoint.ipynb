{
 "cells": [
  {
   "cell_type": "code",
   "execution_count": 1,
   "id": "2e642672",
   "metadata": {},
   "outputs": [
    {
     "name": "stderr",
     "output_type": "stream",
     "text": [
      "/Users/epainter/opt/anaconda3/lib/python3.9/site-packages/pandas/core/computation/expressions.py:21: UserWarning: Pandas requires version '2.8.4' or newer of 'numexpr' (version '2.8.1' currently installed).\n",
      "  from pandas.core.computation.check import NUMEXPR_INSTALLED\n",
      "/Users/epainter/opt/anaconda3/lib/python3.9/site-packages/pandas/core/arrays/masked.py:60: UserWarning: Pandas requires version '1.3.6' or newer of 'bottleneck' (version '1.3.4' currently installed).\n",
      "  from pandas.core import (\n"
     ]
    }
   ],
   "source": [
    "import numpy as np\n",
    "import pandas as pd\n",
    "\n",
    "from sklearn.model_selection import train_test_split\n",
    "\n",
    "from sklearn.feature_selection import VarianceThreshold"
   ]
  },
  {
   "cell_type": "code",
   "execution_count": 2,
   "id": "3e4a44eb",
   "metadata": {},
   "outputs": [
    {
     "data": {
      "text/html": [
       "<div>\n",
       "<style scoped>\n",
       "    .dataframe tbody tr th:only-of-type {\n",
       "        vertical-align: middle;\n",
       "    }\n",
       "\n",
       "    .dataframe tbody tr th {\n",
       "        vertical-align: top;\n",
       "    }\n",
       "\n",
       "    .dataframe thead th {\n",
       "        text-align: right;\n",
       "    }\n",
       "</style>\n",
       "<table border=\"1\" class=\"dataframe\">\n",
       "  <thead>\n",
       "    <tr style=\"text-align: right;\">\n",
       "      <th></th>\n",
       "      <th>spread</th>\n",
       "      <th>ou_value</th>\n",
       "      <th>fav_ml_result</th>\n",
       "      <th>fav_sp_result</th>\n",
       "      <th>ou_result</th>\n",
       "      <th>fav_ppg</th>\n",
       "      <th>und_ppg</th>\n",
       "      <th>fav_papg</th>\n",
       "      <th>und_papg</th>\n",
       "      <th>fav_ypg</th>\n",
       "      <th>...</th>\n",
       "      <th>ypg_diff</th>\n",
       "      <th>topg_diff</th>\n",
       "      <th>avg_mov_diff</th>\n",
       "      <th>win_pct_diff</th>\n",
       "      <th>last_5_win_pct_diff</th>\n",
       "      <th>team_ovr_diff</th>\n",
       "      <th>ypg_sum</th>\n",
       "      <th>ppg_ratio</th>\n",
       "      <th>ypg_ratio</th>\n",
       "      <th>avg_mov_ratio</th>\n",
       "    </tr>\n",
       "  </thead>\n",
       "  <tbody>\n",
       "    <tr>\n",
       "      <th>0</th>\n",
       "      <td>-9.5</td>\n",
       "      <td>53.5</td>\n",
       "      <td>1</td>\n",
       "      <td>1.0</td>\n",
       "      <td>1</td>\n",
       "      <td>34.0</td>\n",
       "      <td>20.0</td>\n",
       "      <td>20.0</td>\n",
       "      <td>34.0</td>\n",
       "      <td>369.0</td>\n",
       "      <td>...</td>\n",
       "      <td>9.0</td>\n",
       "      <td>-1.0</td>\n",
       "      <td>28.0</td>\n",
       "      <td>1.0</td>\n",
       "      <td>1.0</td>\n",
       "      <td>5.35</td>\n",
       "      <td>729.0</td>\n",
       "      <td>1.70</td>\n",
       "      <td>1.02</td>\n",
       "      <td>-1.0</td>\n",
       "    </tr>\n",
       "    <tr>\n",
       "      <th>1</th>\n",
       "      <td>-1.0</td>\n",
       "      <td>49.5</td>\n",
       "      <td>0</td>\n",
       "      <td>0.0</td>\n",
       "      <td>1</td>\n",
       "      <td>25.0</td>\n",
       "      <td>38.0</td>\n",
       "      <td>38.0</td>\n",
       "      <td>25.0</td>\n",
       "      <td>506.0</td>\n",
       "      <td>...</td>\n",
       "      <td>123.0</td>\n",
       "      <td>2.0</td>\n",
       "      <td>-26.0</td>\n",
       "      <td>-1.0</td>\n",
       "      <td>-1.0</td>\n",
       "      <td>-1.00</td>\n",
       "      <td>889.0</td>\n",
       "      <td>0.66</td>\n",
       "      <td>1.32</td>\n",
       "      <td>-1.0</td>\n",
       "    </tr>\n",
       "    <tr>\n",
       "      <th>2</th>\n",
       "      <td>-7.0</td>\n",
       "      <td>47.0</td>\n",
       "      <td>1</td>\n",
       "      <td>1.0</td>\n",
       "      <td>0</td>\n",
       "      <td>38.0</td>\n",
       "      <td>6.0</td>\n",
       "      <td>6.0</td>\n",
       "      <td>38.0</td>\n",
       "      <td>381.0</td>\n",
       "      <td>...</td>\n",
       "      <td>75.0</td>\n",
       "      <td>-2.0</td>\n",
       "      <td>64.0</td>\n",
       "      <td>1.0</td>\n",
       "      <td>1.0</td>\n",
       "      <td>4.31</td>\n",
       "      <td>687.0</td>\n",
       "      <td>6.33</td>\n",
       "      <td>1.25</td>\n",
       "      <td>-1.0</td>\n",
       "    </tr>\n",
       "    <tr>\n",
       "      <th>3</th>\n",
       "      <td>-6.5</td>\n",
       "      <td>39.5</td>\n",
       "      <td>1</td>\n",
       "      <td>1.0</td>\n",
       "      <td>1</td>\n",
       "      <td>27.0</td>\n",
       "      <td>17.0</td>\n",
       "      <td>17.0</td>\n",
       "      <td>27.0</td>\n",
       "      <td>404.0</td>\n",
       "      <td>...</td>\n",
       "      <td>150.0</td>\n",
       "      <td>0.0</td>\n",
       "      <td>20.0</td>\n",
       "      <td>1.0</td>\n",
       "      <td>1.0</td>\n",
       "      <td>-10.92</td>\n",
       "      <td>658.0</td>\n",
       "      <td>1.59</td>\n",
       "      <td>1.59</td>\n",
       "      <td>-1.0</td>\n",
       "    </tr>\n",
       "    <tr>\n",
       "      <th>4</th>\n",
       "      <td>-3.0</td>\n",
       "      <td>48.0</td>\n",
       "      <td>1</td>\n",
       "      <td>1.0</td>\n",
       "      <td>1</td>\n",
       "      <td>34.0</td>\n",
       "      <td>30.0</td>\n",
       "      <td>30.0</td>\n",
       "      <td>34.0</td>\n",
       "      <td>372.0</td>\n",
       "      <td>...</td>\n",
       "      <td>-16.0</td>\n",
       "      <td>0.0</td>\n",
       "      <td>8.0</td>\n",
       "      <td>1.0</td>\n",
       "      <td>1.0</td>\n",
       "      <td>-0.89</td>\n",
       "      <td>760.0</td>\n",
       "      <td>1.13</td>\n",
       "      <td>0.96</td>\n",
       "      <td>-1.0</td>\n",
       "    </tr>\n",
       "  </tbody>\n",
       "</table>\n",
       "<p>5 rows × 38 columns</p>\n",
       "</div>"
      ],
      "text/plain": [
       "   spread  ou_value  fav_ml_result  fav_sp_result  ou_result  fav_ppg  \\\n",
       "0    -9.5      53.5              1            1.0          1     34.0   \n",
       "1    -1.0      49.5              0            0.0          1     25.0   \n",
       "2    -7.0      47.0              1            1.0          0     38.0   \n",
       "3    -6.5      39.5              1            1.0          1     27.0   \n",
       "4    -3.0      48.0              1            1.0          1     34.0   \n",
       "\n",
       "   und_ppg  fav_papg  und_papg  fav_ypg  ...  ypg_diff  topg_diff  \\\n",
       "0     20.0      20.0      34.0    369.0  ...       9.0       -1.0   \n",
       "1     38.0      38.0      25.0    506.0  ...     123.0        2.0   \n",
       "2      6.0       6.0      38.0    381.0  ...      75.0       -2.0   \n",
       "3     17.0      17.0      27.0    404.0  ...     150.0        0.0   \n",
       "4     30.0      30.0      34.0    372.0  ...     -16.0        0.0   \n",
       "\n",
       "   avg_mov_diff  win_pct_diff  last_5_win_pct_diff  team_ovr_diff  ypg_sum  \\\n",
       "0          28.0           1.0                  1.0           5.35    729.0   \n",
       "1         -26.0          -1.0                 -1.0          -1.00    889.0   \n",
       "2          64.0           1.0                  1.0           4.31    687.0   \n",
       "3          20.0           1.0                  1.0         -10.92    658.0   \n",
       "4           8.0           1.0                  1.0          -0.89    760.0   \n",
       "\n",
       "   ppg_ratio  ypg_ratio  avg_mov_ratio  \n",
       "0       1.70       1.02           -1.0  \n",
       "1       0.66       1.32           -1.0  \n",
       "2       6.33       1.25           -1.0  \n",
       "3       1.59       1.59           -1.0  \n",
       "4       1.13       0.96           -1.0  \n",
       "\n",
       "[5 rows x 38 columns]"
      ]
     },
     "execution_count": 2,
     "metadata": {},
     "output_type": "execute_result"
    }
   ],
   "source": [
    "df = pd.read_csv('/Users/epainter/Desktop/bet_model_v2/data/processing/fc_3.csv')\n",
    "\n",
    "df.head()"
   ]
  },
  {
   "cell_type": "code",
   "execution_count": 3,
   "id": "b47aa873",
   "metadata": {},
   "outputs": [
    {
     "data": {
      "text/plain": [
       "Index(['spread', 'ou_value', 'fav_ml_result', 'fav_sp_result', 'ou_result',\n",
       "       'fav_ppg', 'und_ppg', 'fav_papg', 'und_papg', 'fav_ypg', 'und_ypg',\n",
       "       'fav_yapg', 'und_yapg', 'fav_topg', 'und_topg', 'fav_tofpg',\n",
       "       'und_tofpg', 'fav_avg_mov', 'und_avg_mov', 'fav_win_pct', 'und_win_pct',\n",
       "       'fav_last_5_win_pct', 'und_last_5_win_pct', 'fav_home_win_pct',\n",
       "       'und_home_win_pct', 'fav_away_win_pct', 'und_away_win_pct', 'ppg_diff',\n",
       "       'ypg_diff', 'topg_diff', 'avg_mov_diff', 'win_pct_diff',\n",
       "       'last_5_win_pct_diff', 'team_ovr_diff', 'ypg_sum', 'ppg_ratio',\n",
       "       'ypg_ratio', 'avg_mov_ratio'],\n",
       "      dtype='object')"
      ]
     },
     "execution_count": 3,
     "metadata": {},
     "output_type": "execute_result"
    }
   ],
   "source": [
    "df.columns"
   ]
  },
  {
   "cell_type": "code",
   "execution_count": 4,
   "id": "c062c6c2",
   "metadata": {},
   "outputs": [],
   "source": [
    "cols = ['fav_ml_result','ppg_diff',\n",
    "       'ypg_diff', 'topg_diff', 'avg_mov_diff', 'win_pct_diff',\n",
    "       'last_5_win_pct_diff', 'team_ovr_diff', 'ypg_sum', 'ppg_ratio',\n",
    "       'ypg_ratio']\n",
    "\n",
    "filt_df = df[cols]"
   ]
  },
  {
   "cell_type": "markdown",
   "id": "2a4e1891",
   "metadata": {},
   "source": [
    "# Feature Selection"
   ]
  },
  {
   "cell_type": "markdown",
   "id": "b3b95c33",
   "metadata": {},
   "source": [
    "## 1.) Dropping constant/quasi-constant features"
   ]
  },
  {
   "cell_type": "code",
   "execution_count": 5,
   "id": "a9f3f602",
   "metadata": {},
   "outputs": [
    {
     "data": {
      "text/plain": [
       "((856, 10), (215, 10))"
      ]
     },
     "execution_count": 5,
     "metadata": {},
     "output_type": "execute_result"
    }
   ],
   "source": [
    "X = filt_df.drop(columns=['fav_ml_result'])\n",
    "y = filt_df['fav_ml_result']\n",
    "\n",
    "X_train, X_test, y_train, y_test = train_test_split(X, y, test_size = 0.2, random_state = 0)\n",
    "\n",
    "X_train.shape, X_test.shape"
   ]
  },
  {
   "cell_type": "code",
   "execution_count": 6,
   "id": "287cb4e3",
   "metadata": {},
   "outputs": [
    {
     "data": {
      "text/plain": [
       "10"
      ]
     },
     "execution_count": 6,
     "metadata": {},
     "output_type": "execute_result"
    }
   ],
   "source": [
    "sel = VarianceThreshold(threshold=0.01)\n",
    "\n",
    "sel.fit(X_train) # finds features with very low variance\n",
    "\n",
    "sum(sel.get_support()) # Number of features that have higher variance than our selected threshold"
   ]
  },
  {
   "cell_type": "markdown",
   "id": "c993436b",
   "metadata": {},
   "source": [
    "We can see that there are no constant or near constant features in our data frame"
   ]
  },
  {
   "cell_type": "markdown",
   "id": "f229b126",
   "metadata": {},
   "source": [
    "## 2.) Correlation Techniques"
   ]
  },
  {
   "cell_type": "markdown",
   "id": "fbbf31e1",
   "metadata": {},
   "source": [
    "Selects subset of features that contain features highly correlated with the target but they uncorrelated with eachother.\n",
    "\n",
    "Feature selection is usually done after data pre-processing (transforming/scaling) my data, so I will do that first."
   ]
  },
  {
   "cell_type": "markdown",
   "id": "bcbe0d40",
   "metadata": {},
   "source": [
    "Scaling the data depends on how the features are structured. For example if there are outliers, using a standard scaler (removing the mean from each value and scaling to a unit variance) may not be useful as the outliers disproportionately affect the mean and standard deviation which leads to less effective scaling.\n",
    "\n",
    "This also affects the distribution of each feature which can affect how scaling and normalization methods peform.\n",
    "\n",
    "By using a robust scaler we can use the median and IQR to scale our data which often give us much better results. This method is widely used for data that has outliers."
   ]
  },
  {
   "cell_type": "code",
   "execution_count": 7,
   "id": "d538e485",
   "metadata": {},
   "outputs": [
    {
     "data": {
      "text/plain": [
       "Index(['ppg_diff', 'ypg_diff', 'topg_diff', 'avg_mov_diff', 'win_pct_diff',\n",
       "       'last_5_win_pct_diff', 'team_ovr_diff', 'ypg_sum', 'ppg_ratio',\n",
       "       'ypg_ratio'],\n",
       "      dtype='object')"
      ]
     },
     "execution_count": 7,
     "metadata": {},
     "output_type": "execute_result"
    }
   ],
   "source": [
    "X_train.columns"
   ]
  },
  {
   "cell_type": "markdown",
   "id": "65ff9ef6",
   "metadata": {},
   "source": [
    "Will first check how each of our features is distributed and see if outliers are present."
   ]
  },
  {
   "cell_type": "code",
   "execution_count": 8,
   "id": "4ad8417c",
   "metadata": {
    "scrolled": true
   },
   "outputs": [
    {
     "data": {
      "image/png": "[encoded data removed]",
      "text/plain": [
       "<Figure size 432x288 with 1 Axes>"
      ]
     },
     "metadata": {
      "needs_background": "light"
     },
     "output_type": "display_data"
    }
   ],
   "source": [
    "import seaborn as sns\n",
    "import matplotlib.pyplot as plt\n",
    "\n",
    "sns.boxplot(y=X_train['ypg_ratio'], palette='muted')\n",
    "plt.show()"
   ]
  },
  {
   "cell_type": "markdown",
   "id": "cde57c66",
   "metadata": {},
   "source": [
    "By looking at these features, most of them contain outliers. Thus, we will use a robust scaling technique to scale our features. \n",
    "\n",
    "I may do some data imputation on these features later (TBD)"
   ]
  },
  {
   "cell_type": "code",
   "execution_count": 9,
   "id": "f0a7dae6",
   "metadata": {},
   "outputs": [],
   "source": [
    "from sklearn.preprocessing import RobustScaler, StandardScaler\n",
    "\n",
    "scaler = StandardScaler()\n",
    "\n",
    "X_train_scaled = scaler.fit_transform(X_train)\n",
    "X_test_scaled = scaler.fit_transform(X_test)"
   ]
  },
  {
   "cell_type": "code",
   "execution_count": 10,
   "id": "1d131c14",
   "metadata": {},
   "outputs": [],
   "source": [
    "# Convert scaled data back into a DataFrame\n",
    "X_train_scaled_df = pd.DataFrame(X_train_scaled, columns=X_train.columns)\n",
    "X_test_scaled_df = pd.DataFrame(X_test_scaled, columns=X_test.columns)"
   ]
  },
  {
   "cell_type": "markdown",
   "id": "dceca644",
   "metadata": {},
   "source": [
    "### Correlations"
   ]
  },
  {
   "cell_type": "markdown",
   "id": "b9c72fb8",
   "metadata": {},
   "source": [
    "Will first check if features are correlated to one another"
   ]
  },
  {
   "cell_type": "code",
   "execution_count": 11,
   "id": "aba62a8e",
   "metadata": {},
   "outputs": [],
   "source": [
    "# with the following function we can select highly correlated features\n",
    "# it will remove the first feature that is correlated with anything else\n",
    "# without any further insight.\n",
    "\n",
    "def correlation(dataset, threshold):\n",
    "    \n",
    "    # create a set where I will store the names of correlated columns\n",
    "    col_corr = set()\n",
    "    \n",
    "    # create the correlation matrix\n",
    "    corr_matrix = dataset.corr()\n",
    "    \n",
    "    # for each feature in the dataset (columns of the correlation matrix)\n",
    "    for i in range(len(corr_matrix.columns)):\n",
    "        \n",
    "        # check with other features\n",
    "        for j in range(i):\n",
    "            \n",
    "            # if the correlation is higher than a certain threshold\n",
    "            if abs(corr_matrix.iloc[i, j]) > threshold: # we are interested in absolute coeff value\n",
    "                \n",
    "                # print correlation, and variables examined\n",
    "                # keep in mind that the columns and rows of the dataframe are identical\n",
    "                # so we can identify the features being examned by looking for i,j\n",
    "                # in the column names\n",
    "                print(abs(corr_matrix.iloc[i, j]), corr_matrix.columns[i], corr_matrix.columns[j])\n",
    "                \n",
    "                # get the name of the correlated feature\n",
    "                colname = corr_matrix.columns[j]\n",
    "                \n",
    "                # and add it to our correlated set\n",
    "                col_corr.add(colname)\n",
    "                \n",
    "    return col_corr"
   ]
  },
  {
   "cell_type": "code",
   "execution_count": 12,
   "id": "2fb4a05f",
   "metadata": {},
   "outputs": [
    {
     "name": "stdout",
     "output_type": "stream",
     "text": [
      "0.8734474907890253 last_5_win_pct_diff win_pct_diff\n",
      "0.8572594451452143 ppg_ratio ppg_diff\n",
      "0.980892771989551 ypg_ratio ypg_diff\n"
     ]
    },
    {
     "data": {
      "text/plain": [
       "3"
      ]
     },
     "execution_count": 12,
     "metadata": {},
     "output_type": "execute_result"
    }
   ],
   "source": [
    "corr_features = correlation(X_train_scaled_df, 0.8)\n",
    "len(set(corr_features))"
   ]
  },
  {
   "cell_type": "markdown",
   "id": "80a9af76",
   "metadata": {},
   "source": [
    "So we can see that using the training data, we found 5 sets of variables that are highly correlated. Thus I will get rid of of one from each set of of variables. \n",
    "\n",
    "It is very likely that by removing these correlated features, the performance of the machine learning models will not drop by very much, if at all."
   ]
  },
  {
   "cell_type": "code",
   "execution_count": 13,
   "id": "8f35dbde",
   "metadata": {},
   "outputs": [
    {
     "data": {
      "text/plain": [
       "{'ppg_diff', 'win_pct_diff', 'ypg_diff'}"
      ]
     },
     "execution_count": 13,
     "metadata": {},
     "output_type": "execute_result"
    }
   ],
   "source": [
    "corr_features"
   ]
  },
  {
   "cell_type": "code",
   "execution_count": 14,
   "id": "3eec8077",
   "metadata": {},
   "outputs": [
    {
     "data": {
      "text/plain": [
       "(856, 7)"
      ]
     },
     "execution_count": 14,
     "metadata": {},
     "output_type": "execute_result"
    }
   ],
   "source": [
    "X_train_scaled_df.drop(labels=corr_features, axis=1, inplace=True)\n",
    "X_test_scaled_df.drop(labels=corr_features, axis=1, inplace=True)\n",
    "\n",
    "X_train_scaled_df.shape"
   ]
  },
  {
   "cell_type": "code",
   "execution_count": 15,
   "id": "c37315fb",
   "metadata": {},
   "outputs": [],
   "source": [
    "# So now our data frame has features that are not highly correlated with one another"
   ]
  },
  {
   "cell_type": "markdown",
   "id": "3369cbfb",
   "metadata": {},
   "source": [
    "Now that I have begun to reduce the number of features using correlation, I now want to explore some other statistical tests."
   ]
  },
  {
   "cell_type": "markdown",
   "id": "322c2c0f",
   "metadata": {},
   "source": [
    "### Mutual Information"
   ]
  },
  {
   "cell_type": "markdown",
   "id": "c11436e9",
   "metadata": {},
   "source": [
    "First lets look at how mutual information works on our data"
   ]
  },
  {
   "cell_type": "code",
   "execution_count": 16,
   "id": "c8640479",
   "metadata": {
    "scrolled": true
   },
   "outputs": [
    {
     "data": {
      "text/plain": [
       "Text(0, 0.5, 'Mutual Information')"
      ]
     },
     "execution_count": 16,
     "metadata": {},
     "output_type": "execute_result"
    },
    {
     "data": {
      "image/png": "[encoded data removed]",
      "text/plain": [
       "<Figure size 1440x432 with 1 Axes>"
      ]
     },
     "metadata": {
      "needs_background": "light"
     },
     "output_type": "display_data"
    }
   ],
   "source": [
    "from sklearn.feature_selection import SelectKBest, mutual_info_classif, f_classif\n",
    "\n",
    "mi = mutual_info_classif(X_train_scaled_df, y_train)\n",
    "mi\n",
    "\n",
    "mi = pd.Series(mi)\n",
    "mi.index = X_train_scaled_df.columns\n",
    "mi.sort_values(ascending=False).plot.bar(figsize=(20, 6))\n",
    "plt.ylabel('Mutual Information')"
   ]
  },
  {
   "cell_type": "code",
   "execution_count": 17,
   "id": "fe9cbd84",
   "metadata": {
    "scrolled": true
   },
   "outputs": [
    {
     "data": {
      "text/plain": [
       "Text(0, 0.5, 'F-Value 0')"
      ]
     },
     "execution_count": 17,
     "metadata": {},
     "output_type": "execute_result"
    },
    {
     "data": {
      "image/png": "[encoded data removed]",
      "text/plain": [
       "<Figure size 1440x432 with 1 Axes>"
      ]
     },
     "metadata": {
      "needs_background": "light"
     },
     "output_type": "display_data"
    }
   ],
   "source": [
    "# Can now do this for ANOVA\n",
    "\n",
    "anova = f_classif(X_train_scaled_df, y_train)\n",
    "\n",
    "anova_0 = anova[0]\n",
    "anova_1 = anova[1]\n",
    "\n",
    "# Create both plots\n",
    "anova_0 = pd.Series(anova_0)\n",
    "anova_0.index = X_train_scaled_df.columns\n",
    "anova_0.sort_values(ascending=False).plot.bar(figsize=(20, 6))\n",
    "plt.ylabel('F-Value 0')"
   ]
  },
  {
   "cell_type": "code",
   "execution_count": 18,
   "id": "24a40518",
   "metadata": {
    "scrolled": true
   },
   "outputs": [
    {
     "data": {
      "text/plain": [
       "Text(0, 0.5, 'F-Value 1')"
      ]
     },
     "execution_count": 18,
     "metadata": {},
     "output_type": "execute_result"
    },
    {
     "data": {
      "image/png": "[encoded data removed]",
      "text/plain": [
       "<Figure size 1440x432 with 1 Axes>"
      ]
     },
     "metadata": {
      "needs_background": "light"
     },
     "output_type": "display_data"
    }
   ],
   "source": [
    "# Create both plots\n",
    "anova_1 = pd.Series(anova_1)\n",
    "anova_1.index = X_train_scaled_df.columns\n",
    "anova_1.sort_values(ascending=False).plot.bar(figsize=(20, 6))\n",
    "plt.ylabel('F-Value 1')"
   ]
  },
  {
   "cell_type": "markdown",
   "id": "5efbca4b",
   "metadata": {},
   "source": [
    "We can now select the best features based on our mutual information scores or our ANOVA values"
   ]
  },
  {
   "cell_type": "markdown",
   "id": "0a6eda51",
   "metadata": {},
   "source": [
    "## Selecting Best Features"
   ]
  },
  {
   "cell_type": "code",
   "execution_count": 19,
   "id": "c6a85268",
   "metadata": {},
   "outputs": [
    {
     "data": {
      "text/html": [
       "<div>\n",
       "<style scoped>\n",
       "    .dataframe tbody tr th:only-of-type {\n",
       "        vertical-align: middle;\n",
       "    }\n",
       "\n",
       "    .dataframe tbody tr th {\n",
       "        vertical-align: top;\n",
       "    }\n",
       "\n",
       "    .dataframe thead th {\n",
       "        text-align: right;\n",
       "    }\n",
       "</style>\n",
       "<table border=\"1\" class=\"dataframe\">\n",
       "  <thead>\n",
       "    <tr style=\"text-align: right;\">\n",
       "      <th></th>\n",
       "      <th>last_5_win_pct_diff</th>\n",
       "      <th>team_ovr_diff</th>\n",
       "      <th>ypg_sum</th>\n",
       "      <th>ppg_ratio</th>\n",
       "      <th>ypg_ratio</th>\n",
       "    </tr>\n",
       "  </thead>\n",
       "  <tbody>\n",
       "    <tr>\n",
       "      <th>0</th>\n",
       "      <td>-0.482238</td>\n",
       "      <td>-1.257017</td>\n",
       "      <td>2.973861</td>\n",
       "      <td>-0.476804</td>\n",
       "      <td>-0.203212</td>\n",
       "    </tr>\n",
       "    <tr>\n",
       "      <th>1</th>\n",
       "      <td>-3.144237</td>\n",
       "      <td>2.089945</td>\n",
       "      <td>-2.215183</td>\n",
       "      <td>-1.964879</td>\n",
       "      <td>3.002249</td>\n",
       "    </tr>\n",
       "    <tr>\n",
       "      <th>2</th>\n",
       "      <td>-0.482238</td>\n",
       "      <td>-0.373877</td>\n",
       "      <td>0.662774</td>\n",
       "      <td>1.331778</td>\n",
       "      <td>-0.149788</td>\n",
       "    </tr>\n",
       "    <tr>\n",
       "      <th>3</th>\n",
       "      <td>-0.482238</td>\n",
       "      <td>-0.472281</td>\n",
       "      <td>-0.789722</td>\n",
       "      <td>-0.064722</td>\n",
       "      <td>0.437880</td>\n",
       "    </tr>\n",
       "    <tr>\n",
       "      <th>4</th>\n",
       "      <td>1.114961</td>\n",
       "      <td>0.628841</td>\n",
       "      <td>0.775131</td>\n",
       "      <td>-0.614165</td>\n",
       "      <td>-0.256637</td>\n",
       "    </tr>\n",
       "    <tr>\n",
       "      <th>...</th>\n",
       "      <td>...</td>\n",
       "      <td>...</td>\n",
       "      <td>...</td>\n",
       "      <td>...</td>\n",
       "      <td>...</td>\n",
       "    </tr>\n",
       "    <tr>\n",
       "      <th>851</th>\n",
       "      <td>0.050161</td>\n",
       "      <td>1.176911</td>\n",
       "      <td>-1.020104</td>\n",
       "      <td>-0.270763</td>\n",
       "      <td>-0.310061</td>\n",
       "    </tr>\n",
       "    <tr>\n",
       "      <th>852</th>\n",
       "      <td>-1.014638</td>\n",
       "      <td>-0.845965</td>\n",
       "      <td>0.900569</td>\n",
       "      <td>-0.614165</td>\n",
       "      <td>-0.951153</td>\n",
       "    </tr>\n",
       "    <tr>\n",
       "      <th>853</th>\n",
       "      <td>-1.813238</td>\n",
       "      <td>-0.119772</td>\n",
       "      <td>-1.045104</td>\n",
       "      <td>1.125737</td>\n",
       "      <td>-1.592245</td>\n",
       "    </tr>\n",
       "    <tr>\n",
       "      <th>854</th>\n",
       "      <td>-0.482238</td>\n",
       "      <td>0.342350</td>\n",
       "      <td>2.261640</td>\n",
       "      <td>0.965483</td>\n",
       "      <td>0.277607</td>\n",
       "    </tr>\n",
       "    <tr>\n",
       "      <th>855</th>\n",
       "      <td>-0.482238</td>\n",
       "      <td>1.464648</td>\n",
       "      <td>-0.574311</td>\n",
       "      <td>-0.431017</td>\n",
       "      <td>-0.790880</td>\n",
       "    </tr>\n",
       "  </tbody>\n",
       "</table>\n",
       "<p>856 rows × 5 columns</p>\n",
       "</div>"
      ],
      "text/plain": [
       "     last_5_win_pct_diff  team_ovr_diff   ypg_sum  ppg_ratio  ypg_ratio\n",
       "0              -0.482238      -1.257017  2.973861  -0.476804  -0.203212\n",
       "1              -3.144237       2.089945 -2.215183  -1.964879   3.002249\n",
       "2              -0.482238      -0.373877  0.662774   1.331778  -0.149788\n",
       "3              -0.482238      -0.472281 -0.789722  -0.064722   0.437880\n",
       "4               1.114961       0.628841  0.775131  -0.614165  -0.256637\n",
       "..                   ...            ...       ...        ...        ...\n",
       "851             0.050161       1.176911 -1.020104  -0.270763  -0.310061\n",
       "852            -1.014638      -0.845965  0.900569  -0.614165  -0.951153\n",
       "853            -1.813238      -0.119772 -1.045104   1.125737  -1.592245\n",
       "854            -0.482238       0.342350  2.261640   0.965483   0.277607\n",
       "855            -0.482238       1.464648 -0.574311  -0.431017  -0.790880\n",
       "\n",
       "[856 rows x 5 columns]"
      ]
     },
     "execution_count": 19,
     "metadata": {},
     "output_type": "execute_result"
    }
   ],
   "source": [
    "mi_sel = SelectKBest(mutual_info_classif, k=5)\n",
    "mi_sel.fit(X_train_scaled_df, y_train)\n",
    "\n",
    "# Get the indices of the selected features\n",
    "selected_feature_indices = mi_sel.get_support(indices=True)\n",
    "\n",
    "# Get the names of the selected features\n",
    "selected_feature_names = X_train_scaled_df.columns[selected_feature_indices]\n",
    "\n",
    "# Create a new DataFrame with only the selected features\n",
    "X_train_mi = pd.DataFrame(mi_sel.transform(X_train_scaled_df), \n",
    "                                columns=selected_feature_names, \n",
    "                                index=X_train_scaled_df.index)\n",
    "\n",
    "X_test_mi = pd.DataFrame(mi_sel.transform(X_test_scaled_df),\n",
    "                        columns=selected_feature_names,\n",
    "                        index=X_test_scaled_df.index)\n",
    "\n",
    "X_train_mi"
   ]
  },
  {
   "cell_type": "code",
   "execution_count": 20,
   "id": "80d79b83",
   "metadata": {},
   "outputs": [
    {
     "data": {
      "text/html": [
       "<div>\n",
       "<style scoped>\n",
       "    .dataframe tbody tr th:only-of-type {\n",
       "        vertical-align: middle;\n",
       "    }\n",
       "\n",
       "    .dataframe tbody tr th {\n",
       "        vertical-align: top;\n",
       "    }\n",
       "\n",
       "    .dataframe thead th {\n",
       "        text-align: right;\n",
       "    }\n",
       "</style>\n",
       "<table border=\"1\" class=\"dataframe\">\n",
       "  <thead>\n",
       "    <tr style=\"text-align: right;\">\n",
       "      <th></th>\n",
       "      <th>avg_mov_diff</th>\n",
       "      <th>last_5_win_pct_diff</th>\n",
       "      <th>team_ovr_diff</th>\n",
       "      <th>ppg_ratio</th>\n",
       "      <th>ypg_ratio</th>\n",
       "    </tr>\n",
       "  </thead>\n",
       "  <tbody>\n",
       "    <tr>\n",
       "      <th>0</th>\n",
       "      <td>-0.821143</td>\n",
       "      <td>-0.482238</td>\n",
       "      <td>-1.257017</td>\n",
       "      <td>-0.476804</td>\n",
       "      <td>-0.203212</td>\n",
       "    </tr>\n",
       "    <tr>\n",
       "      <th>1</th>\n",
       "      <td>-2.599714</td>\n",
       "      <td>-3.144237</td>\n",
       "      <td>2.089945</td>\n",
       "      <td>-1.964879</td>\n",
       "      <td>3.002249</td>\n",
       "    </tr>\n",
       "    <tr>\n",
       "      <th>2</th>\n",
       "      <td>-0.228287</td>\n",
       "      <td>-0.482238</td>\n",
       "      <td>-0.373877</td>\n",
       "      <td>1.331778</td>\n",
       "      <td>-0.149788</td>\n",
       "    </tr>\n",
       "    <tr>\n",
       "      <th>3</th>\n",
       "      <td>-1.329307</td>\n",
       "      <td>-0.482238</td>\n",
       "      <td>-0.472281</td>\n",
       "      <td>-0.064722</td>\n",
       "      <td>0.437880</td>\n",
       "    </tr>\n",
       "    <tr>\n",
       "      <th>4</th>\n",
       "      <td>-0.115644</td>\n",
       "      <td>1.114961</td>\n",
       "      <td>0.628841</td>\n",
       "      <td>-0.614165</td>\n",
       "      <td>-0.256637</td>\n",
       "    </tr>\n",
       "    <tr>\n",
       "      <th>...</th>\n",
       "      <td>...</td>\n",
       "      <td>...</td>\n",
       "      <td>...</td>\n",
       "      <td>...</td>\n",
       "      <td>...</td>\n",
       "    </tr>\n",
       "    <tr>\n",
       "      <th>851</th>\n",
       "      <td>0.618652</td>\n",
       "      <td>0.050161</td>\n",
       "      <td>1.176911</td>\n",
       "      <td>-0.270763</td>\n",
       "      <td>-0.310061</td>\n",
       "    </tr>\n",
       "    <tr>\n",
       "      <th>852</th>\n",
       "      <td>-1.131970</td>\n",
       "      <td>-1.014638</td>\n",
       "      <td>-0.845965</td>\n",
       "      <td>-0.614165</td>\n",
       "      <td>-0.951153</td>\n",
       "    </tr>\n",
       "    <tr>\n",
       "      <th>853</th>\n",
       "      <td>0.068142</td>\n",
       "      <td>-1.813238</td>\n",
       "      <td>-0.119772</td>\n",
       "      <td>1.125737</td>\n",
       "      <td>-1.592245</td>\n",
       "    </tr>\n",
       "    <tr>\n",
       "      <th>854</th>\n",
       "      <td>-1.583388</td>\n",
       "      <td>-0.482238</td>\n",
       "      <td>0.342350</td>\n",
       "      <td>0.965483</td>\n",
       "      <td>0.277607</td>\n",
       "    </tr>\n",
       "    <tr>\n",
       "      <th>855</th>\n",
       "      <td>-0.369725</td>\n",
       "      <td>-0.482238</td>\n",
       "      <td>1.464648</td>\n",
       "      <td>-0.431017</td>\n",
       "      <td>-0.790880</td>\n",
       "    </tr>\n",
       "  </tbody>\n",
       "</table>\n",
       "<p>856 rows × 5 columns</p>\n",
       "</div>"
      ],
      "text/plain": [
       "     avg_mov_diff  last_5_win_pct_diff  team_ovr_diff  ppg_ratio  ypg_ratio\n",
       "0       -0.821143            -0.482238      -1.257017  -0.476804  -0.203212\n",
       "1       -2.599714            -3.144237       2.089945  -1.964879   3.002249\n",
       "2       -0.228287            -0.482238      -0.373877   1.331778  -0.149788\n",
       "3       -1.329307            -0.482238      -0.472281  -0.064722   0.437880\n",
       "4       -0.115644             1.114961       0.628841  -0.614165  -0.256637\n",
       "..            ...                  ...            ...        ...        ...\n",
       "851      0.618652             0.050161       1.176911  -0.270763  -0.310061\n",
       "852     -1.131970            -1.014638      -0.845965  -0.614165  -0.951153\n",
       "853      0.068142            -1.813238      -0.119772   1.125737  -1.592245\n",
       "854     -1.583388            -0.482238       0.342350   0.965483   0.277607\n",
       "855     -0.369725            -0.482238       1.464648  -0.431017  -0.790880\n",
       "\n",
       "[856 rows x 5 columns]"
      ]
     },
     "execution_count": 20,
     "metadata": {},
     "output_type": "execute_result"
    }
   ],
   "source": [
    "f_sel = SelectKBest(f_classif, k=5)\n",
    "f_sel.fit(X_train_scaled_df, y_train)\n",
    "\n",
    "# Get the indices of the selected features\n",
    "selected_feature_indices = f_sel.get_support(indices=True)\n",
    "\n",
    "# Get the names of the selected features\n",
    "selected_feature_names = X_train_scaled_df.columns[selected_feature_indices]\n",
    "\n",
    "# Create a new DataFrame with only the selected features\n",
    "X_train_f = pd.DataFrame(f_sel.transform(X_train_scaled_df), \n",
    "                                columns=selected_feature_names, \n",
    "                                index=X_train_scaled_df.index)\n",
    "\n",
    "X_test_f = pd.DataFrame(f_sel.transform(X_test_scaled_df), \n",
    "                                columns=selected_feature_names, \n",
    "                                index=X_test_scaled_df.index)\n",
    "\n",
    "X_train_f"
   ]
  },
  {
   "cell_type": "code",
   "execution_count": 21,
   "id": "d0fcb451",
   "metadata": {},
   "outputs": [],
   "source": [
    "# So now we have our features that are "
   ]
  },
  {
   "cell_type": "code",
   "execution_count": 22,
   "id": "119153af",
   "metadata": {},
   "outputs": [],
   "source": [
    "# So now I will try to run the model on these scaled, and filetered training and test sets"
   ]
  },
  {
   "cell_type": "code",
   "execution_count": 23,
   "id": "fd3651a7",
   "metadata": {},
   "outputs": [],
   "source": [
    "from sklearn.preprocessing import StandardScaler\n",
    "from sklearn.linear_model import LogisticRegression\n",
    "from sklearn.svm import SVC\n",
    "from sklearn.neighbors import KNeighborsClassifier\n",
    "from sklearn.neural_network import MLPClassifier\n",
    "from sklearn.metrics import accuracy_score, confusion_matrix, classification_report"
   ]
  },
  {
   "cell_type": "code",
   "execution_count": 24,
   "id": "20a68d2e",
   "metadata": {
    "scrolled": true
   },
   "outputs": [
    {
     "name": "stdout",
     "output_type": "stream",
     "text": [
      "\n",
      "LogisticRegression Results:\n",
      "Accuracy: 0.5534883720930233\n",
      "Confusion Matrix:\n",
      " [[43 29]\n",
      " [67 76]]\n",
      "Classification Report:\n",
      "               precision    recall  f1-score   support\n",
      "\n",
      "           0       0.39      0.60      0.47        72\n",
      "           1       0.72      0.53      0.61       143\n",
      "\n",
      "    accuracy                           0.55       215\n",
      "   macro avg       0.56      0.56      0.54       215\n",
      "weighted avg       0.61      0.55      0.57       215\n",
      "\n",
      "\n",
      "SVC Results:\n",
      "Accuracy: 0.5488372093023256\n",
      "Confusion Matrix:\n",
      " [[38 34]\n",
      " [63 80]]\n",
      "Classification Report:\n",
      "               precision    recall  f1-score   support\n",
      "\n",
      "           0       0.38      0.53      0.44        72\n",
      "           1       0.70      0.56      0.62       143\n",
      "\n",
      "    accuracy                           0.55       215\n",
      "   macro avg       0.54      0.54      0.53       215\n",
      "weighted avg       0.59      0.55      0.56       215\n",
      "\n",
      "\n",
      "KNeighborsClassifier Results:\n",
      "Accuracy: 0.5813953488372093\n",
      "Confusion Matrix:\n",
      " [[ 12  60]\n",
      " [ 30 113]]\n",
      "Classification Report:\n",
      "               precision    recall  f1-score   support\n",
      "\n",
      "           0       0.29      0.17      0.21        72\n",
      "           1       0.65      0.79      0.72       143\n",
      "\n",
      "    accuracy                           0.58       215\n",
      "   macro avg       0.47      0.48      0.46       215\n",
      "weighted avg       0.53      0.58      0.55       215\n",
      "\n",
      "\n",
      "MLPClassifier Results:\n",
      "Accuracy: 0.6604651162790698\n",
      "Confusion Matrix:\n",
      " [[  4  68]\n",
      " [  5 138]]\n",
      "Classification Report:\n",
      "               precision    recall  f1-score   support\n",
      "\n",
      "           0       0.44      0.06      0.10        72\n",
      "           1       0.67      0.97      0.79       143\n",
      "\n",
      "    accuracy                           0.66       215\n",
      "   macro avg       0.56      0.51      0.44       215\n",
      "weighted avg       0.59      0.66      0.56       215\n",
      "\n"
     ]
    },
    {
     "name": "stderr",
     "output_type": "stream",
     "text": [
      "/Users/epainter/opt/anaconda3/lib/python3.9/site-packages/sklearn/neural_network/_multilayer_perceptron.py:690: ConvergenceWarning: Stochastic Optimizer: Maximum iterations (200) reached and the optimization hasn't converged yet.\n",
      "  warnings.warn(\n"
     ]
    }
   ],
   "source": [
    "\n",
    "# Define models that require feature scaling\n",
    "models = [\n",
    "    LogisticRegression(random_state=42, class_weight='balanced'),\n",
    "    SVC(random_state=42, class_weight='balanced'),\n",
    "    KNeighborsClassifier(),\n",
    "    MLPClassifier(random_state=42)\n",
    "]\n",
    "\n",
    "# Train and evaluate each model\n",
    "for model in models:\n",
    "    model.fit(X_train_mi, y_train)\n",
    "    y_pred = model.predict(X_test_mi)\n",
    "    \n",
    "    print(f\"\\n{model.__class__.__name__} Results:\")\n",
    "    print(\"Accuracy:\", accuracy_score(y_test, y_pred))\n",
    "    print(\"Confusion Matrix:\\n\", confusion_matrix(y_test, y_pred))\n",
    "    print(\"Classification Report:\\n\", classification_report(y_test, y_pred))"
   ]
  },
  {
   "cell_type": "code",
   "execution_count": 25,
   "id": "87167ac5",
   "metadata": {
    "scrolled": true
   },
   "outputs": [
    {
     "name": "stdout",
     "output_type": "stream",
     "text": [
      "\n",
      "LogisticRegression Results:\n",
      "Accuracy: 0.5488372093023256\n",
      "Confusion Matrix:\n",
      " [[44 28]\n",
      " [69 74]]\n",
      "Classification Report:\n",
      "               precision    recall  f1-score   support\n",
      "\n",
      "           0       0.39      0.61      0.48        72\n",
      "           1       0.73      0.52      0.60       143\n",
      "\n",
      "    accuracy                           0.55       215\n",
      "   macro avg       0.56      0.56      0.54       215\n",
      "weighted avg       0.61      0.55      0.56       215\n",
      "\n",
      "\n",
      "SVC Results:\n",
      "Accuracy: 0.5441860465116279\n",
      "Confusion Matrix:\n",
      " [[36 36]\n",
      " [62 81]]\n",
      "Classification Report:\n",
      "               precision    recall  f1-score   support\n",
      "\n",
      "           0       0.37      0.50      0.42        72\n",
      "           1       0.69      0.57      0.62       143\n",
      "\n",
      "    accuracy                           0.54       215\n",
      "   macro avg       0.53      0.53      0.52       215\n",
      "weighted avg       0.58      0.54      0.56       215\n",
      "\n",
      "\n",
      "KNeighborsClassifier Results:\n",
      "Accuracy: 0.6511627906976745\n",
      "Confusion Matrix:\n",
      " [[ 18  54]\n",
      " [ 21 122]]\n",
      "Classification Report:\n",
      "               precision    recall  f1-score   support\n",
      "\n",
      "           0       0.46      0.25      0.32        72\n",
      "           1       0.69      0.85      0.76       143\n",
      "\n",
      "    accuracy                           0.65       215\n",
      "   macro avg       0.58      0.55      0.54       215\n",
      "weighted avg       0.62      0.65      0.62       215\n",
      "\n",
      "\n",
      "MLPClassifier Results:\n",
      "Accuracy: 0.6511627906976745\n",
      "Confusion Matrix:\n",
      " [[  2  70]\n",
      " [  5 138]]\n",
      "Classification Report:\n",
      "               precision    recall  f1-score   support\n",
      "\n",
      "           0       0.29      0.03      0.05        72\n",
      "           1       0.66      0.97      0.79       143\n",
      "\n",
      "    accuracy                           0.65       215\n",
      "   macro avg       0.47      0.50      0.42       215\n",
      "weighted avg       0.54      0.65      0.54       215\n",
      "\n"
     ]
    },
    {
     "name": "stderr",
     "output_type": "stream",
     "text": [
      "/Users/epainter/opt/anaconda3/lib/python3.9/site-packages/sklearn/neural_network/_multilayer_perceptron.py:690: ConvergenceWarning: Stochastic Optimizer: Maximum iterations (200) reached and the optimization hasn't converged yet.\n",
      "  warnings.warn(\n"
     ]
    }
   ],
   "source": [
    "# THIS IS FOR ANOVA\n",
    "\n",
    "# Train and evaluate each model\n",
    "for model in models:\n",
    "    model.fit(X_train_f, y_train)\n",
    "    y_pred = model.predict(X_test_f)\n",
    "    \n",
    "    print(f\"\\n{model.__class__.__name__} Results:\")\n",
    "    print(\"Accuracy:\", accuracy_score(y_test, y_pred))\n",
    "    print(\"Confusion Matrix:\\n\", confusion_matrix(y_test, y_pred))\n",
    "    print(\"Classification Report:\\n\", classification_report(y_test, y_pred))"
   ]
  },
  {
   "cell_type": "code",
   "execution_count": null,
   "id": "215411b3",
   "metadata": {},
   "outputs": [],
   "source": []
  },
  {
   "cell_type": "code",
   "execution_count": null,
   "id": "bd8ee508",
   "metadata": {},
   "outputs": [],
   "source": []
  },
  {
   "cell_type": "code",
   "execution_count": null,
   "id": "ddc0e907",
   "metadata": {},
   "outputs": [],
   "source": []
  }
 ],
 "metadata": {
  "kernelspec": {
   "display_name": "Python 3 (ipykernel)",
   "language": "python",
   "name": "python3"
  },
  "language_info": {
   "codemirror_mode": {
    "name": "ipython",
    "version": 3
   },
   "file_extension": ".py",
   "mimetype": "text/x-python",
   "name": "python",
   "nbconvert_exporter": "python",
   "pygments_lexer": "ipython3",
   "version": "3.9.12"
  }
 },
 "nbformat": 4,
 "nbformat_minor": 5
}
