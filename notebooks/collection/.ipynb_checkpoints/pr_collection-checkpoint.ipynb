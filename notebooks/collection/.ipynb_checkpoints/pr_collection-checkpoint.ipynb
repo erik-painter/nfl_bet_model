{
 "cells": [
  {
   "cell_type": "markdown",
   "id": "6d7a3943",
   "metadata": {},
   "source": [
    "# Collecting Player Data by Team"
   ]
  },
  {
   "cell_type": "markdown",
   "id": "89fc716a",
   "metadata": {},
   "source": [
    "This is meant to collect player data for each team in the NFL since the 2020 season. \n",
    "\n",
    "For each year, player ratings were structured differently or came from different data sources, thus the way in which each players data is extracted for each distinct year varies.\n",
    "\n",
    "For each year, a data frame is created that shows the *Position*, *Name*, *Rating*, *Team*, and *Season* for each player. This allows us to merge it with our data much easier in the later steps."
   ]
  },
  {
   "cell_type": "code",
   "execution_count": 1,
   "id": "8074d7ff",
   "metadata": {},
   "outputs": [
    {
     "name": "stderr",
     "output_type": "stream",
     "text": [
      "/Users/epainter/opt/anaconda3/lib/python3.9/site-packages/pandas/core/computation/expressions.py:21: UserWarning: Pandas requires version '2.8.4' or newer of 'numexpr' (version '2.8.1' currently installed).\n",
      "  from pandas.core.computation.check import NUMEXPR_INSTALLED\n",
      "/Users/epainter/opt/anaconda3/lib/python3.9/site-packages/pandas/core/arrays/masked.py:60: UserWarning: Pandas requires version '1.3.6' or newer of 'bottleneck' (version '1.3.4' currently installed).\n",
      "  from pandas.core import (\n"
     ]
    }
   ],
   "source": [
    "import numpy as np\n",
    "import pandas as pd\n",
    "from bs4 import BeautifulSoup\n",
    "import re"
   ]
  },
  {
   "cell_type": "markdown",
   "id": "de0e25e3",
   "metadata": {},
   "source": [
    "# 2020 Player Data"
   ]
  },
  {
   "cell_type": "code",
   "execution_count": 2,
   "id": "dbb3c324",
   "metadata": {},
   "outputs": [],
   "source": [
    "html_fp = '/Users/epainter/Desktop/bet_model_v2/data/raw/pr_2020.html'\n",
    "\n",
    "with open(html_fp, \"r\") as file:\n",
    "    html_content = file.read()\n",
    "    \n",
    "soup = BeautifulSoup(html_content, 'html.parser')\n",
    "\n",
    "td_tags = soup.find_all('td')\n",
    "\n",
    "td_text_list = []\n",
    "\n",
    "for td in td_tags:\n",
    "    td_text_list.append(td.text.strip())\n",
    "    \n",
    "player_list = td_text_list"
   ]
  },
  {
   "cell_type": "code",
   "execution_count": 3,
   "id": "ae84a719",
   "metadata": {},
   "outputs": [],
   "source": [
    "# Initialize lists to store components\n",
    "positions = []\n",
    "names = []\n",
    "ratings = []\n",
    "\n",
    "# Iterate through each item in player_list\n",
    "for item in player_list:\n",
    "    # Split each item to extract position, name, and rating\n",
    "    parts = item.split()\n",
    "    \n",
    "    # Extract position (first part)\n",
    "    position = parts[0]\n",
    "    \n",
    "    # Extract name (rest of the parts except last part which is rating)\n",
    "    name = ' '.join(parts[1:-1])\n",
    "    \n",
    "    # Extract rating (last part), remove '**' if present\n",
    "    rating = parts[-1].replace('**', '').replace('*', '').strip('()')\n",
    "    \n",
    "    # Append to respective lists\n",
    "    positions.append(position)\n",
    "    names.append(name)\n",
    "    ratings.append(rating)\n",
    "\n",
    "# Create DataFrame\n",
    "df_2020 = pd.DataFrame({\n",
    "    'Position': positions,\n",
    "    'Name': names,\n",
    "    'Rating': ratings\n",
    "})"
   ]
  },
  {
   "cell_type": "code",
   "execution_count": 4,
   "id": "17185d7c",
   "metadata": {},
   "outputs": [
    {
     "data": {
      "text/html": [
       "<div>\n",
       "<style scoped>\n",
       "    .dataframe tbody tr th:only-of-type {\n",
       "        vertical-align: middle;\n",
       "    }\n",
       "\n",
       "    .dataframe tbody tr th {\n",
       "        vertical-align: top;\n",
       "    }\n",
       "\n",
       "    .dataframe thead th {\n",
       "        text-align: right;\n",
       "    }\n",
       "</style>\n",
       "<table border=\"1\" class=\"dataframe\">\n",
       "  <thead>\n",
       "    <tr style=\"text-align: right;\">\n",
       "      <th></th>\n",
       "      <th>Position</th>\n",
       "      <th>Name</th>\n",
       "      <th>Rating</th>\n",
       "    </tr>\n",
       "  </thead>\n",
       "  <tbody>\n",
       "    <tr>\n",
       "      <th>0</th>\n",
       "      <td>QB</td>\n",
       "      <td>Lamar Jackson</td>\n",
       "      <td>90.1</td>\n",
       "    </tr>\n",
       "    <tr>\n",
       "      <th>1</th>\n",
       "      <td>DT</td>\n",
       "      <td>Derek Wolfe</td>\n",
       "      <td>68.5</td>\n",
       "    </tr>\n",
       "    <tr>\n",
       "      <th>2</th>\n",
       "      <td>RB</td>\n",
       "      <td>Mark Ingram II</td>\n",
       "      <td>78.7</td>\n",
       "    </tr>\n",
       "    <tr>\n",
       "      <th>3</th>\n",
       "      <td>DT</td>\n",
       "      <td>Brandon Williams</td>\n",
       "      <td>64.8</td>\n",
       "    </tr>\n",
       "    <tr>\n",
       "      <th>4</th>\n",
       "      <td>RB</td>\n",
       "      <td>J.K. Dobbins</td>\n",
       "      <td>83.8</td>\n",
       "    </tr>\n",
       "    <tr>\n",
       "      <th>...</th>\n",
       "      <td>...</td>\n",
       "      <td>...</td>\n",
       "      <td>...</td>\n",
       "    </tr>\n",
       "    <tr>\n",
       "      <th>763</th>\n",
       "      <td>CB</td>\n",
       "      <td>D.J. Hayden</td>\n",
       "      <td>76.9</td>\n",
       "    </tr>\n",
       "    <tr>\n",
       "      <th>764</th>\n",
       "      <td>RG</td>\n",
       "      <td>A.J. Cann</td>\n",
       "      <td>55.3</td>\n",
       "    </tr>\n",
       "    <tr>\n",
       "      <th>765</th>\n",
       "      <td>S</td>\n",
       "      <td>Ronnie Harrison</td>\n",
       "      <td>60.9</td>\n",
       "    </tr>\n",
       "    <tr>\n",
       "      <th>766</th>\n",
       "      <td>RT</td>\n",
       "      <td>Jawaan Taylor</td>\n",
       "      <td>63.8</td>\n",
       "    </tr>\n",
       "    <tr>\n",
       "      <th>767</th>\n",
       "      <td>S</td>\n",
       "      <td>Jarrod Wilson</td>\n",
       "      <td>72.8</td>\n",
       "    </tr>\n",
       "  </tbody>\n",
       "</table>\n",
       "<p>768 rows × 3 columns</p>\n",
       "</div>"
      ],
      "text/plain": [
       "    Position              Name Rating\n",
       "0         QB     Lamar Jackson   90.1\n",
       "1         DT       Derek Wolfe   68.5\n",
       "2         RB    Mark Ingram II   78.7\n",
       "3         DT  Brandon Williams   64.8\n",
       "4         RB      J.K. Dobbins   83.8\n",
       "..       ...               ...    ...\n",
       "763       CB       D.J. Hayden   76.9\n",
       "764       RG         A.J. Cann   55.3\n",
       "765        S   Ronnie Harrison   60.9\n",
       "766       RT     Jawaan Taylor   63.8\n",
       "767        S     Jarrod Wilson   72.8\n",
       "\n",
       "[768 rows x 3 columns]"
      ]
     },
     "execution_count": 4,
     "metadata": {},
     "output_type": "execute_result"
    }
   ],
   "source": [
    "df_2020"
   ]
  },
  {
   "cell_type": "code",
   "execution_count": 5,
   "id": "645483f1",
   "metadata": {},
   "outputs": [],
   "source": [
    "team_names_list = ['Baltimore Ravens', 'New Orleans Saints', 'San Francisco 49ers', 'Kansas City Chiefs', \n",
    "                   'Tampa Bay Buccaneers', 'Dallas Cowboys', 'Buffalo Bills', 'Tennessee Titans', \n",
    "                   'Philadelphia Eagles', 'Pittsburgh Steelers', 'Cleveland Browns', 'Green Bay Packers', \n",
    "                   'Indianapolis Colts', 'Denver Broncos', 'Seattle Seahawks', 'Los Angeles Chargers', \n",
    "                   'Minnesota Vikings', 'New England Patriots', 'Detroit Lions', 'Atlanta Falcons',\n",
    "                   'Chicago Bears', 'Los Angeles Rams', 'Houston Texans', 'Arizona Cardinals', 'Las Vegas Raiders', 'Cincinnati Bengals',\n",
    "                   'New York Giants', 'New York Jets', 'Carolina Panthers', 'Miami Dolphins', \n",
    "                   'Washington Commanders', 'Jacksonville Jaguars']\n",
    "\n",
    "team_names = []\n",
    "\n",
    "for team_name in team_names_list:\n",
    "    \n",
    "    # Repeat the team name 24 times (assuming 24 players per team)\n",
    "    team_names.extend([team_name] * 24)\n",
    "\n",
    "df_2020['Team'] = team_names\n",
    "df_2020['Season'] = 2020"
   ]
  },
  {
   "cell_type": "markdown",
   "id": "5ff0ce12",
   "metadata": {},
   "source": [
    "### Some cleaning 2020"
   ]
  },
  {
   "cell_type": "markdown",
   "id": "30b928e2",
   "metadata": {},
   "source": [
    "There are some issues with the naming of some of the positions that does not match the rest."
   ]
  },
  {
   "cell_type": "code",
   "execution_count": 6,
   "id": "e03a2da8",
   "metadata": {},
   "outputs": [
    {
     "data": {
      "text/plain": [
       "array(['QB', 'DI', 'RB', 'TE', 'Edge', 'WR', 'LB', 'LT', 'CB', 'LG', 'C',\n",
       "       'RG', 'S', 'RT', 'FB'], dtype=object)"
      ]
     },
     "execution_count": 6,
     "metadata": {},
     "output_type": "execute_result"
    }
   ],
   "source": [
    "# Replace values\n",
    "df_2020['Position'] = df_2020['Position'].replace({\n",
    "    'DT': 'DI',\n",
    "    'EDGE': 'Edge',\n",
    "    'FS': 'S',\n",
    "    'EDGE/DT': 'Edge',\n",
    "    'DT/EDGE': 'DI',\n",
    "    'S/CB': 'S',\n",
    "    'CB/S': 'CB',\n",
    "    'SS': 'S',\n",
    "    \n",
    "})\n",
    "\n",
    "df_2020.Position.unique()"
   ]
  },
  {
   "cell_type": "markdown",
   "id": "8d62bd83",
   "metadata": {},
   "source": [
    "# 2021 Player Data"
   ]
  },
  {
   "cell_type": "code",
   "execution_count": 7,
   "id": "ee6ee2e3",
   "metadata": {},
   "outputs": [],
   "source": [
    "html_fp = '/Users/epainter/Desktop/bet_model_v2/data/raw/pr_2021.html'\n",
    "\n",
    "with open(html_fp, \"r\") as file:\n",
    "    html_content = file.read()\n",
    "    \n",
    "soup = BeautifulSoup(html_content, 'html.parser')\n",
    "\n",
    "td_tags = soup.find_all('td')\n",
    "\n",
    "td_text_list = []\n",
    "\n",
    "for td in td_tags:\n",
    "    td_text_list.append(td.text.strip())\n",
    "    \n",
    "player_list = td_text_list"
   ]
  },
  {
   "cell_type": "code",
   "execution_count": 8,
   "id": "0ebbaf14",
   "metadata": {},
   "outputs": [],
   "source": [
    "# Initialize lists to store components\n",
    "positions = []\n",
    "names = []\n",
    "ratings = []\n",
    "\n",
    "# Iterate through each item in player_list\n",
    "for item in player_list:\n",
    "    # Split each item to extract position, name, and rating\n",
    "    parts = item.split()\n",
    "    \n",
    "    # Extract position (first part)\n",
    "    position = parts[0]\n",
    "    \n",
    "    # Extract name (rest of the parts except last part which is rating)\n",
    "    name = ' '.join(parts[1:-1])\n",
    "    \n",
    "    # Extract rating (last part), remove '**' if present\n",
    "    rating = parts[-1].replace('**', '').replace('*', '').strip('()')\n",
    "    \n",
    "    # Append to respective lists\n",
    "    positions.append(position)\n",
    "    names.append(name)\n",
    "    ratings.append(rating)\n",
    "\n",
    "# Create DataFrame\n",
    "df_2021 = pd.DataFrame({\n",
    "    'Position': positions,\n",
    "    'Name': names,\n",
    "    'Rating': ratings\n",
    "})"
   ]
  },
  {
   "cell_type": "code",
   "execution_count": 9,
   "id": "a99901b4",
   "metadata": {},
   "outputs": [],
   "source": [
    "team_names_list = ['Tampa Bay Buccaneers', 'Kansas City Chiefs', 'Cleveland Browns', 'Buffalo Bills', \n",
    "                   'Baltimore Ravens', 'Green Bay Packers', 'Los Angeles Rams', 'Dallas Cowboys', \n",
    "                   'Minnesota Vikings', 'Denver Broncos', 'San Francisco 49ers', 'Washington Commanders', \n",
    "                   'Tennessee Titans', 'Indianapolis Colts', 'Seattle Seahawks','Pittsburgh Steelers', \n",
    "                   'New Orleans Saints', 'New England Patriots', 'New York Giants', 'Los Angeles Chargers',\n",
    "                   'Arizona Cardinals', 'Miami Dolphins', 'Chicago Bears', 'Cincinnati Bengals', \n",
    "                   'Atlanta Falcons', 'Las Vegas Raiders','Carolina Panthers', 'Jacksonville Jaguars', \n",
    "                   'Philadelphia Eagles', 'New York Jets', 'Detroit Lions', 'Houston Texans']\n",
    "\n",
    "team_names = []\n",
    "\n",
    "for team_name in team_names_list:\n",
    "    \n",
    "    # Repeat the team name 24 times (assuming 24 players per team)\n",
    "    team_names.extend([team_name] * 24)\n",
    "\n",
    "df_2021['Team'] = team_names\n",
    "df_2021['Season'] = 2021"
   ]
  },
  {
   "cell_type": "code",
   "execution_count": 10,
   "id": "adb4374a",
   "metadata": {},
   "outputs": [
    {
     "data": {
      "text/html": [
       "<div>\n",
       "<style scoped>\n",
       "    .dataframe tbody tr th:only-of-type {\n",
       "        vertical-align: middle;\n",
       "    }\n",
       "\n",
       "    .dataframe tbody tr th {\n",
       "        vertical-align: top;\n",
       "    }\n",
       "\n",
       "    .dataframe thead th {\n",
       "        text-align: right;\n",
       "    }\n",
       "</style>\n",
       "<table border=\"1\" class=\"dataframe\">\n",
       "  <thead>\n",
       "    <tr style=\"text-align: right;\">\n",
       "      <th></th>\n",
       "      <th>Position</th>\n",
       "      <th>Name</th>\n",
       "      <th>Rating</th>\n",
       "      <th>Team</th>\n",
       "      <th>Season</th>\n",
       "    </tr>\n",
       "  </thead>\n",
       "  <tbody>\n",
       "    <tr>\n",
       "      <th>0</th>\n",
       "      <td>QB</td>\n",
       "      <td>Tom Brady</td>\n",
       "      <td>93.3</td>\n",
       "      <td>Tampa Bay Buccaneers</td>\n",
       "      <td>2021</td>\n",
       "    </tr>\n",
       "    <tr>\n",
       "      <th>1</th>\n",
       "      <td>DI</td>\n",
       "      <td>Ndamukong Suh</td>\n",
       "      <td>62.4</td>\n",
       "      <td>Tampa Bay Buccaneers</td>\n",
       "      <td>2021</td>\n",
       "    </tr>\n",
       "    <tr>\n",
       "      <th>2</th>\n",
       "      <td>RB</td>\n",
       "      <td>Leonard Fournette</td>\n",
       "      <td>65.5</td>\n",
       "      <td>Tampa Bay Buccaneers</td>\n",
       "      <td>2021</td>\n",
       "    </tr>\n",
       "    <tr>\n",
       "      <th>3</th>\n",
       "      <td>DI</td>\n",
       "      <td>Vita Vea</td>\n",
       "      <td>89.9</td>\n",
       "      <td>Tampa Bay Buccaneers</td>\n",
       "      <td>2021</td>\n",
       "    </tr>\n",
       "    <tr>\n",
       "      <th>4</th>\n",
       "      <td>WR</td>\n",
       "      <td>Mike Evans</td>\n",
       "      <td>74.9</td>\n",
       "      <td>Tampa Bay Buccaneers</td>\n",
       "      <td>2021</td>\n",
       "    </tr>\n",
       "    <tr>\n",
       "      <th>...</th>\n",
       "      <td>...</td>\n",
       "      <td>...</td>\n",
       "      <td>...</td>\n",
       "      <td>...</td>\n",
       "      <td>...</td>\n",
       "    </tr>\n",
       "    <tr>\n",
       "      <th>763</th>\n",
       "      <td>CB</td>\n",
       "      <td>Desmond King II</td>\n",
       "      <td>67.0</td>\n",
       "      <td>Houston Texans</td>\n",
       "      <td>2021</td>\n",
       "    </tr>\n",
       "    <tr>\n",
       "      <th>764</th>\n",
       "      <td>RG</td>\n",
       "      <td>Marcus Cannon</td>\n",
       "      <td>70.1</td>\n",
       "      <td>Houston Texans</td>\n",
       "      <td>2021</td>\n",
       "    </tr>\n",
       "    <tr>\n",
       "      <th>765</th>\n",
       "      <td>S</td>\n",
       "      <td>Justin Reid</td>\n",
       "      <td>60.7</td>\n",
       "      <td>Houston Texans</td>\n",
       "      <td>2021</td>\n",
       "    </tr>\n",
       "    <tr>\n",
       "      <th>766</th>\n",
       "      <td>RT</td>\n",
       "      <td>Tytus Howard</td>\n",
       "      <td>62.1</td>\n",
       "      <td>Houston Texans</td>\n",
       "      <td>2021</td>\n",
       "    </tr>\n",
       "    <tr>\n",
       "      <th>767</th>\n",
       "      <td>S</td>\n",
       "      <td>Lonnie Johnson Jr.</td>\n",
       "      <td>65.5</td>\n",
       "      <td>Houston Texans</td>\n",
       "      <td>2021</td>\n",
       "    </tr>\n",
       "  </tbody>\n",
       "</table>\n",
       "<p>768 rows × 5 columns</p>\n",
       "</div>"
      ],
      "text/plain": [
       "    Position                Name Rating                  Team  Season\n",
       "0         QB           Tom Brady   93.3  Tampa Bay Buccaneers    2021\n",
       "1         DI       Ndamukong Suh   62.4  Tampa Bay Buccaneers    2021\n",
       "2         RB   Leonard Fournette   65.5  Tampa Bay Buccaneers    2021\n",
       "3         DI            Vita Vea   89.9  Tampa Bay Buccaneers    2021\n",
       "4         WR          Mike Evans   74.9  Tampa Bay Buccaneers    2021\n",
       "..       ...                 ...    ...                   ...     ...\n",
       "763       CB     Desmond King II   67.0        Houston Texans    2021\n",
       "764       RG       Marcus Cannon   70.1        Houston Texans    2021\n",
       "765        S         Justin Reid   60.7        Houston Texans    2021\n",
       "766       RT        Tytus Howard   62.1        Houston Texans    2021\n",
       "767        S  Lonnie Johnson Jr.   65.5        Houston Texans    2021\n",
       "\n",
       "[768 rows x 5 columns]"
      ]
     },
     "execution_count": 10,
     "metadata": {},
     "output_type": "execute_result"
    }
   ],
   "source": [
    "df_2021"
   ]
  },
  {
   "cell_type": "markdown",
   "id": "96581ad7",
   "metadata": {},
   "source": [
    "### Some 2021 cleaning"
   ]
  },
  {
   "cell_type": "code",
   "execution_count": 11,
   "id": "23fa5c23",
   "metadata": {},
   "outputs": [
    {
     "data": {
      "text/plain": [
       "array(['QB', 'DI', 'RB', 'WR', 'EDGE', 'TE', 'LB', 'LT', 'CB', 'LG', 'C',\n",
       "       'RG', 'S', 'RT', 'FB', 'ED'], dtype=object)"
      ]
     },
     "execution_count": 11,
     "metadata": {},
     "output_type": "execute_result"
    }
   ],
   "source": [
    "df_2021.Position.unique()"
   ]
  },
  {
   "cell_type": "code",
   "execution_count": 12,
   "id": "58edce57",
   "metadata": {},
   "outputs": [
    {
     "data": {
      "text/plain": [
       "array(['QB', 'DI', 'RB', 'WR', 'Edge', 'TE', 'LB', 'LT', 'CB', 'LG', 'C',\n",
       "       'RG', 'S', 'RT', 'FB'], dtype=object)"
      ]
     },
     "execution_count": 12,
     "metadata": {},
     "output_type": "execute_result"
    }
   ],
   "source": [
    "# Replace values\n",
    "df_2021['Position'] = df_2021['Position'].replace({\n",
    "    'EDGE': 'Edge',\n",
    "    'ED': 'Edge'  \n",
    "})\n",
    "\n",
    "df_2021.Position.unique()"
   ]
  },
  {
   "cell_type": "markdown",
   "id": "06c372d5",
   "metadata": {},
   "source": [
    "There is an issue with Franklin-Myers Rankings"
   ]
  },
  {
   "cell_type": "code",
   "execution_count": 13,
   "id": "f247d1af",
   "metadata": {},
   "outputs": [
    {
     "data": {
      "text/html": [
       "<div>\n",
       "<style scoped>\n",
       "    .dataframe tbody tr th:only-of-type {\n",
       "        vertical-align: middle;\n",
       "    }\n",
       "\n",
       "    .dataframe tbody tr th {\n",
       "        vertical-align: top;\n",
       "    }\n",
       "\n",
       "    .dataframe thead th {\n",
       "        text-align: right;\n",
       "    }\n",
       "</style>\n",
       "<table border=\"1\" class=\"dataframe\">\n",
       "  <thead>\n",
       "    <tr style=\"text-align: right;\">\n",
       "      <th></th>\n",
       "      <th>Position</th>\n",
       "      <th>Name</th>\n",
       "      <th>Rating</th>\n",
       "      <th>Team</th>\n",
       "      <th>Season</th>\n",
       "    </tr>\n",
       "  </thead>\n",
       "  <tbody>\n",
       "    <tr>\n",
       "      <th>703</th>\n",
       "      <td>Edge</td>\n",
       "      <td>John</td>\n",
       "      <td>Franklin-Myers(71.5</td>\n",
       "      <td>New York Jets</td>\n",
       "      <td>2021</td>\n",
       "    </tr>\n",
       "  </tbody>\n",
       "</table>\n",
       "</div>"
      ],
      "text/plain": [
       "    Position  Name               Rating           Team  Season\n",
       "703     Edge  John  Franklin-Myers(71.5  New York Jets    2021"
      ]
     },
     "execution_count": 13,
     "metadata": {},
     "output_type": "execute_result"
    }
   ],
   "source": [
    "df_2021[df_2021['Rating'] == 'Franklin-Myers(71.5']"
   ]
  },
  {
   "cell_type": "code",
   "execution_count": 14,
   "id": "04ea4e22",
   "metadata": {},
   "outputs": [],
   "source": [
    "# Some issues with player at index 635\n",
    "df_2021.loc[703, 'Position'] = 'Edge'\n",
    "df_2021.loc[703, 'Name'] = 'John Franklin-Myers'\n",
    "df_2021.loc[703, 'Rating'] = 71.5\n",
    "df_2021.loc[703, 'Team'] = 'New York Jets'"
   ]
  },
  {
   "cell_type": "code",
   "execution_count": 15,
   "id": "f4cfd45d",
   "metadata": {},
   "outputs": [
    {
     "data": {
      "text/plain": [
       "Position                   Edge\n",
       "Name        John Franklin-Myers\n",
       "Rating                     71.5\n",
       "Team              New York Jets\n",
       "Season                     2021\n",
       "Name: 703, dtype: object"
      ]
     },
     "execution_count": 15,
     "metadata": {},
     "output_type": "execute_result"
    }
   ],
   "source": [
    "df_2021.iloc[703]"
   ]
  },
  {
   "cell_type": "markdown",
   "id": "697830aa",
   "metadata": {},
   "source": [
    "# 2022 Player Data"
   ]
  },
  {
   "cell_type": "code",
   "execution_count": 16,
   "id": "710f5ee0",
   "metadata": {},
   "outputs": [],
   "source": [
    "html_fp = '/Users/epainter/Desktop/bet_model_v2/data/raw/pr_2022.html'\n",
    "\n",
    "with open(html_fp, \"r\") as file:\n",
    "    html_content = file.read()\n",
    "    \n",
    "soup = BeautifulSoup(html_content, 'html.parser')\n",
    "\n",
    "td_tags = soup.find_all('td')\n",
    "\n",
    "td_text_list = []\n",
    "\n",
    "for td in td_tags:\n",
    "    td_text_list.append(td.text.strip())\n",
    "    \n",
    "player_list = td_text_list"
   ]
  },
  {
   "cell_type": "code",
   "execution_count": 17,
   "id": "22a5c1ea",
   "metadata": {},
   "outputs": [],
   "source": [
    "# Initialize lists to store components\n",
    "positions = []\n",
    "names = []\n",
    "ratings = []\n",
    "\n",
    "# Iterate through each item in player_list\n",
    "for item in player_list:\n",
    "    # Split each item to extract position, name, and rating\n",
    "    parts = item.split()\n",
    "    \n",
    "    # Extract position (first part)\n",
    "    position = parts[0]\n",
    "    \n",
    "    # Extract name (rest of the parts except last part which is rating)\n",
    "    name = ' '.join(parts[1:-1])\n",
    "    \n",
    "    # Extract rating (last part), remove '**' if present\n",
    "    rating = parts[-1].replace('**', '').replace('*', '').strip('()')\n",
    "    \n",
    "    # Append to respective lists\n",
    "    positions.append(position)\n",
    "    names.append(name)\n",
    "    ratings.append(rating)\n",
    "\n",
    "# Create DataFrame\n",
    "df_2022 = pd.DataFrame({\n",
    "    'Position': positions,\n",
    "    'Name': names,\n",
    "    'Rating': ratings\n",
    "})"
   ]
  },
  {
   "cell_type": "code",
   "execution_count": 18,
   "id": "96c0c7c6",
   "metadata": {},
   "outputs": [],
   "source": [
    "team_names_list = ['Buffalo Bills', 'Tampa Bay Buccaneers', 'Los Angeles Chargers', 'Los Angeles Rams', \n",
    "                   'Philadelphia Eagles', 'Green Bay Packers', 'Cincinnati Bengals', 'Kansas City Chiefs',\n",
    "                  'Baltimore Ravens', 'San Francisco 49ers', 'Miami Dolphins', 'New Orleans Saints', \n",
    "                   'Cleveland Browns', 'Denver Broncos', 'Indianapolis Colts', 'Dallas Cowboys', \n",
    "                  'Minnesota Vikings', 'Washington Commanders', 'Tennessee Titans', 'New England Patriots',\n",
    "                  'Las Vegas Raiders', 'Pittsburgh Steelers', 'Arizona Cardinals', 'Carolina Panthers', \n",
    "                  'Detroit Lions', 'New York Jets', 'New York Giants', 'Jacksonville Jaguars', 'Seattle Seahawks',\n",
    "                  'Atlanta Falcons', 'Houston Texans', 'Chicago Bears']\n",
    "\n",
    "team_names = []\n",
    "\n",
    "for team_name in team_names_list:\n",
    "    \n",
    "    # Repeat the team name 24 times (assuming 24 players per team)\n",
    "    team_names.extend([team_name] * 24)\n",
    "\n",
    "df_2022['Team'] = team_names\n",
    "df_2022['season'] = 2022"
   ]
  },
  {
   "cell_type": "markdown",
   "id": "2c728661",
   "metadata": {},
   "source": [
    "### Some 2022 cleaning"
   ]
  },
  {
   "cell_type": "code",
   "execution_count": 19,
   "id": "2266db34",
   "metadata": {},
   "outputs": [
    {
     "data": {
      "text/plain": [
       "array(['QB', 'DI', 'RB', 'Edge', 'WR', 'LB', 'TE', 'LT', 'CB', 'LG', 'C',\n",
       "       'RG', 'S', 'RT', 'FB', 'LB/DB', 'Micah'], dtype=object)"
      ]
     },
     "execution_count": 19,
     "metadata": {},
     "output_type": "execute_result"
    }
   ],
   "source": [
    "df_2022.Position.unique()"
   ]
  },
  {
   "cell_type": "code",
   "execution_count": 20,
   "id": "a6125811",
   "metadata": {},
   "outputs": [],
   "source": [
    "# Replace values\n",
    "df_2022['Position'] = df_2022['Position'].replace({\n",
    "    'LB/DB': 'LB'  \n",
    "})"
   ]
  },
  {
   "cell_type": "code",
   "execution_count": 21,
   "id": "49cc21df",
   "metadata": {},
   "outputs": [],
   "source": [
    "# Issue with Derek Carr's rating\n",
    "df_2022['Rating'] = df_2022['Rating'].replace({'Carr': 82.0})\n",
    "df_2022['Rating'] = df_2022['Rating'].replace('N/A', 65.3)\n",
    "\n",
    "df_2022['Rating'] = df_2022['Rating'].astype(float)\n",
    "df_2022['Rating'] = df_2022['Rating'].apply(lambda x: f\"{x:.1f}\")\n",
    "df_2022['Rating'] = df_2022['Rating'].astype(float)"
   ]
  },
  {
   "cell_type": "code",
   "execution_count": 22,
   "id": "939c42de",
   "metadata": {},
   "outputs": [],
   "source": [
    "# Some issues with player at index 635\n",
    "df_2022.loc[635, 'Position'] = 'LB'\n",
    "df_2022.loc[635, 'Name'] = 'Micah McFadden'\n",
    "df_2022.loc[635, 'Rating'] = 74.8\n",
    "df_2022.loc[635, 'Team'] = 'New York Giants'"
   ]
  },
  {
   "cell_type": "code",
   "execution_count": 23,
   "id": "20810614",
   "metadata": {},
   "outputs": [
    {
     "data": {
      "text/plain": [
       "array(['QB', 'DI', 'RB', 'Edge', 'WR', 'LB', 'TE', 'LT', 'CB', 'LG', 'C',\n",
       "       'RG', 'S', 'RT', 'FB'], dtype=object)"
      ]
     },
     "execution_count": 23,
     "metadata": {},
     "output_type": "execute_result"
    }
   ],
   "source": [
    "df_2022.Position.unique()"
   ]
  },
  {
   "cell_type": "markdown",
   "id": "d0dd00f0",
   "metadata": {},
   "source": [
    "# 2023 Player Data"
   ]
  },
  {
   "cell_type": "code",
   "execution_count": 24,
   "id": "032a5b73",
   "metadata": {},
   "outputs": [],
   "source": [
    "html_fp = '/Users/epainter/Desktop/bet_model_v2/data/raw/pr_2023.html'\n",
    "\n",
    "with open(html_fp, \"r\") as file:\n",
    "    html_content = file.read()\n",
    "    \n",
    "soup = BeautifulSoup(html_content, 'html.parser')\n",
    "\n",
    "td_tags = soup.find_all('td')\n",
    "\n",
    "td_text_list = []\n",
    "\n",
    "for td in td_tags:\n",
    "    td_text_list.append(td.text.strip())\n",
    "    \n",
    "player_list = td_text_list"
   ]
  },
  {
   "cell_type": "code",
   "execution_count": 25,
   "id": "715c44cd",
   "metadata": {},
   "outputs": [],
   "source": [
    "# Initialize lists to store components\n",
    "positions = []\n",
    "names = []\n",
    "ratings = []\n",
    "\n",
    "# Iterate through each item in player_list\n",
    "for item in player_list:\n",
    "    \n",
    "    if item in ['OFFENSE', 'DEFENSE']:\n",
    "        continue\n",
    "    # Split each item to extract position, name, and rating\n",
    "    parts = item.split()\n",
    "    \n",
    "    # Extract position (first part)\n",
    "    position = parts[0]\n",
    "    \n",
    "    # Extract name (rest of the parts except last part which is rating)\n",
    "    name = ' '.join(parts[1:-1])\n",
    "    \n",
    "    # Extract rating (last part), remove '**' if present\n",
    "    rating = parts[-1].replace('**', '').replace('*', '').strip('()')\n",
    "    \n",
    "    # Append to respective lists\n",
    "    positions.append(position)\n",
    "    names.append(name)\n",
    "    ratings.append(rating)\n",
    "\n",
    "# Create DataFrame\n",
    "df_2023 = pd.DataFrame({\n",
    "    'Position': positions,\n",
    "    'Name': names,\n",
    "    'Rating': ratings\n",
    "})"
   ]
  },
  {
   "cell_type": "code",
   "execution_count": 26,
   "id": "ba776f72",
   "metadata": {},
   "outputs": [],
   "source": [
    "team_names_list = ['Philadelphia Eagles', 'San Francisco 49ers', 'Cincinnati Bengals', 'Kansas City Chiefs', \n",
    "                   'Dallas Cowboys', 'Buffalo Bills', 'New York Jets', 'Baltimore Ravens',\n",
    "                  'Los Angeles Chargers', 'Pittsburgh Steelers', 'Seattle Seahawks', 'Miami Dolphins', \n",
    "                   'Detroit Lions', 'Cleveland Browns', 'Jacksonville Jaguars', 'Minnesota Vikings', \n",
    "                  'New England Patriots', 'Washington Commanders', 'New Orleans Saints', 'New York Giants',\n",
    "                  'Las Vegas Raiders', 'Chicago Bears', 'Green Bay Packers', 'Carolina Panthers', \n",
    "                  'Tennessee Titans', 'Denver Broncos', 'Atlanta Falcons', 'Tampa Bay Buccaneers', 'Houston Texans',\n",
    "                  'Indianapolis Colts', 'Los Angeles Rams', 'Arizona Cardinals']\n",
    "\n",
    "team_names = []\n",
    "\n",
    "for team_name in team_names_list:\n",
    "    \n",
    "    # Repeat the team name 24 times (assuming 24 players per team)\n",
    "    team_names.extend([team_name] * 24)\n",
    "\n",
    "df_2023['Team'] = team_names\n",
    "df_2023['Season'] = 2023"
   ]
  },
  {
   "cell_type": "markdown",
   "id": "a203df2f",
   "metadata": {},
   "source": [
    "### Some 2023 cleaning"
   ]
  },
  {
   "cell_type": "code",
   "execution_count": 27,
   "id": "493cc686",
   "metadata": {},
   "outputs": [
    {
     "data": {
      "text/plain": [
       "array(['QB', 'DI', 'RB', 'Edge', 'WR', 'LB', 'TE', 'LT', 'CB', 'LG', 'C',\n",
       "       'RG', 'S', 'RT'], dtype=object)"
      ]
     },
     "execution_count": 27,
     "metadata": {},
     "output_type": "execute_result"
    }
   ],
   "source": [
    "df_2023.Position.unique()"
   ]
  },
  {
   "cell_type": "code",
   "execution_count": 28,
   "id": "e05df032",
   "metadata": {
    "scrolled": true
   },
   "outputs": [
    {
     "data": {
      "text/plain": [
       "array(['88.2', '60.2', '78.1', '92.3', '63.5', '84.6', '87.7', '89.8',\n",
       "       '80.4', '83.8', '64.6', '78.6', '78.2', '60.3', '81.7', '71.7',\n",
       "       '72.1', '73.1', '89.4', '72.2', '72.7', '79.4', '84.8', '69.1',\n",
       "       '77.7', '80.1', '84.4', '63.4', '90.6', '74.1', '64.1', '78.7',\n",
       "       '63.8', '68.1', '85.7', '84.7', '79.6', '91.7', '81.0', '59.5',\n",
       "       '61.0', '62.9', '77.9', '51.8', '69.4', '69.7', '92.0', '85.2',\n",
       "       '80.8', '68.7', '83.9', '82.9', '78.4', '69.9', '70.2', '79.0',\n",
       "       '56.4', '52.3', '74.6', '75.4', '53.7', '67.1', '65.1', '64.5',\n",
       "       '67.6', '56.0', '81.3', '76.2', '37.0', '57.5', '50.2', '64.8',\n",
       "       '78.0', '67.7', '77.3', '91.3', '59.3', '61.2', '89.9', '74.9',\n",
       "       '72.3', '70.3', '71.8', '68.2', '90.2', '79.9', '91.8', '86.2',\n",
       "       '73.9', '62.6', '66.1', '65.5', '60.9', '73.3', '79.1', '60.5',\n",
       "       '66.0', '72.8', '71.9', '67.5', '73.2', '73.6', '89.1', '85.8',\n",
       "       '66.4', '80.9', '47.9', '64.2', '77.1', '66.5', '48.4', '73.8',\n",
       "       '58.9', '53.5', '67.8', '61.4', '65.7', '53.4', '68.4', '77.5',\n",
       "       '90.1', '69.8', '82.6', '82.7', '66.8', '69.0', '58.6', '55.2',\n",
       "       '57.8', '87.9', '56.8', '72.5', '69.6', '74.3', '2021', '69.5',\n",
       "       '86.9', '75.7', '70.5', '74.8', '60.1', '61.6', '75.8', '75.5',\n",
       "       '80.7', '76.8', '65.2', '52.5', '74.7', '87.6', '63.6', '80.0',\n",
       "       '51.0', '62.2', '76.0', '78.9', '82.1', '70.6', '47.1', '84.0',\n",
       "       '28.7', '72.6', '74.0', '77.6', '59.8', '58.5', '73.5', '61.7',\n",
       "       '48.9', '68.8', '65.8', '66.6', '55.0', '77.8', '62.8', '66.9',\n",
       "       '82.4', '79.3', '61.9', '76.9', '91.5', '57.4', '55.1', '90.7',\n",
       "       '52.8', '63.1', '55.8', '57.1', '66.7', '81.9', '82.2', '73.4',\n",
       "       '67.2', '88.8', '92.1', '64.3', '62.7', '55.7', '39.8', '59.2',\n",
       "       '78.5', '68.5', '57.9', '72.4', '67.9', '53.9', '80.2', '91.9',\n",
       "       '74.4', '71.6', '70.9', '64.0', '89.5', '80.6', '55.3', '77.0',\n",
       "       '90.3', '81.2', '92.5', '64.9', '83.3', '75.1', '73.7', '87.5',\n",
       "       '76.7', '71.5', '72.9', '58.0', '48.1', '63.9', '52.0', '60.6',\n",
       "       '72.0', '87.1', '81.5', '65.6', '78.8', '90.4', '45.3', '47.2',\n",
       "       '57.0', '58.7', '68.6', '53.1', '83.1', '70.1', '67.4', '54.6',\n",
       "       '74.5', '82.5', '76.3', '86.4', '56.6', '76.6', '43.6', '87.2',\n",
       "       '60.0', '67.0', '68.9', '85.3', '64.7', '50.6', '49.1', '45.4',\n",
       "       '91.6', '80.3', '74.2', '59.6', '76.1', '70.8', '78.3', '61.1',\n",
       "       '41.8', '61.8', '71.4', '55.5', '75.6', '58.4', '84.1', '53.6',\n",
       "       '57.6', '75.3', '54.1', '76.4', '45.8', '51.4', '62.4', '69.2',\n",
       "       '81.6', '76.5', '65.9', '49.8', '86.1', '81.4', '70.4', '51.9',\n",
       "       '79.8', '71.1', '60.4', '47.5', '68.3', '65.3', '57.3', '52.9',\n",
       "       '69.3', '81.1', '85.9', '82.8', '63.3', '58.3', '40.3', '59.9',\n",
       "       '67.3', '79.5', '66.2', '86.8', '62.3', '56.2', '70.7', '55.9',\n",
       "       '71.3', '95.3', '86.7', '83.2', 'Ebiketie(64.5', '58.2', '40.2',\n",
       "       '77.2', '75.2', '59.4', '95.0', '86.6', '50.8', '63.2', '83.7',\n",
       "       '43.7', '85.1', '46.7', '82.0', '88.9', '65.4', '83.6', '68.0',\n",
       "       '56.1', '37.7', '70.0', '54.7', '82.3', '63.7', '61.3', '40.6',\n",
       "       '48.2', '54.3', '90.5', '86.3', '56.3', '57.2', '71.0', '32.4',\n",
       "       '43.4', '62.5', '83.0', '65.0'], dtype=object)"
      ]
     },
     "execution_count": 28,
     "metadata": {},
     "output_type": "execute_result"
    }
   ],
   "source": [
    "df_2023.Rating.unique()"
   ]
  },
  {
   "cell_type": "code",
   "execution_count": 29,
   "id": "05a91d43",
   "metadata": {},
   "outputs": [
    {
     "data": {
      "text/html": [
       "<div>\n",
       "<style scoped>\n",
       "    .dataframe tbody tr th:only-of-type {\n",
       "        vertical-align: middle;\n",
       "    }\n",
       "\n",
       "    .dataframe tbody tr th {\n",
       "        vertical-align: top;\n",
       "    }\n",
       "\n",
       "    .dataframe thead th {\n",
       "        text-align: right;\n",
       "    }\n",
       "</style>\n",
       "<table border=\"1\" class=\"dataframe\">\n",
       "  <thead>\n",
       "    <tr style=\"text-align: right;\">\n",
       "      <th></th>\n",
       "      <th>Position</th>\n",
       "      <th>Name</th>\n",
       "      <th>Rating</th>\n",
       "      <th>Team</th>\n",
       "      <th>Season</th>\n",
       "    </tr>\n",
       "  </thead>\n",
       "  <tbody>\n",
       "    <tr>\n",
       "      <th>631</th>\n",
       "      <td>Edge</td>\n",
       "      <td>Arnold</td>\n",
       "      <td>Ebiketie(64.5</td>\n",
       "      <td>Atlanta Falcons</td>\n",
       "      <td>2023</td>\n",
       "    </tr>\n",
       "  </tbody>\n",
       "</table>\n",
       "</div>"
      ],
      "text/plain": [
       "    Position    Name         Rating             Team  Season\n",
       "631     Edge  Arnold  Ebiketie(64.5  Atlanta Falcons    2023"
      ]
     },
     "execution_count": 29,
     "metadata": {},
     "output_type": "execute_result"
    }
   ],
   "source": [
    "df_2023[df_2023['Rating'] == 'Ebiketie(64.5']"
   ]
  },
  {
   "cell_type": "code",
   "execution_count": 30,
   "id": "af8a2a63",
   "metadata": {},
   "outputs": [],
   "source": [
    "df_2023.loc[631, 'Name'] = 'Arnold Ebiketie'\n",
    "df_2023.loc[631, 'Rating'] = 64.5"
   ]
  },
  {
   "cell_type": "code",
   "execution_count": 31,
   "id": "030cefb6",
   "metadata": {},
   "outputs": [
    {
     "data": {
      "text/plain": [
       "array(['QB', 'DI', 'RB', 'Edge', 'WR', 'LB', 'TE', 'LT', 'CB', 'LG', 'C',\n",
       "       'RG', 'S', 'RT'], dtype=object)"
      ]
     },
     "execution_count": 31,
     "metadata": {},
     "output_type": "execute_result"
    }
   ],
   "source": [
    "df_2023.Position.unique()"
   ]
  },
  {
   "cell_type": "markdown",
   "id": "e19f2abc",
   "metadata": {},
   "source": [
    "# Player Rating Preliminary Cleaning"
   ]
  },
  {
   "cell_type": "markdown",
   "id": "adab053d",
   "metadata": {},
   "source": [
    "We now have player ratings for every NFL team for each NFL season going back to the 2020 season.\n",
    "\n",
    "There are a few things to clean up before we can save these files.\n",
    "\n",
    "1. For 2023, PFF did not record stats for FB's. So we can get rid of this column for all other seasons. This ensures that we have the same columns across all data frames.\n",
    "\n",
    "2. Make the *Rating* column values floats."
   ]
  },
  {
   "cell_type": "code",
   "execution_count": 32,
   "id": "a9d53118",
   "metadata": {
    "scrolled": true
   },
   "outputs": [
    {
     "data": {
      "text/plain": [
       "(Position    0\n",
       " Name        0\n",
       " Rating      0\n",
       " Team        0\n",
       " Season      0\n",
       " dtype: int64,\n",
       " Position    0\n",
       " Name        0\n",
       " Rating      0\n",
       " Team        0\n",
       " Season      0\n",
       " dtype: int64,\n",
       " Position    0\n",
       " Name        0\n",
       " Rating      0\n",
       " Team        0\n",
       " season      0\n",
       " dtype: int64,\n",
       " Position    0\n",
       " Name        0\n",
       " Rating      0\n",
       " Team        0\n",
       " Season      0\n",
       " dtype: int64)"
      ]
     },
     "execution_count": 32,
     "metadata": {},
     "output_type": "execute_result"
    }
   ],
   "source": [
    "df_2020.isna().sum(), df_2021.isna().sum(), df_2022.isna().sum(), df_2023.isna().sum()"
   ]
  },
  {
   "cell_type": "markdown",
   "id": "e05149a5",
   "metadata": {},
   "source": [
    "## 1. Get rid of rows with FB"
   ]
  },
  {
   "cell_type": "code",
   "execution_count": 34,
   "id": "c9675ea8",
   "metadata": {
    "scrolled": true
   },
   "outputs": [],
   "source": [
    "# Drop rows in place\n",
    "\n",
    "df_2020.drop(df_2020[df_2020['Position'] == 'FB'].index, inplace=True)\n",
    "df_2021.drop(df_2021[df_2021['Position'] == 'FB'].index, inplace=True)\n",
    "df_2022.drop(df_2022[df_2022['Position'] == 'FB'].index, inplace=True)\n"
   ]
  },
  {
   "cell_type": "markdown",
   "id": "9507339c",
   "metadata": {},
   "source": [
    "## 2. Convert Rating to float"
   ]
  },
  {
   "cell_type": "code",
   "execution_count": 35,
   "id": "84411ec8",
   "metadata": {},
   "outputs": [],
   "source": [
    "df_2020['Rating'] = df_2020['Rating'].astype(float)\n",
    "df_2021['Rating'] = df_2021['Rating'].astype(float)\n",
    "df_2022['Rating'] = df_2022['Rating'].astype(float)\n",
    "df_2023['Rating'] = df_2023['Rating'].astype(float)"
   ]
  },
  {
   "cell_type": "markdown",
   "id": "e6fb6d34",
   "metadata": {},
   "source": [
    "# Write to CSV"
   ]
  },
  {
   "cell_type": "code",
   "execution_count": 37,
   "id": "0e63aa10",
   "metadata": {},
   "outputs": [],
   "source": [
    "\n",
    "df_2020.to_csv('/Users/epainter/Desktop/bet_model_v2/data/raw/pr_2020_raw.csv', index=False)\n",
    "\n",
    "df_2021.to_csv('/Users/epainter/Desktop/bet_model_v2/data/raw/pr_2021_raw.csv', index=False)\n",
    "\n",
    "df_2022.to_csv('/Users/epainter/Desktop/bet_model_v2/data/raw/pr_2022_raw.csv', index=False)\n",
    "\n",
    "df_2023.to_csv('/Users/epainter/Desktop/bet_model_v2/data/raw/pr_2023_raw.csv', index=False)\n"
   ]
  },
  {
   "cell_type": "code",
   "execution_count": null,
   "id": "56e2f686",
   "metadata": {},
   "outputs": [],
   "source": []
  }
 ],
 "metadata": {
  "kernelspec": {
   "display_name": "Python 3 (ipykernel)",
   "language": "python",
   "name": "python3"
  },
  "language_info": {
   "codemirror_mode": {
    "name": "ipython",
    "version": 3
   },
   "file_extension": ".py",
   "mimetype": "text/x-python",
   "name": "python",
   "nbconvert_exporter": "python",
   "pygments_lexer": "ipython3",
   "version": "3.9.12"
  }
 },
 "nbformat": 4,
 "nbformat_minor": 5
}
