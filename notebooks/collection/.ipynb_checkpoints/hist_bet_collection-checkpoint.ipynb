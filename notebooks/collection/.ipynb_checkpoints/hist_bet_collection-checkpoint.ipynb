{
 "cells": [
  {
   "cell_type": "markdown",
   "id": "7f357ff1",
   "metadata": {},
   "source": [
    "# Collecting Historical Game-by-Game NFL Betting Data"
   ]
  },
  {
   "cell_type": "markdown",
   "id": "60339db5",
   "metadata": {},
   "source": [
    "This is meant to collect betting data for each game between the seasons specified.\n",
    "\n",
    "Has information such as the winner, spread, and over/under numbers."
   ]
  },
  {
   "cell_type": "code",
   "execution_count": 1,
   "id": "a238dfae",
   "metadata": {},
   "outputs": [
    {
     "name": "stderr",
     "output_type": "stream",
     "text": [
      "/Users/epainter/opt/anaconda3/lib/python3.9/site-packages/pandas/core/computation/expressions.py:21: UserWarning: Pandas requires version '2.8.4' or newer of 'numexpr' (version '2.8.1' currently installed).\n",
      "  from pandas.core.computation.check import NUMEXPR_INSTALLED\n",
      "/Users/epainter/opt/anaconda3/lib/python3.9/site-packages/pandas/core/arrays/masked.py:60: UserWarning: Pandas requires version '1.3.6' or newer of 'bottleneck' (version '1.3.4' currently installed).\n",
      "  from pandas.core import (\n"
     ]
    }
   ],
   "source": [
    "import pandas as pd\n",
    "from urllib.request import urlopen\n",
    "from bs4 import BeautifulSoup"
   ]
  },
  {
   "cell_type": "code",
   "execution_count": 2,
   "id": "b3ba4b1a",
   "metadata": {},
   "outputs": [
    {
     "name": "stdout",
     "output_type": "stream",
     "text": [
      "Processing data for 2020...\n",
      "Processing data for 2021...\n",
      "Processing data for 2022...\n",
      "Processing data for 2023...\n",
      "Processing data for 2024...\n",
      "Data saved to /Users/epainter/Desktop/bet_model_v2/data/raw/hist_bet_raw.csv\n"
     ]
    }
   ],
   "source": [
    "def fetch_nfl_data(start_year, end_year, output_file):\n",
    "    \"\"\"\n",
    "    Retrieves NFL game data for specified years and saves it to a CSV file.\n",
    "\n",
    "    Parameters:\n",
    "        start_year (int): The starting year of the NFL seasons to fetch.\n",
    "        end_year (int): The ending year (inclusive) of the NFL seasons to fetch.\n",
    "        output_file (str): File path to save the fetched data as a CSV.\n",
    "\n",
    "    Returns:\n",
    "        None\n",
    "    \"\"\"\n",
    "    all_nfl_data = pd.DataFrame()\n",
    "\n",
    "    for year in range(start_year, end_year + 1):\n",
    "        print(f\"Processing data for {year}...\")\n",
    "        url = f'https://www.sportsoddshistory.com/nfl-game-season/?y={year}'\n",
    "        webpage = urlopen(url)\n",
    "        html = webpage.read().decode('utf-8')\n",
    "        soup = BeautifulSoup(html, 'html.parser')\n",
    "\n",
    "        weeks = []\n",
    "        data_rows = []\n",
    "\n",
    "        for h3_tag in soup.find_all('h3')[3:]:\n",
    "            week_name = h3_tag.text\n",
    "            table_tag = h3_tag.find_next('table')\n",
    "\n",
    "            if table_tag:\n",
    "                rows = table_tag.find_all('tr')\n",
    "                headers = [th.text.strip() for th in rows[0].find_all('th')]\n",
    "\n",
    "                for row in rows[1:]:\n",
    "                    data = [td.text.strip() for td in row.find_all('td')]\n",
    "                    data_rows.append(data)\n",
    "                    weeks.append(week_name)\n",
    "\n",
    "        df = pd.DataFrame(data_rows, columns=headers)\n",
    "        df['Week'] = weeks\n",
    "        all_nfl_data = pd.concat([all_nfl_data, df], ignore_index=True)\n",
    "\n",
    "    all_nfl_data.to_csv(output_file, index=False)\n",
    "    print(f\"Data saved to {output_file}\")"
   ]
  },
  {
   "cell_type": "code",
   "execution_count": null,
   "id": "6f4fac3c",
   "metadata": {},
   "outputs": [],
   "source": [
    "fp = '/Users/epainter/Desktop/bet_model_v2/data/raw/hist_bet_raw.csv'\n",
    "fetch_nfl_data(2020, 2024, fp)"
   ]
  }
 ],
 "metadata": {
  "kernelspec": {
   "display_name": "Python 3 (ipykernel)",
   "language": "python",
   "name": "python3"
  },
  "language_info": {
   "codemirror_mode": {
    "name": "ipython",
    "version": 3
   },
   "file_extension": ".py",
   "mimetype": "text/x-python",
   "name": "python",
   "nbconvert_exporter": "python",
   "pygments_lexer": "ipython3",
   "version": "3.9.12"
  }
 },
 "nbformat": 4,
 "nbformat_minor": 5
}
